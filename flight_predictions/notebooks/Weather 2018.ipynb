{
 "cells": [
  {
   "cell_type": "code",
   "execution_count": 1,
   "metadata": {
    "ExecuteTime": {
     "end_time": "2019-05-11T20:47:25.440144Z",
     "start_time": "2019-05-11T20:47:24.389268Z"
    }
   },
   "outputs": [],
   "source": [
    "import pandas as pd\n",
    "import numpy as np\n",
    "import glob\n",
    "import os"
   ]
  },
  {
   "cell_type": "code",
   "execution_count": 2,
   "metadata": {
    "ExecuteTime": {
     "end_time": "2019-05-11T20:47:42.926450Z",
     "start_time": "2019-05-11T20:47:26.810679Z"
    }
   },
   "outputs": [
    {
     "name": "stderr",
     "output_type": "stream",
     "text": [
      "/Users/dmitriykats/anaconda3/lib/python3.7/site-packages/ipykernel_launcher.py:7: DtypeWarning: Columns (26) have mixed types. Specify dtype option on import or set low_memory=False.\n",
      "  import sys\n",
      "/Users/dmitriykats/anaconda3/lib/python3.7/site-packages/ipykernel_launcher.py:7: DtypeWarning: Columns (15,21,22,23) have mixed types. Specify dtype option on import or set low_memory=False.\n",
      "  import sys\n",
      "/Users/dmitriykats/anaconda3/lib/python3.7/site-packages/ipykernel_launcher.py:7: DtypeWarning: Columns (21,22,23) have mixed types. Specify dtype option on import or set low_memory=False.\n",
      "  import sys\n",
      "/Users/dmitriykats/anaconda3/lib/python3.7/site-packages/ipykernel_launcher.py:7: FutureWarning: Sorting because non-concatenation axis is not aligned. A future version\n",
      "of pandas will change to not sort by default.\n",
      "\n",
      "To accept the future behavior, pass 'sort=False'.\n",
      "\n",
      "To retain the current behavior and silence the warning, pass 'sort=True'.\n",
      "\n",
      "  import sys\n"
     ]
    }
   ],
   "source": [
    "#import the weather files for top 20 origin airports of 2018 obtained from:\n",
    "# https://mesonet.agron.iastate.edu/ASOS/\n",
    "path = './Data/Weather/'\n",
    "all_files = glob.glob(os.path.join(path, \"*.csv\"))     # advisable to use os.path.join as this makes concatenation OS independent\n",
    "\n",
    "df_from_each_file = (pd.read_csv(f, parse_dates=['valid']) for f in all_files)\n",
    "concatenated_df = pd.concat(df_from_each_file)"
   ]
  },
  {
   "cell_type": "code",
   "execution_count": 3,
   "metadata": {
    "ExecuteTime": {
     "end_time": "2019-05-11T20:47:44.763596Z",
     "start_time": "2019-05-11T20:47:44.760116Z"
    }
   },
   "outputs": [],
   "source": [
    "weather_df = concatenated_df"
   ]
  },
  {
   "cell_type": "code",
   "execution_count": 4,
   "metadata": {
    "ExecuteTime": {
     "end_time": "2019-05-11T20:47:47.137442Z",
     "start_time": "2019-05-11T20:47:47.132945Z"
    }
   },
   "outputs": [],
   "source": [
    "pd.set_option('display.max_rows', 50)\n",
    "pd.set_option('display.max_columns', 200)\n",
    "pd.set_option('display.width', 100)\n",
    "pd.set_option('display.max_info_columns', 200)"
   ]
  },
  {
   "cell_type": "code",
   "execution_count": 5,
   "metadata": {
    "ExecuteTime": {
     "end_time": "2019-05-11T20:47:50.423778Z",
     "start_time": "2019-05-11T20:47:50.406966Z"
    },
    "scrolled": true
   },
   "outputs": [
    {
     "data": {
      "text/plain": [
       "Index(['alti', 'drct', 'dwpf', 'feel', 'gust', 'ice_accretion_1hr', 'ice_accretion_3hr',\n",
       "       'ice_accretion_6hr', 'jfstation', 'lcstation', 'metar', 'mslp', 'p01i', 'peak_wind_drct',\n",
       "       'peak_wind_gust', 'peak_wind_time', 'relh', 'sknt', 'skyc1', 'skyc2', 'skyc3', 'skyc4',\n",
       "       'skyl1', 'skyl2', 'skyl3', 'skyl4', 'station', 'tmpf', 'valid', 'vsby', 'wxcodes'],\n",
       "      dtype='object')"
      ]
     },
     "execution_count": 5,
     "metadata": {},
     "output_type": "execute_result"
    }
   ],
   "source": [
    "weather_df.columns"
   ]
  },
  {
   "cell_type": "code",
   "execution_count": 7,
   "metadata": {
    "ExecuteTime": {
     "end_time": "2019-05-11T20:49:55.463024Z",
     "start_time": "2019-05-11T20:49:53.245809Z"
    }
   },
   "outputs": [],
   "source": [
    "weather_df = weather_df[['station','valid', 'tmpf','vsby','gust','sknt','p01i',\n",
    "                         'ice_accretion_3hr','ice_accretion_6hr',]]"
   ]
  },
  {
   "cell_type": "code",
   "execution_count": 8,
   "metadata": {
    "ExecuteTime": {
     "end_time": "2019-05-11T20:49:58.276797Z",
     "start_time": "2019-05-11T20:49:58.271004Z"
    }
   },
   "outputs": [
    {
     "data": {
      "text/plain": [
       "Index(['station', 'valid', 'tmpf', 'vsby', 'gust', 'sknt', 'p01i', 'ice_accretion_3hr',\n",
       "       'ice_accretion_6hr'],\n",
       "      dtype='object')"
      ]
     },
     "execution_count": 8,
     "metadata": {},
     "output_type": "execute_result"
    }
   ],
   "source": [
    "weather_df.columns"
   ]
  },
  {
   "cell_type": "code",
   "execution_count": 22,
   "metadata": {
    "ExecuteTime": {
     "end_time": "2019-05-11T20:56:45.685179Z",
     "start_time": "2019-05-11T20:56:44.573301Z"
    }
   },
   "outputs": [],
   "source": [
    "weather_df = weather_df.fillna(0)"
   ]
  },
  {
   "cell_type": "code",
   "execution_count": 21,
   "metadata": {
    "ExecuteTime": {
     "end_time": "2019-05-11T20:56:36.805810Z",
     "start_time": "2019-05-11T20:56:36.191803Z"
    }
   },
   "outputs": [],
   "source": [
    "weather_df['p01i'] = pd.to_numeric(weather_df.p01i, errors='coerce')"
   ]
  },
  {
   "cell_type": "code",
   "execution_count": null,
   "metadata": {},
   "outputs": [],
   "source": []
  },
  {
   "cell_type": "code",
   "execution_count": 9,
   "metadata": {
    "ExecuteTime": {
     "end_time": "2019-05-11T20:50:21.788502Z",
     "start_time": "2019-05-11T20:50:10.139847Z"
    }
   },
   "outputs": [
    {
     "name": "stderr",
     "output_type": "stream",
     "text": [
      "/Users/dmitriykats/anaconda3/lib/python3.7/site-packages/ipykernel_launcher.py:1: SettingWithCopyWarning: \n",
      "A value is trying to be set on a copy of a slice from a DataFrame.\n",
      "Try using .loc[row_indexer,col_indexer] = value instead\n",
      "\n",
      "See the caveats in the documentation: http://pandas.pydata.org/pandas-docs/stable/indexing.html#indexing-view-versus-copy\n",
      "  \"\"\"Entry point for launching an IPython kernel.\n"
     ]
    }
   ],
   "source": [
    "weather_df['valid_new'] = weather_df.valid.apply(lambda x: x.replace(minute=0))"
   ]
  },
  {
   "cell_type": "code",
   "execution_count": 10,
   "metadata": {
    "ExecuteTime": {
     "end_time": "2019-05-11T20:50:52.626810Z",
     "start_time": "2019-05-11T20:50:52.296286Z"
    }
   },
   "outputs": [],
   "source": [
    "df1 = pd.DataFrame(weather_df.groupby(['station','valid_new'])['tmpf','vsby'].min())"
   ]
  },
  {
   "cell_type": "code",
   "execution_count": 23,
   "metadata": {
    "ExecuteTime": {
     "end_time": "2019-05-11T20:56:47.851308Z",
     "start_time": "2019-05-11T20:56:47.587984Z"
    }
   },
   "outputs": [],
   "source": [
    "df2 = pd.DataFrame(weather_df.groupby(['station','valid_new'])['p01i'].max())"
   ]
  },
  {
   "cell_type": "code",
   "execution_count": 24,
   "metadata": {
    "ExecuteTime": {
     "end_time": "2019-05-11T20:56:51.501133Z",
     "start_time": "2019-05-11T20:56:51.233743Z"
    }
   },
   "outputs": [],
   "source": [
    "df3 = pd.DataFrame(weather_df.groupby(['station','valid_new'])['gust','sknt'].max())"
   ]
  },
  {
   "cell_type": "code",
   "execution_count": 25,
   "metadata": {
    "ExecuteTime": {
     "end_time": "2019-05-11T20:56:55.933650Z",
     "start_time": "2019-05-11T20:56:53.887670Z"
    }
   },
   "outputs": [],
   "source": [
    "df_test = pd.merge(df1, df2, how='left', left_index=True, right_index=True)"
   ]
  },
  {
   "cell_type": "code",
   "execution_count": 26,
   "metadata": {
    "ExecuteTime": {
     "end_time": "2019-05-11T20:56:57.583338Z",
     "start_time": "2019-05-11T20:56:56.383715Z"
    }
   },
   "outputs": [],
   "source": [
    "df_test = df_test.merge(df3, how='left', left_index=True, right_index=True)"
   ]
  },
  {
   "cell_type": "code",
   "execution_count": 27,
   "metadata": {
    "ExecuteTime": {
     "end_time": "2019-05-11T20:56:57.692476Z",
     "start_time": "2019-05-11T20:56:57.667772Z"
    }
   },
   "outputs": [
    {
     "data": {
      "text/html": [
       "<div>\n",
       "<style scoped>\n",
       "    .dataframe tbody tr th:only-of-type {\n",
       "        vertical-align: middle;\n",
       "    }\n",
       "\n",
       "    .dataframe tbody tr th {\n",
       "        vertical-align: top;\n",
       "    }\n",
       "\n",
       "    .dataframe thead th {\n",
       "        text-align: right;\n",
       "    }\n",
       "</style>\n",
       "<table border=\"1\" class=\"dataframe\">\n",
       "  <thead>\n",
       "    <tr style=\"text-align: right;\">\n",
       "      <th></th>\n",
       "      <th></th>\n",
       "      <th>tmpf</th>\n",
       "      <th>vsby</th>\n",
       "      <th>p01i</th>\n",
       "      <th>gust</th>\n",
       "      <th>sknt</th>\n",
       "    </tr>\n",
       "    <tr>\n",
       "      <th>station</th>\n",
       "      <th>valid_new</th>\n",
       "      <th></th>\n",
       "      <th></th>\n",
       "      <th></th>\n",
       "      <th></th>\n",
       "      <th></th>\n",
       "    </tr>\n",
       "  </thead>\n",
       "  <tbody>\n",
       "    <tr>\n",
       "      <th rowspan=\"5\" valign=\"top\">ATL</th>\n",
       "      <th>2018-01-01 00:00:00</th>\n",
       "      <td>26.1</td>\n",
       "      <td>10.0</td>\n",
       "      <td>0.0</td>\n",
       "      <td>22.0</td>\n",
       "      <td>17.0</td>\n",
       "    </tr>\n",
       "    <tr>\n",
       "      <th>2018-01-01 01:00:00</th>\n",
       "      <td>25.0</td>\n",
       "      <td>10.0</td>\n",
       "      <td>0.0</td>\n",
       "      <td>19.0</td>\n",
       "      <td>16.0</td>\n",
       "    </tr>\n",
       "    <tr>\n",
       "      <th>2018-01-01 02:00:00</th>\n",
       "      <td>23.0</td>\n",
       "      <td>10.0</td>\n",
       "      <td>0.0</td>\n",
       "      <td>0.0</td>\n",
       "      <td>16.0</td>\n",
       "    </tr>\n",
       "    <tr>\n",
       "      <th>2018-01-01 03:00:00</th>\n",
       "      <td>21.9</td>\n",
       "      <td>10.0</td>\n",
       "      <td>0.0</td>\n",
       "      <td>20.0</td>\n",
       "      <td>15.0</td>\n",
       "    </tr>\n",
       "    <tr>\n",
       "      <th>2018-01-01 04:00:00</th>\n",
       "      <td>21.0</td>\n",
       "      <td>10.0</td>\n",
       "      <td>0.0</td>\n",
       "      <td>0.0</td>\n",
       "      <td>17.0</td>\n",
       "    </tr>\n",
       "  </tbody>\n",
       "</table>\n",
       "</div>"
      ],
      "text/plain": [
       "                             tmpf  vsby  p01i  gust  sknt\n",
       "station valid_new                                        \n",
       "ATL     2018-01-01 00:00:00  26.1  10.0   0.0  22.0  17.0\n",
       "        2018-01-01 01:00:00  25.0  10.0   0.0  19.0  16.0\n",
       "        2018-01-01 02:00:00  23.0  10.0   0.0   0.0  16.0\n",
       "        2018-01-01 03:00:00  21.9  10.0   0.0  20.0  15.0\n",
       "        2018-01-01 04:00:00  21.0  10.0   0.0   0.0  17.0"
      ]
     },
     "execution_count": 27,
     "metadata": {},
     "output_type": "execute_result"
    }
   ],
   "source": [
    "df_test.head()"
   ]
  },
  {
   "cell_type": "code",
   "execution_count": 28,
   "metadata": {
    "ExecuteTime": {
     "end_time": "2019-05-11T20:57:03.829241Z",
     "start_time": "2019-05-11T20:57:03.810753Z"
    }
   },
   "outputs": [],
   "source": [
    "df_test.reset_index(inplace=True) "
   ]
  },
  {
   "cell_type": "code",
   "execution_count": 29,
   "metadata": {
    "ExecuteTime": {
     "end_time": "2019-05-11T20:57:05.308587Z",
     "start_time": "2019-05-11T20:57:05.296825Z"
    }
   },
   "outputs": [
    {
     "data": {
      "text/html": [
       "<div>\n",
       "<style scoped>\n",
       "    .dataframe tbody tr th:only-of-type {\n",
       "        vertical-align: middle;\n",
       "    }\n",
       "\n",
       "    .dataframe tbody tr th {\n",
       "        vertical-align: top;\n",
       "    }\n",
       "\n",
       "    .dataframe thead th {\n",
       "        text-align: right;\n",
       "    }\n",
       "</style>\n",
       "<table border=\"1\" class=\"dataframe\">\n",
       "  <thead>\n",
       "    <tr style=\"text-align: right;\">\n",
       "      <th></th>\n",
       "      <th>station</th>\n",
       "      <th>valid_new</th>\n",
       "      <th>tmpf</th>\n",
       "      <th>vsby</th>\n",
       "      <th>p01i</th>\n",
       "      <th>gust</th>\n",
       "      <th>sknt</th>\n",
       "    </tr>\n",
       "  </thead>\n",
       "  <tbody>\n",
       "    <tr>\n",
       "      <th>0</th>\n",
       "      <td>ATL</td>\n",
       "      <td>2018-01-01 00:00:00</td>\n",
       "      <td>26.1</td>\n",
       "      <td>10.0</td>\n",
       "      <td>0.0</td>\n",
       "      <td>22.0</td>\n",
       "      <td>17.0</td>\n",
       "    </tr>\n",
       "    <tr>\n",
       "      <th>1</th>\n",
       "      <td>ATL</td>\n",
       "      <td>2018-01-01 01:00:00</td>\n",
       "      <td>25.0</td>\n",
       "      <td>10.0</td>\n",
       "      <td>0.0</td>\n",
       "      <td>19.0</td>\n",
       "      <td>16.0</td>\n",
       "    </tr>\n",
       "    <tr>\n",
       "      <th>2</th>\n",
       "      <td>ATL</td>\n",
       "      <td>2018-01-01 02:00:00</td>\n",
       "      <td>23.0</td>\n",
       "      <td>10.0</td>\n",
       "      <td>0.0</td>\n",
       "      <td>0.0</td>\n",
       "      <td>16.0</td>\n",
       "    </tr>\n",
       "    <tr>\n",
       "      <th>3</th>\n",
       "      <td>ATL</td>\n",
       "      <td>2018-01-01 03:00:00</td>\n",
       "      <td>21.9</td>\n",
       "      <td>10.0</td>\n",
       "      <td>0.0</td>\n",
       "      <td>20.0</td>\n",
       "      <td>15.0</td>\n",
       "    </tr>\n",
       "    <tr>\n",
       "      <th>4</th>\n",
       "      <td>ATL</td>\n",
       "      <td>2018-01-01 04:00:00</td>\n",
       "      <td>21.0</td>\n",
       "      <td>10.0</td>\n",
       "      <td>0.0</td>\n",
       "      <td>0.0</td>\n",
       "      <td>17.0</td>\n",
       "    </tr>\n",
       "  </tbody>\n",
       "</table>\n",
       "</div>"
      ],
      "text/plain": [
       "  station           valid_new  tmpf  vsby  p01i  gust  sknt\n",
       "0     ATL 2018-01-01 00:00:00  26.1  10.0   0.0  22.0  17.0\n",
       "1     ATL 2018-01-01 01:00:00  25.0  10.0   0.0  19.0  16.0\n",
       "2     ATL 2018-01-01 02:00:00  23.0  10.0   0.0   0.0  16.0\n",
       "3     ATL 2018-01-01 03:00:00  21.9  10.0   0.0  20.0  15.0\n",
       "4     ATL 2018-01-01 04:00:00  21.0  10.0   0.0   0.0  17.0"
      ]
     },
     "execution_count": 29,
     "metadata": {},
     "output_type": "execute_result"
    }
   ],
   "source": [
    "df_test.head()"
   ]
  },
  {
   "cell_type": "code",
   "execution_count": 30,
   "metadata": {
    "ExecuteTime": {
     "end_time": "2019-05-11T20:57:08.804481Z",
     "start_time": "2019-05-11T20:57:08.772157Z"
    }
   },
   "outputs": [],
   "source": [
    "weather_df_new = df_test.copy().fillna(0)"
   ]
  },
  {
   "cell_type": "code",
   "execution_count": 31,
   "metadata": {
    "ExecuteTime": {
     "end_time": "2019-05-11T20:57:09.633948Z",
     "start_time": "2019-05-11T20:57:09.621418Z"
    }
   },
   "outputs": [
    {
     "data": {
      "text/html": [
       "<div>\n",
       "<style scoped>\n",
       "    .dataframe tbody tr th:only-of-type {\n",
       "        vertical-align: middle;\n",
       "    }\n",
       "\n",
       "    .dataframe tbody tr th {\n",
       "        vertical-align: top;\n",
       "    }\n",
       "\n",
       "    .dataframe thead th {\n",
       "        text-align: right;\n",
       "    }\n",
       "</style>\n",
       "<table border=\"1\" class=\"dataframe\">\n",
       "  <thead>\n",
       "    <tr style=\"text-align: right;\">\n",
       "      <th></th>\n",
       "      <th>station</th>\n",
       "      <th>valid_new</th>\n",
       "      <th>tmpf</th>\n",
       "      <th>vsby</th>\n",
       "      <th>p01i</th>\n",
       "      <th>gust</th>\n",
       "      <th>sknt</th>\n",
       "    </tr>\n",
       "  </thead>\n",
       "  <tbody>\n",
       "    <tr>\n",
       "      <th>0</th>\n",
       "      <td>ATL</td>\n",
       "      <td>2018-01-01 00:00:00</td>\n",
       "      <td>26.1</td>\n",
       "      <td>10.0</td>\n",
       "      <td>0.0</td>\n",
       "      <td>22.0</td>\n",
       "      <td>17.0</td>\n",
       "    </tr>\n",
       "    <tr>\n",
       "      <th>1</th>\n",
       "      <td>ATL</td>\n",
       "      <td>2018-01-01 01:00:00</td>\n",
       "      <td>25.0</td>\n",
       "      <td>10.0</td>\n",
       "      <td>0.0</td>\n",
       "      <td>19.0</td>\n",
       "      <td>16.0</td>\n",
       "    </tr>\n",
       "    <tr>\n",
       "      <th>2</th>\n",
       "      <td>ATL</td>\n",
       "      <td>2018-01-01 02:00:00</td>\n",
       "      <td>23.0</td>\n",
       "      <td>10.0</td>\n",
       "      <td>0.0</td>\n",
       "      <td>0.0</td>\n",
       "      <td>16.0</td>\n",
       "    </tr>\n",
       "    <tr>\n",
       "      <th>3</th>\n",
       "      <td>ATL</td>\n",
       "      <td>2018-01-01 03:00:00</td>\n",
       "      <td>21.9</td>\n",
       "      <td>10.0</td>\n",
       "      <td>0.0</td>\n",
       "      <td>20.0</td>\n",
       "      <td>15.0</td>\n",
       "    </tr>\n",
       "    <tr>\n",
       "      <th>4</th>\n",
       "      <td>ATL</td>\n",
       "      <td>2018-01-01 04:00:00</td>\n",
       "      <td>21.0</td>\n",
       "      <td>10.0</td>\n",
       "      <td>0.0</td>\n",
       "      <td>0.0</td>\n",
       "      <td>17.0</td>\n",
       "    </tr>\n",
       "  </tbody>\n",
       "</table>\n",
       "</div>"
      ],
      "text/plain": [
       "  station           valid_new  tmpf  vsby  p01i  gust  sknt\n",
       "0     ATL 2018-01-01 00:00:00  26.1  10.0   0.0  22.0  17.0\n",
       "1     ATL 2018-01-01 01:00:00  25.0  10.0   0.0  19.0  16.0\n",
       "2     ATL 2018-01-01 02:00:00  23.0  10.0   0.0   0.0  16.0\n",
       "3     ATL 2018-01-01 03:00:00  21.9  10.0   0.0  20.0  15.0\n",
       "4     ATL 2018-01-01 04:00:00  21.0  10.0   0.0   0.0  17.0"
      ]
     },
     "execution_count": 31,
     "metadata": {},
     "output_type": "execute_result"
    }
   ],
   "source": [
    "weather_df_new.head()"
   ]
  },
  {
   "cell_type": "code",
   "execution_count": null,
   "metadata": {},
   "outputs": [],
   "source": []
  },
  {
   "cell_type": "code",
   "execution_count": 32,
   "metadata": {
    "ExecuteTime": {
     "end_time": "2019-05-11T20:57:15.231570Z",
     "start_time": "2019-05-11T20:57:14.334342Z"
    }
   },
   "outputs": [],
   "source": [
    "#export raw, concoctanated weather file for 2017 top 20 airports\n",
    "weather_df_new.to_csv('./Data/Weather/2018WeatherALL.csv', index = False, encoding = 'utf-8')"
   ]
  },
  {
   "cell_type": "code",
   "execution_count": 33,
   "metadata": {
    "ExecuteTime": {
     "end_time": "2019-05-11T20:58:40.194066Z",
     "start_time": "2019-05-11T20:57:24.449335Z"
    }
   },
   "outputs": [],
   "source": [
    "#import the 2018 Data and clean it\n",
    "df = pd.read_csv('./Data/2018ALL.csv', parse_dates=['FlightDate'])\n",
    "\n",
    "\n",
    "df = df.dropna(subset=['Tail_Number','DepTime','DepDelay','DepartureDelayGroups','TaxiOut',\n",
    "                      'WheelsOff','WheelsOn','TaxiIn','ArrTime','ArrDelay','CRSElapsedTime',\n",
    "                      'ActualElapsedTime','AirTime'])\n",
    "\n",
    "df = df.fillna(0)"
   ]
  },
  {
   "cell_type": "code",
   "execution_count": 34,
   "metadata": {
    "ExecuteTime": {
     "end_time": "2019-05-11T20:58:43.990086Z",
     "start_time": "2019-05-11T20:58:40.448902Z"
    }
   },
   "outputs": [],
   "source": [
    "#Let's remove the features that will not be available for predicting flights\n",
    "df = df[['Quarter', 'Month', 'DayofMonth', 'DayOfWeek', 'FlightDate',\n",
    "       'Reporting_Airline', 'Tail_Number', 'Flight_Number_Reporting_Airline',\n",
    "       'Origin', 'OriginState', 'DestState', 'Dest', 'CRSDepTime', 'CRSArrTime', 'CRSElapsedTime',\n",
    "       'ArrDelay', 'Distance', 'DistanceGroup',]]\n",
    "df = df.reindex()"
   ]
  },
  {
   "cell_type": "code",
   "execution_count": 35,
   "metadata": {
    "ExecuteTime": {
     "end_time": "2019-05-11T20:58:44.121026Z",
     "start_time": "2019-05-11T20:58:44.103776Z"
    }
   },
   "outputs": [],
   "source": [
    "#since the DEP_TIME is presented as a float we need to convert it to a Timestamp\n",
    "def convert_to_time (datatype):\n",
    "    '''This method will take a float as input and returns a datetime.time object'''\n",
    "    to_string = str(int(datatype))\n",
    "    #check length of string and add leading zeros if lenght is less than 4\n",
    "    while len(to_string) < 4:\n",
    "        to_string = '0' + to_string\n",
    "    #check if hour starts with 24 then change to 00\n",
    "    if to_string[:2] == '24':\n",
    "        to_string = '00' + to_string[2:]\n",
    "    #obj = time.strptime(to_string, '%H%M')\n",
    "    \n",
    "    to_string = to_string[:2] + ':' + to_string[2:] \n",
    "    datetime = pd.to_datetime(to_string)\n",
    "    datetime = pd.to_datetime(to_string, format='%H:%M')\n",
    "    time = datetime.time()\n",
    "    return time\n",
    "    \n",
    "    #datetime = time.strftime(\"%H:%M\", obj)\n",
    "    #return datetime\n",
    "    \n",
    "#We now need to create a new Timestamp column incorporating the information from FL_DATE and DEP_TIME\n",
    "def combine_datetime (dataframe):\n",
    "    '''This function will extract needed data from two columns and combine into a single Timestamp object'''\n",
    "    year = dataframe[0].year\n",
    "    month = dataframe[0].month\n",
    "    day = dataframe[0].day\n",
    "    hour = dataframe[1].hour\n",
    "    minute = dataframe[1].minute\n",
    "    second = dataframe[1].second\n",
    "    \n",
    "    datetime = pd.Timestamp(year, month, day, hour, minute, second)\n",
    "    return datetime"
   ]
  },
  {
   "cell_type": "code",
   "execution_count": 36,
   "metadata": {
    "ExecuteTime": {
     "end_time": "2019-05-11T20:58:44.286603Z",
     "start_time": "2019-05-11T20:58:44.225464Z"
    }
   },
   "outputs": [],
   "source": [
    "combined = df[['FlightDate','CRSDepTime']]"
   ]
  },
  {
   "cell_type": "code",
   "execution_count": 37,
   "metadata": {
    "ExecuteTime": {
     "end_time": "2019-05-11T21:19:39.803464Z",
     "start_time": "2019-05-11T20:58:44.380631Z"
    }
   },
   "outputs": [
    {
     "name": "stderr",
     "output_type": "stream",
     "text": [
      "/Users/dmitriykats/anaconda3/lib/python3.7/site-packages/ipykernel_launcher.py:2: SettingWithCopyWarning: \n",
      "A value is trying to be set on a copy of a slice from a DataFrame.\n",
      "Try using .loc[row_indexer,col_indexer] = value instead\n",
      "\n",
      "See the caveats in the documentation: http://pandas.pydata.org/pandas-docs/stable/indexing.html#indexing-view-versus-copy\n",
      "  \n"
     ]
    }
   ],
   "source": [
    "#convert DEP_TIME to timestamp\n",
    "combined['CRSDepTime'] = df.CRSDepTime.apply(convert_to_time)"
   ]
  },
  {
   "cell_type": "code",
   "execution_count": 38,
   "metadata": {
    "ExecuteTime": {
     "end_time": "2019-05-11T21:26:28.363641Z",
     "start_time": "2019-05-11T21:19:39.980316Z"
    }
   },
   "outputs": [],
   "source": [
    "#apply the combine_datetime function to optimized_df and create a new column 'FL_TIME'\n",
    "df['FL_TIME'] = combined.apply(combine_datetime, axis=1)"
   ]
  },
  {
   "cell_type": "code",
   "execution_count": 39,
   "metadata": {
    "ExecuteTime": {
     "end_time": "2019-05-11T21:27:09.575732Z",
     "start_time": "2019-05-11T21:26:28.457372Z"
    }
   },
   "outputs": [],
   "source": [
    "df['FL_TIME_NEW'] = df.FL_TIME.apply(lambda x: x.replace(minute=0))"
   ]
  },
  {
   "cell_type": "code",
   "execution_count": 40,
   "metadata": {
    "ExecuteTime": {
     "end_time": "2019-05-11T21:27:09.690112Z",
     "start_time": "2019-05-11T21:27:09.671080Z"
    }
   },
   "outputs": [
    {
     "data": {
      "text/html": [
       "<div>\n",
       "<style scoped>\n",
       "    .dataframe tbody tr th:only-of-type {\n",
       "        vertical-align: middle;\n",
       "    }\n",
       "\n",
       "    .dataframe tbody tr th {\n",
       "        vertical-align: top;\n",
       "    }\n",
       "\n",
       "    .dataframe thead th {\n",
       "        text-align: right;\n",
       "    }\n",
       "</style>\n",
       "<table border=\"1\" class=\"dataframe\">\n",
       "  <thead>\n",
       "    <tr style=\"text-align: right;\">\n",
       "      <th></th>\n",
       "      <th>Quarter</th>\n",
       "      <th>Month</th>\n",
       "      <th>DayofMonth</th>\n",
       "      <th>DayOfWeek</th>\n",
       "      <th>FlightDate</th>\n",
       "      <th>Reporting_Airline</th>\n",
       "      <th>Tail_Number</th>\n",
       "      <th>Flight_Number_Reporting_Airline</th>\n",
       "      <th>Origin</th>\n",
       "      <th>OriginState</th>\n",
       "      <th>DestState</th>\n",
       "      <th>Dest</th>\n",
       "      <th>CRSDepTime</th>\n",
       "      <th>CRSArrTime</th>\n",
       "      <th>CRSElapsedTime</th>\n",
       "      <th>ArrDelay</th>\n",
       "      <th>Distance</th>\n",
       "      <th>DistanceGroup</th>\n",
       "      <th>FL_TIME</th>\n",
       "      <th>FL_TIME_NEW</th>\n",
       "    </tr>\n",
       "  </thead>\n",
       "  <tbody>\n",
       "    <tr>\n",
       "      <th>0</th>\n",
       "      <td>4</td>\n",
       "      <td>10</td>\n",
       "      <td>14</td>\n",
       "      <td>7</td>\n",
       "      <td>2018-10-14</td>\n",
       "      <td>AA</td>\n",
       "      <td>N925UY</td>\n",
       "      <td>1674</td>\n",
       "      <td>LAX</td>\n",
       "      <td>CA</td>\n",
       "      <td>NC</td>\n",
       "      <td>CLT</td>\n",
       "      <td>1123</td>\n",
       "      <td>1910</td>\n",
       "      <td>287.0</td>\n",
       "      <td>-16.0</td>\n",
       "      <td>2125.0</td>\n",
       "      <td>9</td>\n",
       "      <td>2018-10-14 11:23:00</td>\n",
       "      <td>2018-10-14 11:00:00</td>\n",
       "    </tr>\n",
       "    <tr>\n",
       "      <th>1</th>\n",
       "      <td>4</td>\n",
       "      <td>10</td>\n",
       "      <td>15</td>\n",
       "      <td>1</td>\n",
       "      <td>2018-10-15</td>\n",
       "      <td>AA</td>\n",
       "      <td>N583UW</td>\n",
       "      <td>1674</td>\n",
       "      <td>LAX</td>\n",
       "      <td>CA</td>\n",
       "      <td>NC</td>\n",
       "      <td>CLT</td>\n",
       "      <td>1123</td>\n",
       "      <td>1910</td>\n",
       "      <td>287.0</td>\n",
       "      <td>-21.0</td>\n",
       "      <td>2125.0</td>\n",
       "      <td>9</td>\n",
       "      <td>2018-10-15 11:23:00</td>\n",
       "      <td>2018-10-15 11:00:00</td>\n",
       "    </tr>\n",
       "    <tr>\n",
       "      <th>2</th>\n",
       "      <td>4</td>\n",
       "      <td>10</td>\n",
       "      <td>16</td>\n",
       "      <td>2</td>\n",
       "      <td>2018-10-16</td>\n",
       "      <td>AA</td>\n",
       "      <td>N581UW</td>\n",
       "      <td>1674</td>\n",
       "      <td>LAX</td>\n",
       "      <td>CA</td>\n",
       "      <td>NC</td>\n",
       "      <td>CLT</td>\n",
       "      <td>1123</td>\n",
       "      <td>1910</td>\n",
       "      <td>287.0</td>\n",
       "      <td>-14.0</td>\n",
       "      <td>2125.0</td>\n",
       "      <td>9</td>\n",
       "      <td>2018-10-16 11:23:00</td>\n",
       "      <td>2018-10-16 11:00:00</td>\n",
       "    </tr>\n",
       "    <tr>\n",
       "      <th>3</th>\n",
       "      <td>4</td>\n",
       "      <td>10</td>\n",
       "      <td>17</td>\n",
       "      <td>3</td>\n",
       "      <td>2018-10-17</td>\n",
       "      <td>AA</td>\n",
       "      <td>N551UW</td>\n",
       "      <td>1674</td>\n",
       "      <td>LAX</td>\n",
       "      <td>CA</td>\n",
       "      <td>NC</td>\n",
       "      <td>CLT</td>\n",
       "      <td>1123</td>\n",
       "      <td>1910</td>\n",
       "      <td>287.0</td>\n",
       "      <td>-8.0</td>\n",
       "      <td>2125.0</td>\n",
       "      <td>9</td>\n",
       "      <td>2018-10-17 11:23:00</td>\n",
       "      <td>2018-10-17 11:00:00</td>\n",
       "    </tr>\n",
       "    <tr>\n",
       "      <th>4</th>\n",
       "      <td>4</td>\n",
       "      <td>10</td>\n",
       "      <td>18</td>\n",
       "      <td>4</td>\n",
       "      <td>2018-10-18</td>\n",
       "      <td>AA</td>\n",
       "      <td>N181UW</td>\n",
       "      <td>1674</td>\n",
       "      <td>LAX</td>\n",
       "      <td>CA</td>\n",
       "      <td>NC</td>\n",
       "      <td>CLT</td>\n",
       "      <td>1123</td>\n",
       "      <td>1910</td>\n",
       "      <td>287.0</td>\n",
       "      <td>-4.0</td>\n",
       "      <td>2125.0</td>\n",
       "      <td>9</td>\n",
       "      <td>2018-10-18 11:23:00</td>\n",
       "      <td>2018-10-18 11:00:00</td>\n",
       "    </tr>\n",
       "  </tbody>\n",
       "</table>\n",
       "</div>"
      ],
      "text/plain": [
       "   Quarter  Month  DayofMonth  DayOfWeek FlightDate Reporting_Airline Tail_Number  \\\n",
       "0        4     10          14          7 2018-10-14                AA      N925UY   \n",
       "1        4     10          15          1 2018-10-15                AA      N583UW   \n",
       "2        4     10          16          2 2018-10-16                AA      N581UW   \n",
       "3        4     10          17          3 2018-10-17                AA      N551UW   \n",
       "4        4     10          18          4 2018-10-18                AA      N181UW   \n",
       "\n",
       "   Flight_Number_Reporting_Airline Origin OriginState DestState Dest  CRSDepTime  CRSArrTime  \\\n",
       "0                             1674    LAX          CA        NC  CLT        1123        1910   \n",
       "1                             1674    LAX          CA        NC  CLT        1123        1910   \n",
       "2                             1674    LAX          CA        NC  CLT        1123        1910   \n",
       "3                             1674    LAX          CA        NC  CLT        1123        1910   \n",
       "4                             1674    LAX          CA        NC  CLT        1123        1910   \n",
       "\n",
       "   CRSElapsedTime  ArrDelay  Distance  DistanceGroup             FL_TIME         FL_TIME_NEW  \n",
       "0           287.0     -16.0    2125.0              9 2018-10-14 11:23:00 2018-10-14 11:00:00  \n",
       "1           287.0     -21.0    2125.0              9 2018-10-15 11:23:00 2018-10-15 11:00:00  \n",
       "2           287.0     -14.0    2125.0              9 2018-10-16 11:23:00 2018-10-16 11:00:00  \n",
       "3           287.0      -8.0    2125.0              9 2018-10-17 11:23:00 2018-10-17 11:00:00  \n",
       "4           287.0      -4.0    2125.0              9 2018-10-18 11:23:00 2018-10-18 11:00:00  "
      ]
     },
     "execution_count": 40,
     "metadata": {},
     "output_type": "execute_result"
    }
   ],
   "source": [
    "df.head()"
   ]
  },
  {
   "cell_type": "code",
   "execution_count": 43,
   "metadata": {
    "ExecuteTime": {
     "end_time": "2019-05-11T21:30:40.220008Z",
     "start_time": "2019-05-11T21:30:40.195995Z"
    }
   },
   "outputs": [],
   "source": [
    "weather_df_new1 = weather_df_new.copy()"
   ]
  },
  {
   "cell_type": "code",
   "execution_count": 44,
   "metadata": {
    "ExecuteTime": {
     "end_time": "2019-05-11T21:30:41.656396Z",
     "start_time": "2019-05-11T21:30:41.628234Z"
    }
   },
   "outputs": [
    {
     "data": {
      "text/plain": [
       "Series([], dtype: float64)"
      ]
     },
     "execution_count": 44,
     "metadata": {},
     "output_type": "execute_result"
    }
   ],
   "source": [
    "#remove rows will null values which is approximately 1.5%\n",
    "null_columns = weather_df_new1.columns[weather_df_new1.isnull().any()]\n",
    "weather_df_new1[null_columns].isnull().sum()"
   ]
  },
  {
   "cell_type": "code",
   "execution_count": 45,
   "metadata": {
    "ExecuteTime": {
     "end_time": "2019-05-11T21:30:44.219557Z",
     "start_time": "2019-05-11T21:30:44.207640Z"
    },
    "scrolled": true
   },
   "outputs": [
    {
     "data": {
      "text/html": [
       "<div>\n",
       "<style scoped>\n",
       "    .dataframe tbody tr th:only-of-type {\n",
       "        vertical-align: middle;\n",
       "    }\n",
       "\n",
       "    .dataframe tbody tr th {\n",
       "        vertical-align: top;\n",
       "    }\n",
       "\n",
       "    .dataframe thead th {\n",
       "        text-align: right;\n",
       "    }\n",
       "</style>\n",
       "<table border=\"1\" class=\"dataframe\">\n",
       "  <thead>\n",
       "    <tr style=\"text-align: right;\">\n",
       "      <th></th>\n",
       "      <th>station</th>\n",
       "      <th>valid_new</th>\n",
       "      <th>tmpf</th>\n",
       "      <th>vsby</th>\n",
       "      <th>p01i</th>\n",
       "      <th>gust</th>\n",
       "      <th>sknt</th>\n",
       "    </tr>\n",
       "  </thead>\n",
       "  <tbody>\n",
       "    <tr>\n",
       "      <th>0</th>\n",
       "      <td>ATL</td>\n",
       "      <td>2018-01-01 00:00:00</td>\n",
       "      <td>26.1</td>\n",
       "      <td>10.0</td>\n",
       "      <td>0.0</td>\n",
       "      <td>22.0</td>\n",
       "      <td>17.0</td>\n",
       "    </tr>\n",
       "    <tr>\n",
       "      <th>1</th>\n",
       "      <td>ATL</td>\n",
       "      <td>2018-01-01 01:00:00</td>\n",
       "      <td>25.0</td>\n",
       "      <td>10.0</td>\n",
       "      <td>0.0</td>\n",
       "      <td>19.0</td>\n",
       "      <td>16.0</td>\n",
       "    </tr>\n",
       "    <tr>\n",
       "      <th>2</th>\n",
       "      <td>ATL</td>\n",
       "      <td>2018-01-01 02:00:00</td>\n",
       "      <td>23.0</td>\n",
       "      <td>10.0</td>\n",
       "      <td>0.0</td>\n",
       "      <td>0.0</td>\n",
       "      <td>16.0</td>\n",
       "    </tr>\n",
       "    <tr>\n",
       "      <th>3</th>\n",
       "      <td>ATL</td>\n",
       "      <td>2018-01-01 03:00:00</td>\n",
       "      <td>21.9</td>\n",
       "      <td>10.0</td>\n",
       "      <td>0.0</td>\n",
       "      <td>20.0</td>\n",
       "      <td>15.0</td>\n",
       "    </tr>\n",
       "    <tr>\n",
       "      <th>4</th>\n",
       "      <td>ATL</td>\n",
       "      <td>2018-01-01 04:00:00</td>\n",
       "      <td>21.0</td>\n",
       "      <td>10.0</td>\n",
       "      <td>0.0</td>\n",
       "      <td>0.0</td>\n",
       "      <td>17.0</td>\n",
       "    </tr>\n",
       "  </tbody>\n",
       "</table>\n",
       "</div>"
      ],
      "text/plain": [
       "  station           valid_new  tmpf  vsby  p01i  gust  sknt\n",
       "0     ATL 2018-01-01 00:00:00  26.1  10.0   0.0  22.0  17.0\n",
       "1     ATL 2018-01-01 01:00:00  25.0  10.0   0.0  19.0  16.0\n",
       "2     ATL 2018-01-01 02:00:00  23.0  10.0   0.0   0.0  16.0\n",
       "3     ATL 2018-01-01 03:00:00  21.9  10.0   0.0  20.0  15.0\n",
       "4     ATL 2018-01-01 04:00:00  21.0  10.0   0.0   0.0  17.0"
      ]
     },
     "execution_count": 45,
     "metadata": {},
     "output_type": "execute_result"
    }
   ],
   "source": [
    "weather_df_new.head()"
   ]
  },
  {
   "cell_type": "code",
   "execution_count": 46,
   "metadata": {
    "ExecuteTime": {
     "end_time": "2019-05-11T21:30:45.943717Z",
     "start_time": "2019-05-11T21:30:45.699682Z"
    }
   },
   "outputs": [],
   "source": [
    "#combine the station name and datetime for easier / faster merging with flight data\n",
    "weather_df_new1 = pd.DataFrame()\n",
    "weather_df_new1['combined'] = weather_df_new['station'] + weather_df_new['valid_new'].astype(str)\n",
    "weather_df_new1['precip'] = weather_df_new['p01i']\n",
    "weather_df_new1['vis'] = weather_df_new['vsby']\n",
    "weather_df_new1['temp'] = weather_df_new['tmpf']\n",
    "weather_df_new1['wind'] = weather_df_new['sknt']"
   ]
  },
  {
   "cell_type": "code",
   "execution_count": 47,
   "metadata": {
    "ExecuteTime": {
     "end_time": "2019-05-11T21:30:47.747610Z",
     "start_time": "2019-05-11T21:30:47.713024Z"
    }
   },
   "outputs": [
    {
     "name": "stdout",
     "output_type": "stream",
     "text": [
      "<class 'pandas.core.frame.DataFrame'>\n",
      "RangeIndex: 157154 entries, 0 to 157153\n",
      "Data columns (total 5 columns):\n",
      "combined    157154 non-null object\n",
      "precip      157154 non-null float64\n",
      "vis         157154 non-null float64\n",
      "temp        157154 non-null float64\n",
      "wind        157154 non-null float64\n",
      "dtypes: float64(4), object(1)\n",
      "memory usage: 6.0+ MB\n"
     ]
    }
   ],
   "source": [
    "weather_df_new1.info()"
   ]
  },
  {
   "cell_type": "code",
   "execution_count": 48,
   "metadata": {
    "ExecuteTime": {
     "end_time": "2019-05-11T21:30:52.575891Z",
     "start_time": "2019-05-11T21:30:52.564677Z"
    }
   },
   "outputs": [
    {
     "data": {
      "text/html": [
       "<div>\n",
       "<style scoped>\n",
       "    .dataframe tbody tr th:only-of-type {\n",
       "        vertical-align: middle;\n",
       "    }\n",
       "\n",
       "    .dataframe tbody tr th {\n",
       "        vertical-align: top;\n",
       "    }\n",
       "\n",
       "    .dataframe thead th {\n",
       "        text-align: right;\n",
       "    }\n",
       "</style>\n",
       "<table border=\"1\" class=\"dataframe\">\n",
       "  <thead>\n",
       "    <tr style=\"text-align: right;\">\n",
       "      <th></th>\n",
       "      <th>combined</th>\n",
       "      <th>precip</th>\n",
       "      <th>vis</th>\n",
       "      <th>temp</th>\n",
       "      <th>wind</th>\n",
       "    </tr>\n",
       "  </thead>\n",
       "  <tbody>\n",
       "    <tr>\n",
       "      <th>0</th>\n",
       "      <td>ATL2018-01-01 00:00:00</td>\n",
       "      <td>0.0</td>\n",
       "      <td>10.0</td>\n",
       "      <td>26.1</td>\n",
       "      <td>17.0</td>\n",
       "    </tr>\n",
       "    <tr>\n",
       "      <th>1</th>\n",
       "      <td>ATL2018-01-01 01:00:00</td>\n",
       "      <td>0.0</td>\n",
       "      <td>10.0</td>\n",
       "      <td>25.0</td>\n",
       "      <td>16.0</td>\n",
       "    </tr>\n",
       "    <tr>\n",
       "      <th>2</th>\n",
       "      <td>ATL2018-01-01 02:00:00</td>\n",
       "      <td>0.0</td>\n",
       "      <td>10.0</td>\n",
       "      <td>23.0</td>\n",
       "      <td>16.0</td>\n",
       "    </tr>\n",
       "    <tr>\n",
       "      <th>3</th>\n",
       "      <td>ATL2018-01-01 03:00:00</td>\n",
       "      <td>0.0</td>\n",
       "      <td>10.0</td>\n",
       "      <td>21.9</td>\n",
       "      <td>15.0</td>\n",
       "    </tr>\n",
       "    <tr>\n",
       "      <th>4</th>\n",
       "      <td>ATL2018-01-01 04:00:00</td>\n",
       "      <td>0.0</td>\n",
       "      <td>10.0</td>\n",
       "      <td>21.0</td>\n",
       "      <td>17.0</td>\n",
       "    </tr>\n",
       "  </tbody>\n",
       "</table>\n",
       "</div>"
      ],
      "text/plain": [
       "                 combined  precip   vis  temp  wind\n",
       "0  ATL2018-01-01 00:00:00     0.0  10.0  26.1  17.0\n",
       "1  ATL2018-01-01 01:00:00     0.0  10.0  25.0  16.0\n",
       "2  ATL2018-01-01 02:00:00     0.0  10.0  23.0  16.0\n",
       "3  ATL2018-01-01 03:00:00     0.0  10.0  21.9  15.0\n",
       "4  ATL2018-01-01 04:00:00     0.0  10.0  21.0  17.0"
      ]
     },
     "execution_count": 48,
     "metadata": {},
     "output_type": "execute_result"
    }
   ],
   "source": [
    "weather_df_new1.head()"
   ]
  },
  {
   "cell_type": "code",
   "execution_count": 49,
   "metadata": {
    "ExecuteTime": {
     "end_time": "2019-05-11T21:31:09.281510Z",
     "start_time": "2019-05-11T21:30:55.622978Z"
    }
   },
   "outputs": [],
   "source": [
    "#suming up the precipitation for last five hours\n",
    "sum_precip = []\n",
    "for row in range(len(weather_df_new1.precip) - 5):\n",
    "    rows_sum = sum(weather_df_new1.iloc[row:row + 5, 1].values)\n",
    "    sum_precip.append(rows_sum)"
   ]
  },
  {
   "cell_type": "code",
   "execution_count": 50,
   "metadata": {
    "ExecuteTime": {
     "end_time": "2019-05-11T21:31:09.410297Z",
     "start_time": "2019-05-11T21:31:09.406145Z"
    }
   },
   "outputs": [],
   "source": [
    "sum_precip.insert(0,0)\n",
    "sum_precip.insert(0,0)\n",
    "sum_precip.insert(0,0)\n",
    "sum_precip.insert(0,0)\n",
    "sum_precip.insert(0,0)"
   ]
  },
  {
   "cell_type": "code",
   "execution_count": 51,
   "metadata": {
    "ExecuteTime": {
     "end_time": "2019-05-11T21:31:25.697380Z",
     "start_time": "2019-05-11T21:31:09.528953Z"
    }
   },
   "outputs": [],
   "source": [
    "#Averaging the visability for last five hours\n",
    "ave_vis = []\n",
    "for row in range(len(weather_df_new1.vis) - 5):\n",
    "    rows_ave = np.mean(weather_df_new1.iloc[row:row + 5, 1].values)\n",
    "    ave_vis.append(rows_ave)"
   ]
  },
  {
   "cell_type": "code",
   "execution_count": 52,
   "metadata": {
    "ExecuteTime": {
     "end_time": "2019-05-11T21:31:25.840477Z",
     "start_time": "2019-05-11T21:31:25.837195Z"
    }
   },
   "outputs": [],
   "source": [
    "ave_vis.insert(0,0)\n",
    "ave_vis.insert(0,0)\n",
    "ave_vis.insert(0,0)\n",
    "ave_vis.insert(0,0)\n",
    "ave_vis.insert(0,0)"
   ]
  },
  {
   "cell_type": "code",
   "execution_count": 53,
   "metadata": {
    "ExecuteTime": {
     "end_time": "2019-05-11T21:31:26.002201Z",
     "start_time": "2019-05-11T21:31:25.985664Z"
    }
   },
   "outputs": [],
   "source": [
    "weather_df_new1['ave_vis'] = ave_vis"
   ]
  },
  {
   "cell_type": "code",
   "execution_count": 54,
   "metadata": {
    "ExecuteTime": {
     "end_time": "2019-05-11T21:31:26.148674Z",
     "start_time": "2019-05-11T21:31:26.133742Z"
    }
   },
   "outputs": [],
   "source": [
    "weather_df_new1['precip_sum'] = sum_precip"
   ]
  },
  {
   "cell_type": "code",
   "execution_count": null,
   "metadata": {},
   "outputs": [],
   "source": []
  },
  {
   "cell_type": "code",
   "execution_count": 55,
   "metadata": {
    "ExecuteTime": {
     "end_time": "2019-05-11T21:31:26.300671Z",
     "start_time": "2019-05-11T21:31:26.282192Z"
    }
   },
   "outputs": [],
   "source": [
    "weather_df_new1 = weather_df_new1.drop(columns=['precip','vis'])"
   ]
  },
  {
   "cell_type": "code",
   "execution_count": 56,
   "metadata": {
    "ExecuteTime": {
     "end_time": "2019-05-11T21:31:26.470721Z",
     "start_time": "2019-05-11T21:31:26.461064Z"
    }
   },
   "outputs": [
    {
     "data": {
      "text/html": [
       "<div>\n",
       "<style scoped>\n",
       "    .dataframe tbody tr th:only-of-type {\n",
       "        vertical-align: middle;\n",
       "    }\n",
       "\n",
       "    .dataframe tbody tr th {\n",
       "        vertical-align: top;\n",
       "    }\n",
       "\n",
       "    .dataframe thead th {\n",
       "        text-align: right;\n",
       "    }\n",
       "</style>\n",
       "<table border=\"1\" class=\"dataframe\">\n",
       "  <thead>\n",
       "    <tr style=\"text-align: right;\">\n",
       "      <th></th>\n",
       "      <th>combined</th>\n",
       "      <th>temp</th>\n",
       "      <th>wind</th>\n",
       "      <th>ave_vis</th>\n",
       "      <th>precip_sum</th>\n",
       "    </tr>\n",
       "  </thead>\n",
       "  <tbody>\n",
       "    <tr>\n",
       "      <th>0</th>\n",
       "      <td>ATL2018-01-01 00:00:00</td>\n",
       "      <td>26.1</td>\n",
       "      <td>17.0</td>\n",
       "      <td>0.0</td>\n",
       "      <td>0.0</td>\n",
       "    </tr>\n",
       "    <tr>\n",
       "      <th>1</th>\n",
       "      <td>ATL2018-01-01 01:00:00</td>\n",
       "      <td>25.0</td>\n",
       "      <td>16.0</td>\n",
       "      <td>0.0</td>\n",
       "      <td>0.0</td>\n",
       "    </tr>\n",
       "    <tr>\n",
       "      <th>2</th>\n",
       "      <td>ATL2018-01-01 02:00:00</td>\n",
       "      <td>23.0</td>\n",
       "      <td>16.0</td>\n",
       "      <td>0.0</td>\n",
       "      <td>0.0</td>\n",
       "    </tr>\n",
       "    <tr>\n",
       "      <th>3</th>\n",
       "      <td>ATL2018-01-01 03:00:00</td>\n",
       "      <td>21.9</td>\n",
       "      <td>15.0</td>\n",
       "      <td>0.0</td>\n",
       "      <td>0.0</td>\n",
       "    </tr>\n",
       "    <tr>\n",
       "      <th>4</th>\n",
       "      <td>ATL2018-01-01 04:00:00</td>\n",
       "      <td>21.0</td>\n",
       "      <td>17.0</td>\n",
       "      <td>0.0</td>\n",
       "      <td>0.0</td>\n",
       "    </tr>\n",
       "  </tbody>\n",
       "</table>\n",
       "</div>"
      ],
      "text/plain": [
       "                 combined  temp  wind  ave_vis  precip_sum\n",
       "0  ATL2018-01-01 00:00:00  26.1  17.0      0.0         0.0\n",
       "1  ATL2018-01-01 01:00:00  25.0  16.0      0.0         0.0\n",
       "2  ATL2018-01-01 02:00:00  23.0  16.0      0.0         0.0\n",
       "3  ATL2018-01-01 03:00:00  21.9  15.0      0.0         0.0\n",
       "4  ATL2018-01-01 04:00:00  21.0  17.0      0.0         0.0"
      ]
     },
     "execution_count": 56,
     "metadata": {},
     "output_type": "execute_result"
    }
   ],
   "source": [
    "weather_df_new1.head()"
   ]
  },
  {
   "cell_type": "code",
   "execution_count": 57,
   "metadata": {
    "ExecuteTime": {
     "end_time": "2019-05-11T21:31:34.809576Z",
     "start_time": "2019-05-11T21:31:26.611409Z"
    }
   },
   "outputs": [],
   "source": [
    "#do the same in the flight data \n",
    "df['combined'] =  df['Origin'] + df['FL_TIME_NEW'].astype(str)"
   ]
  },
  {
   "cell_type": "code",
   "execution_count": 58,
   "metadata": {
    "ExecuteTime": {
     "end_time": "2019-05-11T21:31:34.997534Z",
     "start_time": "2019-05-11T21:31:34.979839Z"
    },
    "scrolled": true
   },
   "outputs": [
    {
     "data": {
      "text/html": [
       "<div>\n",
       "<style scoped>\n",
       "    .dataframe tbody tr th:only-of-type {\n",
       "        vertical-align: middle;\n",
       "    }\n",
       "\n",
       "    .dataframe tbody tr th {\n",
       "        vertical-align: top;\n",
       "    }\n",
       "\n",
       "    .dataframe thead th {\n",
       "        text-align: right;\n",
       "    }\n",
       "</style>\n",
       "<table border=\"1\" class=\"dataframe\">\n",
       "  <thead>\n",
       "    <tr style=\"text-align: right;\">\n",
       "      <th></th>\n",
       "      <th>Quarter</th>\n",
       "      <th>Month</th>\n",
       "      <th>DayofMonth</th>\n",
       "      <th>DayOfWeek</th>\n",
       "      <th>FlightDate</th>\n",
       "      <th>Reporting_Airline</th>\n",
       "      <th>Tail_Number</th>\n",
       "      <th>Flight_Number_Reporting_Airline</th>\n",
       "      <th>Origin</th>\n",
       "      <th>OriginState</th>\n",
       "      <th>DestState</th>\n",
       "      <th>Dest</th>\n",
       "      <th>CRSDepTime</th>\n",
       "      <th>CRSArrTime</th>\n",
       "      <th>CRSElapsedTime</th>\n",
       "      <th>ArrDelay</th>\n",
       "      <th>Distance</th>\n",
       "      <th>DistanceGroup</th>\n",
       "      <th>FL_TIME</th>\n",
       "      <th>FL_TIME_NEW</th>\n",
       "      <th>combined</th>\n",
       "    </tr>\n",
       "  </thead>\n",
       "  <tbody>\n",
       "    <tr>\n",
       "      <th>0</th>\n",
       "      <td>4</td>\n",
       "      <td>10</td>\n",
       "      <td>14</td>\n",
       "      <td>7</td>\n",
       "      <td>2018-10-14</td>\n",
       "      <td>AA</td>\n",
       "      <td>N925UY</td>\n",
       "      <td>1674</td>\n",
       "      <td>LAX</td>\n",
       "      <td>CA</td>\n",
       "      <td>NC</td>\n",
       "      <td>CLT</td>\n",
       "      <td>1123</td>\n",
       "      <td>1910</td>\n",
       "      <td>287.0</td>\n",
       "      <td>-16.0</td>\n",
       "      <td>2125.0</td>\n",
       "      <td>9</td>\n",
       "      <td>2018-10-14 11:23:00</td>\n",
       "      <td>2018-10-14 11:00:00</td>\n",
       "      <td>LAX2018-10-14 11:00:00</td>\n",
       "    </tr>\n",
       "    <tr>\n",
       "      <th>1</th>\n",
       "      <td>4</td>\n",
       "      <td>10</td>\n",
       "      <td>15</td>\n",
       "      <td>1</td>\n",
       "      <td>2018-10-15</td>\n",
       "      <td>AA</td>\n",
       "      <td>N583UW</td>\n",
       "      <td>1674</td>\n",
       "      <td>LAX</td>\n",
       "      <td>CA</td>\n",
       "      <td>NC</td>\n",
       "      <td>CLT</td>\n",
       "      <td>1123</td>\n",
       "      <td>1910</td>\n",
       "      <td>287.0</td>\n",
       "      <td>-21.0</td>\n",
       "      <td>2125.0</td>\n",
       "      <td>9</td>\n",
       "      <td>2018-10-15 11:23:00</td>\n",
       "      <td>2018-10-15 11:00:00</td>\n",
       "      <td>LAX2018-10-15 11:00:00</td>\n",
       "    </tr>\n",
       "    <tr>\n",
       "      <th>2</th>\n",
       "      <td>4</td>\n",
       "      <td>10</td>\n",
       "      <td>16</td>\n",
       "      <td>2</td>\n",
       "      <td>2018-10-16</td>\n",
       "      <td>AA</td>\n",
       "      <td>N581UW</td>\n",
       "      <td>1674</td>\n",
       "      <td>LAX</td>\n",
       "      <td>CA</td>\n",
       "      <td>NC</td>\n",
       "      <td>CLT</td>\n",
       "      <td>1123</td>\n",
       "      <td>1910</td>\n",
       "      <td>287.0</td>\n",
       "      <td>-14.0</td>\n",
       "      <td>2125.0</td>\n",
       "      <td>9</td>\n",
       "      <td>2018-10-16 11:23:00</td>\n",
       "      <td>2018-10-16 11:00:00</td>\n",
       "      <td>LAX2018-10-16 11:00:00</td>\n",
       "    </tr>\n",
       "    <tr>\n",
       "      <th>3</th>\n",
       "      <td>4</td>\n",
       "      <td>10</td>\n",
       "      <td>17</td>\n",
       "      <td>3</td>\n",
       "      <td>2018-10-17</td>\n",
       "      <td>AA</td>\n",
       "      <td>N551UW</td>\n",
       "      <td>1674</td>\n",
       "      <td>LAX</td>\n",
       "      <td>CA</td>\n",
       "      <td>NC</td>\n",
       "      <td>CLT</td>\n",
       "      <td>1123</td>\n",
       "      <td>1910</td>\n",
       "      <td>287.0</td>\n",
       "      <td>-8.0</td>\n",
       "      <td>2125.0</td>\n",
       "      <td>9</td>\n",
       "      <td>2018-10-17 11:23:00</td>\n",
       "      <td>2018-10-17 11:00:00</td>\n",
       "      <td>LAX2018-10-17 11:00:00</td>\n",
       "    </tr>\n",
       "    <tr>\n",
       "      <th>4</th>\n",
       "      <td>4</td>\n",
       "      <td>10</td>\n",
       "      <td>18</td>\n",
       "      <td>4</td>\n",
       "      <td>2018-10-18</td>\n",
       "      <td>AA</td>\n",
       "      <td>N181UW</td>\n",
       "      <td>1674</td>\n",
       "      <td>LAX</td>\n",
       "      <td>CA</td>\n",
       "      <td>NC</td>\n",
       "      <td>CLT</td>\n",
       "      <td>1123</td>\n",
       "      <td>1910</td>\n",
       "      <td>287.0</td>\n",
       "      <td>-4.0</td>\n",
       "      <td>2125.0</td>\n",
       "      <td>9</td>\n",
       "      <td>2018-10-18 11:23:00</td>\n",
       "      <td>2018-10-18 11:00:00</td>\n",
       "      <td>LAX2018-10-18 11:00:00</td>\n",
       "    </tr>\n",
       "  </tbody>\n",
       "</table>\n",
       "</div>"
      ],
      "text/plain": [
       "   Quarter  Month  DayofMonth  DayOfWeek FlightDate Reporting_Airline Tail_Number  \\\n",
       "0        4     10          14          7 2018-10-14                AA      N925UY   \n",
       "1        4     10          15          1 2018-10-15                AA      N583UW   \n",
       "2        4     10          16          2 2018-10-16                AA      N581UW   \n",
       "3        4     10          17          3 2018-10-17                AA      N551UW   \n",
       "4        4     10          18          4 2018-10-18                AA      N181UW   \n",
       "\n",
       "   Flight_Number_Reporting_Airline Origin OriginState DestState Dest  CRSDepTime  CRSArrTime  \\\n",
       "0                             1674    LAX          CA        NC  CLT        1123        1910   \n",
       "1                             1674    LAX          CA        NC  CLT        1123        1910   \n",
       "2                             1674    LAX          CA        NC  CLT        1123        1910   \n",
       "3                             1674    LAX          CA        NC  CLT        1123        1910   \n",
       "4                             1674    LAX          CA        NC  CLT        1123        1910   \n",
       "\n",
       "   CRSElapsedTime  ArrDelay  Distance  DistanceGroup             FL_TIME         FL_TIME_NEW  \\\n",
       "0           287.0     -16.0    2125.0              9 2018-10-14 11:23:00 2018-10-14 11:00:00   \n",
       "1           287.0     -21.0    2125.0              9 2018-10-15 11:23:00 2018-10-15 11:00:00   \n",
       "2           287.0     -14.0    2125.0              9 2018-10-16 11:23:00 2018-10-16 11:00:00   \n",
       "3           287.0      -8.0    2125.0              9 2018-10-17 11:23:00 2018-10-17 11:00:00   \n",
       "4           287.0      -4.0    2125.0              9 2018-10-18 11:23:00 2018-10-18 11:00:00   \n",
       "\n",
       "                 combined  \n",
       "0  LAX2018-10-14 11:00:00  \n",
       "1  LAX2018-10-15 11:00:00  \n",
       "2  LAX2018-10-16 11:00:00  \n",
       "3  LAX2018-10-17 11:00:00  \n",
       "4  LAX2018-10-18 11:00:00  "
      ]
     },
     "execution_count": 58,
     "metadata": {},
     "output_type": "execute_result"
    }
   ],
   "source": [
    "df.head()"
   ]
  },
  {
   "cell_type": "code",
   "execution_count": 59,
   "metadata": {
    "ExecuteTime": {
     "end_time": "2019-05-11T21:31:42.453838Z",
     "start_time": "2019-05-11T21:31:35.155883Z"
    }
   },
   "outputs": [],
   "source": [
    "copy_df = df.copy()"
   ]
  },
  {
   "cell_type": "code",
   "execution_count": 60,
   "metadata": {
    "ExecuteTime": {
     "end_time": "2019-05-11T21:31:42.652639Z",
     "start_time": "2019-05-11T21:31:42.632420Z"
    }
   },
   "outputs": [
    {
     "data": {
      "text/html": [
       "<div>\n",
       "<style scoped>\n",
       "    .dataframe tbody tr th:only-of-type {\n",
       "        vertical-align: middle;\n",
       "    }\n",
       "\n",
       "    .dataframe tbody tr th {\n",
       "        vertical-align: top;\n",
       "    }\n",
       "\n",
       "    .dataframe thead th {\n",
       "        text-align: right;\n",
       "    }\n",
       "</style>\n",
       "<table border=\"1\" class=\"dataframe\">\n",
       "  <thead>\n",
       "    <tr style=\"text-align: right;\">\n",
       "      <th></th>\n",
       "      <th>Quarter</th>\n",
       "      <th>Month</th>\n",
       "      <th>DayofMonth</th>\n",
       "      <th>DayOfWeek</th>\n",
       "      <th>FlightDate</th>\n",
       "      <th>Reporting_Airline</th>\n",
       "      <th>Tail_Number</th>\n",
       "      <th>Flight_Number_Reporting_Airline</th>\n",
       "      <th>Origin</th>\n",
       "      <th>OriginState</th>\n",
       "      <th>DestState</th>\n",
       "      <th>Dest</th>\n",
       "      <th>CRSDepTime</th>\n",
       "      <th>CRSArrTime</th>\n",
       "      <th>CRSElapsedTime</th>\n",
       "      <th>ArrDelay</th>\n",
       "      <th>Distance</th>\n",
       "      <th>DistanceGroup</th>\n",
       "      <th>FL_TIME</th>\n",
       "      <th>FL_TIME_NEW</th>\n",
       "      <th>combined</th>\n",
       "    </tr>\n",
       "  </thead>\n",
       "  <tbody>\n",
       "    <tr>\n",
       "      <th>0</th>\n",
       "      <td>4</td>\n",
       "      <td>10</td>\n",
       "      <td>14</td>\n",
       "      <td>7</td>\n",
       "      <td>2018-10-14</td>\n",
       "      <td>AA</td>\n",
       "      <td>N925UY</td>\n",
       "      <td>1674</td>\n",
       "      <td>LAX</td>\n",
       "      <td>CA</td>\n",
       "      <td>NC</td>\n",
       "      <td>CLT</td>\n",
       "      <td>1123</td>\n",
       "      <td>1910</td>\n",
       "      <td>287.0</td>\n",
       "      <td>-16.0</td>\n",
       "      <td>2125.0</td>\n",
       "      <td>9</td>\n",
       "      <td>2018-10-14 11:23:00</td>\n",
       "      <td>2018-10-14 11:00:00</td>\n",
       "      <td>LAX2018-10-14 11:00:00</td>\n",
       "    </tr>\n",
       "    <tr>\n",
       "      <th>1</th>\n",
       "      <td>4</td>\n",
       "      <td>10</td>\n",
       "      <td>15</td>\n",
       "      <td>1</td>\n",
       "      <td>2018-10-15</td>\n",
       "      <td>AA</td>\n",
       "      <td>N583UW</td>\n",
       "      <td>1674</td>\n",
       "      <td>LAX</td>\n",
       "      <td>CA</td>\n",
       "      <td>NC</td>\n",
       "      <td>CLT</td>\n",
       "      <td>1123</td>\n",
       "      <td>1910</td>\n",
       "      <td>287.0</td>\n",
       "      <td>-21.0</td>\n",
       "      <td>2125.0</td>\n",
       "      <td>9</td>\n",
       "      <td>2018-10-15 11:23:00</td>\n",
       "      <td>2018-10-15 11:00:00</td>\n",
       "      <td>LAX2018-10-15 11:00:00</td>\n",
       "    </tr>\n",
       "    <tr>\n",
       "      <th>2</th>\n",
       "      <td>4</td>\n",
       "      <td>10</td>\n",
       "      <td>16</td>\n",
       "      <td>2</td>\n",
       "      <td>2018-10-16</td>\n",
       "      <td>AA</td>\n",
       "      <td>N581UW</td>\n",
       "      <td>1674</td>\n",
       "      <td>LAX</td>\n",
       "      <td>CA</td>\n",
       "      <td>NC</td>\n",
       "      <td>CLT</td>\n",
       "      <td>1123</td>\n",
       "      <td>1910</td>\n",
       "      <td>287.0</td>\n",
       "      <td>-14.0</td>\n",
       "      <td>2125.0</td>\n",
       "      <td>9</td>\n",
       "      <td>2018-10-16 11:23:00</td>\n",
       "      <td>2018-10-16 11:00:00</td>\n",
       "      <td>LAX2018-10-16 11:00:00</td>\n",
       "    </tr>\n",
       "    <tr>\n",
       "      <th>3</th>\n",
       "      <td>4</td>\n",
       "      <td>10</td>\n",
       "      <td>17</td>\n",
       "      <td>3</td>\n",
       "      <td>2018-10-17</td>\n",
       "      <td>AA</td>\n",
       "      <td>N551UW</td>\n",
       "      <td>1674</td>\n",
       "      <td>LAX</td>\n",
       "      <td>CA</td>\n",
       "      <td>NC</td>\n",
       "      <td>CLT</td>\n",
       "      <td>1123</td>\n",
       "      <td>1910</td>\n",
       "      <td>287.0</td>\n",
       "      <td>-8.0</td>\n",
       "      <td>2125.0</td>\n",
       "      <td>9</td>\n",
       "      <td>2018-10-17 11:23:00</td>\n",
       "      <td>2018-10-17 11:00:00</td>\n",
       "      <td>LAX2018-10-17 11:00:00</td>\n",
       "    </tr>\n",
       "    <tr>\n",
       "      <th>4</th>\n",
       "      <td>4</td>\n",
       "      <td>10</td>\n",
       "      <td>18</td>\n",
       "      <td>4</td>\n",
       "      <td>2018-10-18</td>\n",
       "      <td>AA</td>\n",
       "      <td>N181UW</td>\n",
       "      <td>1674</td>\n",
       "      <td>LAX</td>\n",
       "      <td>CA</td>\n",
       "      <td>NC</td>\n",
       "      <td>CLT</td>\n",
       "      <td>1123</td>\n",
       "      <td>1910</td>\n",
       "      <td>287.0</td>\n",
       "      <td>-4.0</td>\n",
       "      <td>2125.0</td>\n",
       "      <td>9</td>\n",
       "      <td>2018-10-18 11:23:00</td>\n",
       "      <td>2018-10-18 11:00:00</td>\n",
       "      <td>LAX2018-10-18 11:00:00</td>\n",
       "    </tr>\n",
       "  </tbody>\n",
       "</table>\n",
       "</div>"
      ],
      "text/plain": [
       "   Quarter  Month  DayofMonth  DayOfWeek FlightDate Reporting_Airline Tail_Number  \\\n",
       "0        4     10          14          7 2018-10-14                AA      N925UY   \n",
       "1        4     10          15          1 2018-10-15                AA      N583UW   \n",
       "2        4     10          16          2 2018-10-16                AA      N581UW   \n",
       "3        4     10          17          3 2018-10-17                AA      N551UW   \n",
       "4        4     10          18          4 2018-10-18                AA      N181UW   \n",
       "\n",
       "   Flight_Number_Reporting_Airline Origin OriginState DestState Dest  CRSDepTime  CRSArrTime  \\\n",
       "0                             1674    LAX          CA        NC  CLT        1123        1910   \n",
       "1                             1674    LAX          CA        NC  CLT        1123        1910   \n",
       "2                             1674    LAX          CA        NC  CLT        1123        1910   \n",
       "3                             1674    LAX          CA        NC  CLT        1123        1910   \n",
       "4                             1674    LAX          CA        NC  CLT        1123        1910   \n",
       "\n",
       "   CRSElapsedTime  ArrDelay  Distance  DistanceGroup             FL_TIME         FL_TIME_NEW  \\\n",
       "0           287.0     -16.0    2125.0              9 2018-10-14 11:23:00 2018-10-14 11:00:00   \n",
       "1           287.0     -21.0    2125.0              9 2018-10-15 11:23:00 2018-10-15 11:00:00   \n",
       "2           287.0     -14.0    2125.0              9 2018-10-16 11:23:00 2018-10-16 11:00:00   \n",
       "3           287.0      -8.0    2125.0              9 2018-10-17 11:23:00 2018-10-17 11:00:00   \n",
       "4           287.0      -4.0    2125.0              9 2018-10-18 11:23:00 2018-10-18 11:00:00   \n",
       "\n",
       "                 combined  \n",
       "0  LAX2018-10-14 11:00:00  \n",
       "1  LAX2018-10-15 11:00:00  \n",
       "2  LAX2018-10-16 11:00:00  \n",
       "3  LAX2018-10-17 11:00:00  \n",
       "4  LAX2018-10-18 11:00:00  "
      ]
     },
     "execution_count": 60,
     "metadata": {},
     "output_type": "execute_result"
    }
   ],
   "source": [
    "copy_df.head()"
   ]
  },
  {
   "cell_type": "code",
   "execution_count": 61,
   "metadata": {
    "ExecuteTime": {
     "end_time": "2019-05-11T21:31:42.817048Z",
     "start_time": "2019-05-11T21:31:42.804009Z"
    }
   },
   "outputs": [
    {
     "data": {
      "text/html": [
       "<div>\n",
       "<style scoped>\n",
       "    .dataframe tbody tr th:only-of-type {\n",
       "        vertical-align: middle;\n",
       "    }\n",
       "\n",
       "    .dataframe tbody tr th {\n",
       "        vertical-align: top;\n",
       "    }\n",
       "\n",
       "    .dataframe thead th {\n",
       "        text-align: right;\n",
       "    }\n",
       "</style>\n",
       "<table border=\"1\" class=\"dataframe\">\n",
       "  <thead>\n",
       "    <tr style=\"text-align: right;\">\n",
       "      <th></th>\n",
       "      <th>combined</th>\n",
       "      <th>temp</th>\n",
       "      <th>wind</th>\n",
       "      <th>ave_vis</th>\n",
       "      <th>precip_sum</th>\n",
       "    </tr>\n",
       "  </thead>\n",
       "  <tbody>\n",
       "    <tr>\n",
       "      <th>0</th>\n",
       "      <td>ATL2018-01-01 00:00:00</td>\n",
       "      <td>26.1</td>\n",
       "      <td>17.0</td>\n",
       "      <td>0.0</td>\n",
       "      <td>0.0</td>\n",
       "    </tr>\n",
       "    <tr>\n",
       "      <th>1</th>\n",
       "      <td>ATL2018-01-01 01:00:00</td>\n",
       "      <td>25.0</td>\n",
       "      <td>16.0</td>\n",
       "      <td>0.0</td>\n",
       "      <td>0.0</td>\n",
       "    </tr>\n",
       "    <tr>\n",
       "      <th>2</th>\n",
       "      <td>ATL2018-01-01 02:00:00</td>\n",
       "      <td>23.0</td>\n",
       "      <td>16.0</td>\n",
       "      <td>0.0</td>\n",
       "      <td>0.0</td>\n",
       "    </tr>\n",
       "    <tr>\n",
       "      <th>3</th>\n",
       "      <td>ATL2018-01-01 03:00:00</td>\n",
       "      <td>21.9</td>\n",
       "      <td>15.0</td>\n",
       "      <td>0.0</td>\n",
       "      <td>0.0</td>\n",
       "    </tr>\n",
       "    <tr>\n",
       "      <th>4</th>\n",
       "      <td>ATL2018-01-01 04:00:00</td>\n",
       "      <td>21.0</td>\n",
       "      <td>17.0</td>\n",
       "      <td>0.0</td>\n",
       "      <td>0.0</td>\n",
       "    </tr>\n",
       "  </tbody>\n",
       "</table>\n",
       "</div>"
      ],
      "text/plain": [
       "                 combined  temp  wind  ave_vis  precip_sum\n",
       "0  ATL2018-01-01 00:00:00  26.1  17.0      0.0         0.0\n",
       "1  ATL2018-01-01 01:00:00  25.0  16.0      0.0         0.0\n",
       "2  ATL2018-01-01 02:00:00  23.0  16.0      0.0         0.0\n",
       "3  ATL2018-01-01 03:00:00  21.9  15.0      0.0         0.0\n",
       "4  ATL2018-01-01 04:00:00  21.0  17.0      0.0         0.0"
      ]
     },
     "execution_count": 61,
     "metadata": {},
     "output_type": "execute_result"
    }
   ],
   "source": [
    "weather_df_new1.head()"
   ]
  },
  {
   "cell_type": "code",
   "execution_count": 62,
   "metadata": {
    "ExecuteTime": {
     "end_time": "2019-05-11T21:31:42.975989Z",
     "start_time": "2019-05-11T21:31:42.973802Z"
    }
   },
   "outputs": [],
   "source": [
    "#mapping the weather data to the flight dataframe"
   ]
  },
  {
   "cell_type": "code",
   "execution_count": 63,
   "metadata": {
    "ExecuteTime": {
     "end_time": "2019-05-11T21:31:43.201794Z",
     "start_time": "2019-05-11T21:31:43.117688Z"
    }
   },
   "outputs": [],
   "source": [
    "weather_df_new1['zip'] = list(zip(weather_df_new1.temp, weather_df_new1.wind, weather_df_new1.ave_vis,\n",
    "                                  weather_df_new1.precip_sum))"
   ]
  },
  {
   "cell_type": "code",
   "execution_count": 64,
   "metadata": {
    "ExecuteTime": {
     "end_time": "2019-05-11T21:31:43.403385Z",
     "start_time": "2019-05-11T21:31:43.389100Z"
    }
   },
   "outputs": [
    {
     "data": {
      "text/html": [
       "<div>\n",
       "<style scoped>\n",
       "    .dataframe tbody tr th:only-of-type {\n",
       "        vertical-align: middle;\n",
       "    }\n",
       "\n",
       "    .dataframe tbody tr th {\n",
       "        vertical-align: top;\n",
       "    }\n",
       "\n",
       "    .dataframe thead th {\n",
       "        text-align: right;\n",
       "    }\n",
       "</style>\n",
       "<table border=\"1\" class=\"dataframe\">\n",
       "  <thead>\n",
       "    <tr style=\"text-align: right;\">\n",
       "      <th></th>\n",
       "      <th>combined</th>\n",
       "      <th>temp</th>\n",
       "      <th>wind</th>\n",
       "      <th>ave_vis</th>\n",
       "      <th>precip_sum</th>\n",
       "      <th>zip</th>\n",
       "    </tr>\n",
       "  </thead>\n",
       "  <tbody>\n",
       "    <tr>\n",
       "      <th>0</th>\n",
       "      <td>ATL2018-01-01 00:00:00</td>\n",
       "      <td>26.1</td>\n",
       "      <td>17.0</td>\n",
       "      <td>0.0</td>\n",
       "      <td>0.0</td>\n",
       "      <td>(26.1, 17.0, 0.0, 0.0)</td>\n",
       "    </tr>\n",
       "    <tr>\n",
       "      <th>1</th>\n",
       "      <td>ATL2018-01-01 01:00:00</td>\n",
       "      <td>25.0</td>\n",
       "      <td>16.0</td>\n",
       "      <td>0.0</td>\n",
       "      <td>0.0</td>\n",
       "      <td>(25.0, 16.0, 0.0, 0.0)</td>\n",
       "    </tr>\n",
       "    <tr>\n",
       "      <th>2</th>\n",
       "      <td>ATL2018-01-01 02:00:00</td>\n",
       "      <td>23.0</td>\n",
       "      <td>16.0</td>\n",
       "      <td>0.0</td>\n",
       "      <td>0.0</td>\n",
       "      <td>(23.0, 16.0, 0.0, 0.0)</td>\n",
       "    </tr>\n",
       "    <tr>\n",
       "      <th>3</th>\n",
       "      <td>ATL2018-01-01 03:00:00</td>\n",
       "      <td>21.9</td>\n",
       "      <td>15.0</td>\n",
       "      <td>0.0</td>\n",
       "      <td>0.0</td>\n",
       "      <td>(21.9, 15.0, 0.0, 0.0)</td>\n",
       "    </tr>\n",
       "    <tr>\n",
       "      <th>4</th>\n",
       "      <td>ATL2018-01-01 04:00:00</td>\n",
       "      <td>21.0</td>\n",
       "      <td>17.0</td>\n",
       "      <td>0.0</td>\n",
       "      <td>0.0</td>\n",
       "      <td>(21.0, 17.0, 0.0, 0.0)</td>\n",
       "    </tr>\n",
       "  </tbody>\n",
       "</table>\n",
       "</div>"
      ],
      "text/plain": [
       "                 combined  temp  wind  ave_vis  precip_sum                     zip\n",
       "0  ATL2018-01-01 00:00:00  26.1  17.0      0.0         0.0  (26.1, 17.0, 0.0, 0.0)\n",
       "1  ATL2018-01-01 01:00:00  25.0  16.0      0.0         0.0  (25.0, 16.0, 0.0, 0.0)\n",
       "2  ATL2018-01-01 02:00:00  23.0  16.0      0.0         0.0  (23.0, 16.0, 0.0, 0.0)\n",
       "3  ATL2018-01-01 03:00:00  21.9  15.0      0.0         0.0  (21.9, 15.0, 0.0, 0.0)\n",
       "4  ATL2018-01-01 04:00:00  21.0  17.0      0.0         0.0  (21.0, 17.0, 0.0, 0.0)"
      ]
     },
     "execution_count": 64,
     "metadata": {},
     "output_type": "execute_result"
    }
   ],
   "source": [
    "weather_df_new1.head()"
   ]
  },
  {
   "cell_type": "code",
   "execution_count": 65,
   "metadata": {
    "ExecuteTime": {
     "end_time": "2019-05-11T21:31:43.646598Z",
     "start_time": "2019-05-11T21:31:43.581658Z"
    }
   },
   "outputs": [],
   "source": [
    "look_up = weather_df_new1.copy().drop(columns=['temp','wind','ave_vis','precip_sum'])"
   ]
  },
  {
   "cell_type": "code",
   "execution_count": 66,
   "metadata": {
    "ExecuteTime": {
     "end_time": "2019-05-11T21:31:43.899541Z",
     "start_time": "2019-05-11T21:31:43.880306Z"
    }
   },
   "outputs": [],
   "source": [
    "look_up = look_up.set_index('combined')"
   ]
  },
  {
   "cell_type": "code",
   "execution_count": 67,
   "metadata": {
    "ExecuteTime": {
     "end_time": "2019-05-11T21:31:44.095958Z",
     "start_time": "2019-05-11T21:31:44.087723Z"
    }
   },
   "outputs": [
    {
     "data": {
      "text/html": [
       "<div>\n",
       "<style scoped>\n",
       "    .dataframe tbody tr th:only-of-type {\n",
       "        vertical-align: middle;\n",
       "    }\n",
       "\n",
       "    .dataframe tbody tr th {\n",
       "        vertical-align: top;\n",
       "    }\n",
       "\n",
       "    .dataframe thead th {\n",
       "        text-align: right;\n",
       "    }\n",
       "</style>\n",
       "<table border=\"1\" class=\"dataframe\">\n",
       "  <thead>\n",
       "    <tr style=\"text-align: right;\">\n",
       "      <th></th>\n",
       "      <th>zip</th>\n",
       "    </tr>\n",
       "    <tr>\n",
       "      <th>combined</th>\n",
       "      <th></th>\n",
       "    </tr>\n",
       "  </thead>\n",
       "  <tbody>\n",
       "    <tr>\n",
       "      <th>ATL2018-01-01 00:00:00</th>\n",
       "      <td>(26.1, 17.0, 0.0, 0.0)</td>\n",
       "    </tr>\n",
       "    <tr>\n",
       "      <th>ATL2018-01-01 01:00:00</th>\n",
       "      <td>(25.0, 16.0, 0.0, 0.0)</td>\n",
       "    </tr>\n",
       "    <tr>\n",
       "      <th>ATL2018-01-01 02:00:00</th>\n",
       "      <td>(23.0, 16.0, 0.0, 0.0)</td>\n",
       "    </tr>\n",
       "    <tr>\n",
       "      <th>ATL2018-01-01 03:00:00</th>\n",
       "      <td>(21.9, 15.0, 0.0, 0.0)</td>\n",
       "    </tr>\n",
       "    <tr>\n",
       "      <th>ATL2018-01-01 04:00:00</th>\n",
       "      <td>(21.0, 17.0, 0.0, 0.0)</td>\n",
       "    </tr>\n",
       "  </tbody>\n",
       "</table>\n",
       "</div>"
      ],
      "text/plain": [
       "                                           zip\n",
       "combined                                      \n",
       "ATL2018-01-01 00:00:00  (26.1, 17.0, 0.0, 0.0)\n",
       "ATL2018-01-01 01:00:00  (25.0, 16.0, 0.0, 0.0)\n",
       "ATL2018-01-01 02:00:00  (23.0, 16.0, 0.0, 0.0)\n",
       "ATL2018-01-01 03:00:00  (21.9, 15.0, 0.0, 0.0)\n",
       "ATL2018-01-01 04:00:00  (21.0, 17.0, 0.0, 0.0)"
      ]
     },
     "execution_count": 67,
     "metadata": {},
     "output_type": "execute_result"
    }
   ],
   "source": [
    "look_up.head()"
   ]
  },
  {
   "cell_type": "code",
   "execution_count": 68,
   "metadata": {
    "ExecuteTime": {
     "end_time": "2019-05-11T21:31:44.315401Z",
     "start_time": "2019-05-11T21:31:44.278198Z"
    }
   },
   "outputs": [],
   "source": [
    "weather_dict = look_up.to_dict()['zip']"
   ]
  },
  {
   "cell_type": "code",
   "execution_count": 69,
   "metadata": {
    "ExecuteTime": {
     "end_time": "2019-05-11T21:31:46.342614Z",
     "start_time": "2019-05-11T21:31:44.620249Z"
    }
   },
   "outputs": [],
   "source": [
    "copy_df['zipped'] = copy_df.combined.map(weather_dict)"
   ]
  },
  {
   "cell_type": "code",
   "execution_count": 71,
   "metadata": {
    "ExecuteTime": {
     "end_time": "2019-05-11T21:32:39.661112Z",
     "start_time": "2019-05-11T21:32:27.591856Z"
    },
    "scrolled": true
   },
   "outputs": [],
   "source": [
    "copy_df = copy_df.fillna(0)"
   ]
  },
  {
   "cell_type": "code",
   "execution_count": 73,
   "metadata": {
    "ExecuteTime": {
     "end_time": "2019-05-11T21:32:47.995732Z",
     "start_time": "2019-05-11T21:32:46.640759Z"
    }
   },
   "outputs": [],
   "source": [
    "copy_df['zipped'] = copy_df.zipped.apply(lambda x: (0,0,0,0) if x==0 else x)"
   ]
  },
  {
   "cell_type": "code",
   "execution_count": 76,
   "metadata": {
    "ExecuteTime": {
     "end_time": "2019-05-12T03:44:06.714778Z",
     "start_time": "2019-05-12T03:44:03.440684Z"
    }
   },
   "outputs": [],
   "source": [
    " copy_df[['tempF','wind','ave_vis','precip_sum']] = pd.DataFrame(copy_df['zipped'].tolist(), index=df.index)                                                                                                                       "
   ]
  },
  {
   "cell_type": "code",
   "execution_count": null,
   "metadata": {},
   "outputs": [],
   "source": []
  },
  {
   "cell_type": "code",
   "execution_count": null,
   "metadata": {},
   "outputs": [],
   "source": []
  },
  {
   "cell_type": "code",
   "execution_count": 78,
   "metadata": {
    "ExecuteTime": {
     "end_time": "2019-05-12T03:48:32.214233Z",
     "start_time": "2019-05-12T03:46:01.125001Z"
    }
   },
   "outputs": [],
   "source": [
    "#export the dataframe as a csv to model\n",
    "copy_df.to_csv('./Data/2018NEW.csv', index = False, encoding = 'utf-8')"
   ]
  },
  {
   "cell_type": "code",
   "execution_count": null,
   "metadata": {},
   "outputs": [],
   "source": []
  }
 ],
 "metadata": {
  "kernelspec": {
   "display_name": "Python 3",
   "language": "python",
   "name": "python3"
  },
  "language_info": {
   "codemirror_mode": {
    "name": "ipython",
    "version": 3
   },
   "file_extension": ".py",
   "mimetype": "text/x-python",
   "name": "python",
   "nbconvert_exporter": "python",
   "pygments_lexer": "ipython3",
   "version": "3.7.1"
  },
  "toc": {
   "base_numbering": 1,
   "nav_menu": {},
   "number_sections": true,
   "sideBar": true,
   "skip_h1_title": false,
   "title_cell": "Table of Contents",
   "title_sidebar": "Contents",
   "toc_cell": false,
   "toc_position": {},
   "toc_section_display": true,
   "toc_window_display": false
  },
  "varInspector": {
   "cols": {
    "lenName": 16,
    "lenType": 16,
    "lenVar": 40
   },
   "kernels_config": {
    "python": {
     "delete_cmd_postfix": "",
     "delete_cmd_prefix": "del ",
     "library": "var_list.py",
     "varRefreshCmd": "print(var_dic_list())"
    },
    "r": {
     "delete_cmd_postfix": ") ",
     "delete_cmd_prefix": "rm(",
     "library": "var_list.r",
     "varRefreshCmd": "cat(var_dic_list()) "
    }
   },
   "types_to_exclude": [
    "module",
    "function",
    "builtin_function_or_method",
    "instance",
    "_Feature"
   ],
   "window_display": false
  }
 },
 "nbformat": 4,
 "nbformat_minor": 2
}
