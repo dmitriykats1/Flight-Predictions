{
 "cells": [
  {
   "cell_type": "code",
   "execution_count": 1,
   "metadata": {
    "ExecuteTime": {
     "end_time": "2019-07-25T21:29:02.832498Z",
     "start_time": "2019-07-25T21:28:59.848883Z"
    }
   },
   "outputs": [],
   "source": [
    "import pandas as pd\n",
    "import numpy as np\n",
    "import seaborn as sns\n",
    "import matplotlib.pyplot as plt"
   ]
  },
  {
   "cell_type": "code",
   "execution_count": 2,
   "metadata": {
    "ExecuteTime": {
     "end_time": "2019-07-25T21:29:07.985956Z",
     "start_time": "2019-07-25T21:29:07.981987Z"
    }
   },
   "outputs": [],
   "source": [
    "#Define the location of the Data\n",
    "path = '../data/'"
   ]
  },
  {
   "cell_type": "markdown",
   "metadata": {},
   "source": [
    "# Import All Data"
   ]
  },
  {
   "cell_type": "code",
   "execution_count": 6,
   "metadata": {
    "ExecuteTime": {
     "end_time": "2019-07-26T17:30:20.749157Z",
     "start_time": "2019-07-26T17:29:42.473965Z"
    }
   },
   "outputs": [],
   "source": [
    "#import the 2017 Data\n",
    "df = pd.read_csv(f'{path}/interim/2017New.csv')"
   ]
  },
  {
   "cell_type": "code",
   "execution_count": 7,
   "metadata": {
    "ExecuteTime": {
     "end_time": "2019-07-26T17:30:32.661457Z",
     "start_time": "2019-07-26T17:30:30.808535Z"
    }
   },
   "outputs": [],
   "source": [
    "#Let's remove the features that will not be available for predicting flights\n",
    "df = df[['Quarter', 'Month', 'DayofMonth', 'DayOfWeek', 'FlightDate',\n",
    "       'Reporting_Airline', 'Tail_Number', 'Flight_Number_Reporting_Airline',\n",
    "       'Origin', 'OriginState', 'DestState', 'Dest', 'CRSDepTime', 'CRSArrTime', 'CRSElapsedTime',\n",
    "       'ArrDelay', 'Distance', 'DistanceGroup','tempF','wind','ave_vis','precip_sum']]\n",
    "airlines = list(df.Reporting_Airline.unique())"
   ]
  },
  {
   "cell_type": "markdown",
   "metadata": {},
   "source": [
    "# Feature Engineering"
   ]
  },
  {
   "cell_type": "markdown",
   "metadata": {},
   "source": [
    "## Hourly Bins"
   ]
  },
  {
   "cell_type": "code",
   "execution_count": 8,
   "metadata": {
    "ExecuteTime": {
     "end_time": "2019-07-26T17:31:05.792941Z",
     "start_time": "2019-07-26T17:30:51.609466Z"
    }
   },
   "outputs": [],
   "source": [
    "#Let's convert the DEP_TIME and ARR_TIME into hours only. \n",
    "df['ARR_HOUR'] = df['CRSArrTime'].apply(lambda x: int(str(x)[:2]) if x>999 else int(str(x)[:1] if x>99 else 0))\n",
    "df['ARR_HOUR'] = df['ARR_HOUR'].apply(lambda x:0 if x==24 else x)\n",
    "df['DEP_HOUR'] = df['CRSDepTime'].apply(lambda x: int(str(x)[:2]) if x>999 else int(str(x)[:1] if x>99 else 0))\n",
    "df = df.drop(columns=['CRSDepTime', 'CRSArrTime'])"
   ]
  },
  {
   "cell_type": "markdown",
   "metadata": {},
   "source": [
    "## Direction of Flight"
   ]
  },
  {
   "cell_type": "code",
   "execution_count": 9,
   "metadata": {
    "ExecuteTime": {
     "end_time": "2019-07-26T17:33:23.146579Z",
     "start_time": "2019-07-26T17:31:35.000500Z"
    }
   },
   "outputs": [],
   "source": [
    "#let's add a direction of flight features\n",
    "#import airport location information csv\n",
    "airport_location = pd.read_csv(f'{path}/interim/airport_loc.csv')\n",
    "#combine Latitude and Longitude into a tuple and form a new column and drop the Latitude & Longitude columns\n",
    "airport_location['location'] = list(zip(airport_location.Latitude, airport_location.Longitude))\n",
    "airports_locs = airport_location.copy()\n",
    "airports_locs.head()\n",
    "airports_locs.drop(['Latitude', 'Longitude'], axis=1, inplace=True)\n",
    "airport_loc = airports_locs.set_index('locationID').to_dict()['location']\n",
    "\n",
    "#create two new columns with location coordinates of origin and destination airports\n",
    "df['ORIGIN_LOC'] = df.Origin.apply(lambda x: airport_loc.get(x))\n",
    "df['DEST_LOC'] = df.Dest.apply(lambda x: airport_loc.get(x))\n",
    "\n",
    "#turn into an array so we can subtract and determine which direction the plane is traveling\n",
    "df.ORIGIN_LOC = df.ORIGIN_LOC.apply(lambda x: np.asarray(x))\n",
    "df.DEST_LOC = df.DEST_LOC.apply(lambda x: np.asarray(x))\n",
    "df['DIRECTION'] = df.ORIGIN_LOC - df.DEST_LOC\n",
    "\n",
    "df = df.dropna(subset=['DIRECTION'])\n",
    "#(n/s - increasing to the north : e/w - increasing to the west)\n",
    "# if first number is negative = south - north = plane is going north\n",
    "# if second number is negative = east - west = plane is going west\n",
    "\n",
    "def direction(latlong):\n",
    "    if latlong[0] < 0:\n",
    "        direction1 = 'North'\n",
    "    else:\n",
    "        direction1 = 'South'\n",
    "    if latlong[1] < 0:\n",
    "        direction2 = 'West'\n",
    "    else:\n",
    "        direction2 = 'East'\n",
    "    if abs(latlong[0]) > abs(latlong[1]):\n",
    "        dom_dir = direction1\n",
    "    else:\n",
    "        dom_dir = direction2\n",
    "    return dom_dir      \n",
    "df['DOM_DIRECTION'] = df.DIRECTION.apply(direction)\n",
    "\n",
    "#clean up and delete the columns created for this tranformation\n",
    "df = df.drop(columns=['ORIGIN_LOC', 'DEST_LOC', 'DIRECTION'])"
   ]
  },
  {
   "cell_type": "markdown",
   "metadata": {},
   "source": [
    "## Hourly Flight Frequency"
   ]
  },
  {
   "cell_type": "code",
   "execution_count": 10,
   "metadata": {
    "ExecuteTime": {
     "end_time": "2019-07-26T17:33:37.761753Z",
     "start_time": "2019-07-26T17:33:27.102802Z"
    }
   },
   "outputs": [],
   "source": [
    "#create a dataframe with multiIndex for easy lookup\n",
    "fltfrq_df = pd.DataFrame(df.groupby(['Origin', 'Month', 'DayofMonth', 'DayOfWeek', 'DEP_HOUR'])['Month'].count())\n",
    "\n",
    "fltfrq_df_dict = fltfrq_df.to_dict()['Month']\n",
    "\n",
    "#create a tuple column with all the required information to look up the flight frequency \n",
    "#in the newly created dictionary (fltfrq_df_dict)\n",
    "df['temp'] = list(zip(df.Origin, df.Month, df.DayofMonth, df.DayOfWeek, df.DEP_HOUR))\n",
    "df['flight_freq'] = df.temp.apply(lambda x: fltfrq_df_dict.get(x))\n",
    "df = df.drop(columns=['temp'])"
   ]
  },
  {
   "cell_type": "markdown",
   "metadata": {},
   "source": [
    "## Passenger Loading Data"
   ]
  },
  {
   "cell_type": "code",
   "execution_count": 11,
   "metadata": {
    "ExecuteTime": {
     "end_time": "2019-07-26T17:33:45.199012Z",
     "start_time": "2019-07-26T17:33:42.197112Z"
    }
   },
   "outputs": [],
   "source": [
    "#import the passenger load data\n",
    "load_factor_df = pd.read_csv(f'{path}/interim/Loading2017.csv')\n",
    "load_factor_df = load_factor_df[load_factor_df.CARRIER.isin(airlines)]\n",
    "load_factor_df['LOAD_FACTOR'] = (load_factor_df.PASSENGERS * load_factor_df.DISTANCE) /\\\n",
    "(load_factor_df.SEATS * load_factor_df.DISTANCE)\n",
    "look_up_factor = pd.DataFrame(load_factor_df.groupby(['MONTH', 'CARRIER', 'ORIGIN','DEST'])['LOAD_FACTOR'].mean())"
   ]
  },
  {
   "cell_type": "code",
   "execution_count": 12,
   "metadata": {
    "ExecuteTime": {
     "end_time": "2019-07-26T17:33:49.778339Z",
     "start_time": "2019-07-26T17:33:49.665477Z"
    }
   },
   "outputs": [],
   "source": [
    "load_factor_dict = look_up_factor.to_dict()['LOAD_FACTOR']"
   ]
  },
  {
   "cell_type": "code",
   "execution_count": 13,
   "metadata": {
    "ExecuteTime": {
     "end_time": "2019-07-26T17:34:08.314226Z",
     "start_time": "2019-07-26T17:33:57.293491Z"
    }
   },
   "outputs": [],
   "source": [
    "df['temp'] = list(zip(df.Month, df.Reporting_Airline, df.Origin, df.Dest))\n",
    "df['LoadFactor'] = df.temp.apply(lambda x: load_factor_dict.get((x)))\n",
    "df = df.drop(columns=['temp'])"
   ]
  },
  {
   "cell_type": "markdown",
   "metadata": {},
   "source": [
    "## Plane Data from FAA"
   ]
  },
  {
   "cell_type": "code",
   "execution_count": 14,
   "metadata": {
    "ExecuteTime": {
     "end_time": "2019-07-26T17:35:32.922335Z",
     "start_time": "2019-07-26T17:35:06.332952Z"
    }
   },
   "outputs": [],
   "source": [
    "plane_info_df = pd.read_csv(f'{path}/interim/plane_info.csv')\n",
    "plane_info_df['zip'] = list(zip(plane_info_df.mf_name, plane_info_df.mf_year,\n",
    "                                plane_info_df.plane_model, plane_info_df.eng_model))\n",
    "\n",
    "plane_info_df = plane_info_df.drop(columns=['mf_name', 'mf_year', 'plane_model', 'eng_model',\n",
    "                                           'aw_date'])\n",
    "#set teh reg_number as index\n",
    "plane_info_df = plane_info_df.set_index('reg_number')\n",
    "\n",
    "#construct a dictionary\n",
    "plane_dict = plane_info_df.to_dict()['zip']\n",
    "\n",
    "df['new'] = df.Tail_Number.apply(lambda x: plane_dict.get(x))\n",
    "df = df.fillna(0)\n",
    "df['new'] = df.new.apply(lambda x: (0,0,0,0) if x==0 else x)\n",
    "df[['mf_name', 'mf_year', 'plane_model', 'eng_model']] = pd.DataFrame(df['new'].tolist(), index=df.index) \n",
    "\n",
    "df = df.drop(columns='new')\n",
    "df.mf_year = pd.to_numeric(df.mf_year, errors='coerce')\n",
    "df.mf_year = df.mf_year.fillna(2017)\n",
    "df['plane_age'] = 2017 - df.mf_year"
   ]
  },
  {
   "cell_type": "markdown",
   "metadata": {},
   "source": [
    "## Weather"
   ]
  },
  {
   "cell_type": "markdown",
   "metadata": {},
   "source": [
    "https://mesonet.agron.iastate.edu/ASOS/"
   ]
  },
  {
   "cell_type": "markdown",
   "metadata": {},
   "source": [
    "Weather data has been pre-processed in a separate notebook and imported in the flight dataset. We're using Origin airport with 5 hours sum prior to departure precipitation data, averaged 5-hour visibility data, hourly temperature data, and hourly wind data."
   ]
  },
  {
   "cell_type": "code",
   "execution_count": 16,
   "metadata": {
    "ExecuteTime": {
     "end_time": "2019-07-26T17:38:16.440737Z",
     "start_time": "2019-07-26T17:38:16.430067Z"
    }
   },
   "outputs": [
    {
     "data": {
      "text/plain": [
       "Index(['Quarter', 'Month', 'DayofMonth', 'DayOfWeek', 'FlightDate',\n",
       "       'Reporting_Airline', 'Tail_Number', 'Flight_Number_Reporting_Airline',\n",
       "       'Origin', 'OriginState', 'DestState', 'Dest', 'CRSElapsedTime',\n",
       "       'ArrDelay', 'Distance', 'DistanceGroup', 'tempF', 'wind', 'ave_vis',\n",
       "       'precip_sum', 'ARR_HOUR', 'DEP_HOUR', 'DOM_DIRECTION', 'flight_freq',\n",
       "       'LoadFactor', 'mf_name', 'mf_year', 'plane_model', 'eng_model',\n",
       "       'plane_age'],\n",
       "      dtype='object')"
      ]
     },
     "execution_count": 16,
     "metadata": {},
     "output_type": "execute_result"
    }
   ],
   "source": [
    "df.columns"
   ]
  },
  {
   "cell_type": "code",
   "execution_count": 15,
   "metadata": {
    "ExecuteTime": {
     "end_time": "2019-07-26T17:35:57.166948Z",
     "start_time": "2019-07-26T17:35:57.075863Z"
    }
   },
   "outputs": [
    {
     "data": {
      "text/html": [
       "<div>\n",
       "<style scoped>\n",
       "    .dataframe tbody tr th:only-of-type {\n",
       "        vertical-align: middle;\n",
       "    }\n",
       "\n",
       "    .dataframe tbody tr th {\n",
       "        vertical-align: top;\n",
       "    }\n",
       "\n",
       "    .dataframe thead th {\n",
       "        text-align: right;\n",
       "    }\n",
       "</style>\n",
       "<table border=\"1\" class=\"dataframe\">\n",
       "  <thead>\n",
       "    <tr style=\"text-align: right;\">\n",
       "      <th></th>\n",
       "      <th>Quarter</th>\n",
       "      <th>Month</th>\n",
       "      <th>DayofMonth</th>\n",
       "      <th>DayOfWeek</th>\n",
       "      <th>FlightDate</th>\n",
       "      <th>Reporting_Airline</th>\n",
       "      <th>Tail_Number</th>\n",
       "      <th>Flight_Number_Reporting_Airline</th>\n",
       "      <th>Origin</th>\n",
       "      <th>OriginState</th>\n",
       "      <th>...</th>\n",
       "      <th>ARR_HOUR</th>\n",
       "      <th>DEP_HOUR</th>\n",
       "      <th>DOM_DIRECTION</th>\n",
       "      <th>flight_freq</th>\n",
       "      <th>LoadFactor</th>\n",
       "      <th>mf_name</th>\n",
       "      <th>mf_year</th>\n",
       "      <th>plane_model</th>\n",
       "      <th>eng_model</th>\n",
       "      <th>plane_age</th>\n",
       "    </tr>\n",
       "  </thead>\n",
       "  <tbody>\n",
       "    <tr>\n",
       "      <th>0</th>\n",
       "      <td>2</td>\n",
       "      <td>5</td>\n",
       "      <td>6</td>\n",
       "      <td>6</td>\n",
       "      <td>2017-05-06 00:00:00</td>\n",
       "      <td>WN</td>\n",
       "      <td>N7824A</td>\n",
       "      <td>4652</td>\n",
       "      <td>SJC</td>\n",
       "      <td>CA</td>\n",
       "      <td>...</td>\n",
       "      <td>8</td>\n",
       "      <td>6</td>\n",
       "      <td>East</td>\n",
       "      <td>17</td>\n",
       "      <td>0.745438</td>\n",
       "      <td>BOEING</td>\n",
       "      <td>2001.0</td>\n",
       "      <td>737-7BK</td>\n",
       "      <td>CFM56 SERIES</td>\n",
       "      <td>16.0</td>\n",
       "    </tr>\n",
       "    <tr>\n",
       "      <th>1</th>\n",
       "      <td>2</td>\n",
       "      <td>5</td>\n",
       "      <td>6</td>\n",
       "      <td>6</td>\n",
       "      <td>2017-05-06 00:00:00</td>\n",
       "      <td>WN</td>\n",
       "      <td>N8522P</td>\n",
       "      <td>4971</td>\n",
       "      <td>SJC</td>\n",
       "      <td>CA</td>\n",
       "      <td>...</td>\n",
       "      <td>18</td>\n",
       "      <td>17</td>\n",
       "      <td>East</td>\n",
       "      <td>7</td>\n",
       "      <td>0.745438</td>\n",
       "      <td>BOEING</td>\n",
       "      <td>2017.0</td>\n",
       "      <td>737-800</td>\n",
       "      <td>CFM56-7B27E/F</td>\n",
       "      <td>0.0</td>\n",
       "    </tr>\n",
       "    <tr>\n",
       "      <th>2</th>\n",
       "      <td>2</td>\n",
       "      <td>5</td>\n",
       "      <td>6</td>\n",
       "      <td>6</td>\n",
       "      <td>2017-05-06 00:00:00</td>\n",
       "      <td>WN</td>\n",
       "      <td>N8617E</td>\n",
       "      <td>5113</td>\n",
       "      <td>SJC</td>\n",
       "      <td>CA</td>\n",
       "      <td>...</td>\n",
       "      <td>12</td>\n",
       "      <td>11</td>\n",
       "      <td>East</td>\n",
       "      <td>8</td>\n",
       "      <td>0.745438</td>\n",
       "      <td>BOEING</td>\n",
       "      <td>2013.0</td>\n",
       "      <td>737-8H4</td>\n",
       "      <td>CFM56-7B27E</td>\n",
       "      <td>4.0</td>\n",
       "    </tr>\n",
       "    <tr>\n",
       "      <th>3</th>\n",
       "      <td>2</td>\n",
       "      <td>5</td>\n",
       "      <td>6</td>\n",
       "      <td>6</td>\n",
       "      <td>2017-05-06 00:00:00</td>\n",
       "      <td>WN</td>\n",
       "      <td>N450WN</td>\n",
       "      <td>5150</td>\n",
       "      <td>SJC</td>\n",
       "      <td>CA</td>\n",
       "      <td>...</td>\n",
       "      <td>21</td>\n",
       "      <td>20</td>\n",
       "      <td>East</td>\n",
       "      <td>3</td>\n",
       "      <td>0.745438</td>\n",
       "      <td>BOEING</td>\n",
       "      <td>2004.0</td>\n",
       "      <td>737-7H4</td>\n",
       "      <td>CFM56 SERIES</td>\n",
       "      <td>13.0</td>\n",
       "    </tr>\n",
       "    <tr>\n",
       "      <th>4</th>\n",
       "      <td>2</td>\n",
       "      <td>5</td>\n",
       "      <td>6</td>\n",
       "      <td>6</td>\n",
       "      <td>2017-05-06 00:00:00</td>\n",
       "      <td>WN</td>\n",
       "      <td>N498WN</td>\n",
       "      <td>5711</td>\n",
       "      <td>SJC</td>\n",
       "      <td>CA</td>\n",
       "      <td>...</td>\n",
       "      <td>14</td>\n",
       "      <td>13</td>\n",
       "      <td>East</td>\n",
       "      <td>10</td>\n",
       "      <td>0.745438</td>\n",
       "      <td>BOEING</td>\n",
       "      <td>2005.0</td>\n",
       "      <td>737-7H4</td>\n",
       "      <td>CFM56 SERIES</td>\n",
       "      <td>12.0</td>\n",
       "    </tr>\n",
       "  </tbody>\n",
       "</table>\n",
       "<p>5 rows × 30 columns</p>\n",
       "</div>"
      ],
      "text/plain": [
       "   Quarter  Month  DayofMonth  DayOfWeek           FlightDate  \\\n",
       "0        2      5           6          6  2017-05-06 00:00:00   \n",
       "1        2      5           6          6  2017-05-06 00:00:00   \n",
       "2        2      5           6          6  2017-05-06 00:00:00   \n",
       "3        2      5           6          6  2017-05-06 00:00:00   \n",
       "4        2      5           6          6  2017-05-06 00:00:00   \n",
       "\n",
       "  Reporting_Airline Tail_Number  Flight_Number_Reporting_Airline Origin  \\\n",
       "0                WN      N7824A                             4652    SJC   \n",
       "1                WN      N8522P                             4971    SJC   \n",
       "2                WN      N8617E                             5113    SJC   \n",
       "3                WN      N450WN                             5150    SJC   \n",
       "4                WN      N498WN                             5711    SJC   \n",
       "\n",
       "  OriginState    ...     ARR_HOUR DEP_HOUR  DOM_DIRECTION  flight_freq  \\\n",
       "0          CA    ...            8        6           East           17   \n",
       "1          CA    ...           18       17           East            7   \n",
       "2          CA    ...           12       11           East            8   \n",
       "3          CA    ...           21       20           East            3   \n",
       "4          CA    ...           14       13           East           10   \n",
       "\n",
       "   LoadFactor  mf_name  mf_year  plane_model      eng_model  plane_age  \n",
       "0    0.745438   BOEING   2001.0      737-7BK   CFM56 SERIES       16.0  \n",
       "1    0.745438   BOEING   2017.0      737-800  CFM56-7B27E/F        0.0  \n",
       "2    0.745438   BOEING   2013.0      737-8H4    CFM56-7B27E        4.0  \n",
       "3    0.745438   BOEING   2004.0      737-7H4   CFM56 SERIES       13.0  \n",
       "4    0.745438   BOEING   2005.0      737-7H4   CFM56 SERIES       12.0  \n",
       "\n",
       "[5 rows x 30 columns]"
      ]
     },
     "execution_count": 15,
     "metadata": {},
     "output_type": "execute_result"
    }
   ],
   "source": [
    "df.head()"
   ]
  },
  {
   "cell_type": "markdown",
   "metadata": {},
   "source": [
    "## Export CSV with Engineered Features"
   ]
  },
  {
   "cell_type": "code",
   "execution_count": null,
   "metadata": {},
   "outputs": [],
   "source": [
    "df.to_csv(f'{path}/interim/2017FeatEng.csv', index = False, encoding = 'utf-8')"
   ]
  },
  {
   "cell_type": "code",
   "execution_count": null,
   "metadata": {},
   "outputs": [],
   "source": []
  },
  {
   "cell_type": "code",
   "execution_count": null,
   "metadata": {},
   "outputs": [],
   "source": []
  },
  {
   "cell_type": "code",
   "execution_count": null,
   "metadata": {},
   "outputs": [],
   "source": []
  },
  {
   "cell_type": "code",
   "execution_count": null,
   "metadata": {},
   "outputs": [],
   "source": []
  }
 ],
 "metadata": {
  "kernelspec": {
   "display_name": "Python 3",
   "language": "python",
   "name": "python3"
  },
  "language_info": {
   "codemirror_mode": {
    "name": "ipython",
    "version": 3
   },
   "file_extension": ".py",
   "mimetype": "text/x-python",
   "name": "python",
   "nbconvert_exporter": "python",
   "pygments_lexer": "ipython3",
   "version": "3.7.1"
  },
  "toc": {
   "base_numbering": 1,
   "nav_menu": {},
   "number_sections": true,
   "sideBar": true,
   "skip_h1_title": false,
   "title_cell": "Table of Contents",
   "title_sidebar": "Contents",
   "toc_cell": false,
   "toc_position": {},
   "toc_section_display": true,
   "toc_window_display": true
  },
  "varInspector": {
   "cols": {
    "lenName": 16,
    "lenType": 16,
    "lenVar": 40
   },
   "kernels_config": {
    "python": {
     "delete_cmd_postfix": "",
     "delete_cmd_prefix": "del ",
     "library": "var_list.py",
     "varRefreshCmd": "print(var_dic_list())"
    },
    "r": {
     "delete_cmd_postfix": ") ",
     "delete_cmd_prefix": "rm(",
     "library": "var_list.r",
     "varRefreshCmd": "cat(var_dic_list()) "
    }
   },
   "types_to_exclude": [
    "module",
    "function",
    "builtin_function_or_method",
    "instance",
    "_Feature"
   ],
   "window_display": true
  }
 },
 "nbformat": 4,
 "nbformat_minor": 2
}
