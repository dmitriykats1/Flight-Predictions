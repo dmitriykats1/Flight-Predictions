{
 "cells": [
  {
   "cell_type": "code",
   "execution_count": 4,
   "metadata": {
    "ExecuteTime": {
     "end_time": "2019-07-26T17:59:54.626586Z",
     "start_time": "2019-07-26T17:59:54.616020Z"
    }
   },
   "outputs": [],
   "source": [
    "import pandas as pd\n",
    "import numpy as np\n",
    "import glob\n",
    "import os\n",
    "import re, operator, warnings\n",
    "warnings.filterwarnings('ignore')"
   ]
  },
  {
   "cell_type": "code",
   "execution_count": 5,
   "metadata": {
    "ExecuteTime": {
     "end_time": "2019-07-26T18:00:13.376909Z",
     "start_time": "2019-07-26T17:59:57.821354Z"
    }
   },
   "outputs": [],
   "source": [
    "#import the weather files for top 20 origin airports of 2018 obtained from:\n",
    "# https://mesonet.agron.iastate.edu/ASOS/\n",
    "path = '../data/raw/2017/'\n",
    "flight_path = '../data/interim/'\n",
    "all_files = glob.glob(os.path.join(path, \"*.csv\"))     # advisable to use os.path.join as this makes concatenation OS independent\n",
    "\n",
    "df_from_each_file = (pd.read_csv(f, parse_dates=['valid']) for f in all_files)\n",
    "concatenated_df = pd.concat(df_from_each_file)"
   ]
  },
  {
   "cell_type": "code",
   "execution_count": 6,
   "metadata": {
    "ExecuteTime": {
     "end_time": "2019-07-26T18:00:14.952341Z",
     "start_time": "2019-07-26T18:00:14.948557Z"
    }
   },
   "outputs": [],
   "source": [
    "weather_df = concatenated_df"
   ]
  },
  {
   "cell_type": "code",
   "execution_count": 7,
   "metadata": {
    "ExecuteTime": {
     "end_time": "2019-07-26T18:00:17.864605Z",
     "start_time": "2019-07-26T18:00:17.815940Z"
    },
    "scrolled": true
   },
   "outputs": [
    {
     "data": {
      "text/plain": [
       "Index(['station', 'valid', 'tmpf', 'dwpf', 'relh', 'drct', 'sknt', 'p01i',\n",
       "       'alti', 'mslp', 'vsby', 'gust', 'skyc1', 'skyc2', 'skyc3', 'skyc4',\n",
       "       'skyl1', 'skyl2', 'skyl3', 'skyl4', 'wxcodes', 'ice_accretion_1hr',\n",
       "       'ice_accretion_3hr', 'ice_accretion_6hr', 'peak_wind_gust',\n",
       "       'peak_wind_drct', 'peak_wind_time', 'feel', 'metar'],\n",
       "      dtype='object')"
      ]
     },
     "execution_count": 7,
     "metadata": {},
     "output_type": "execute_result"
    }
   ],
   "source": [
    "weather_df.columns"
   ]
  },
  {
   "cell_type": "code",
   "execution_count": 8,
   "metadata": {
    "ExecuteTime": {
     "end_time": "2019-07-26T18:00:29.389419Z",
     "start_time": "2019-07-26T18:00:27.687890Z"
    }
   },
   "outputs": [],
   "source": [
    "weather_df = weather_df[['station','valid', 'tmpf','vsby','gust','sknt','p01i',\n",
    "                         'ice_accretion_3hr','ice_accretion_6hr',]]"
   ]
  },
  {
   "cell_type": "code",
   "execution_count": 9,
   "metadata": {
    "ExecuteTime": {
     "end_time": "2019-07-26T18:00:30.037409Z",
     "start_time": "2019-07-26T18:00:30.032658Z"
    }
   },
   "outputs": [
    {
     "data": {
      "text/plain": [
       "Index(['station', 'valid', 'tmpf', 'vsby', 'gust', 'sknt', 'p01i',\n",
       "       'ice_accretion_3hr', 'ice_accretion_6hr'],\n",
       "      dtype='object')"
      ]
     },
     "execution_count": 9,
     "metadata": {},
     "output_type": "execute_result"
    }
   ],
   "source": [
    "weather_df.columns"
   ]
  },
  {
   "cell_type": "code",
   "execution_count": 10,
   "metadata": {
    "ExecuteTime": {
     "end_time": "2019-07-26T18:00:31.699332Z",
     "start_time": "2019-07-26T18:00:30.722449Z"
    }
   },
   "outputs": [],
   "source": [
    "weather_df = weather_df.fillna(0)"
   ]
  },
  {
   "cell_type": "code",
   "execution_count": 11,
   "metadata": {
    "ExecuteTime": {
     "end_time": "2019-07-26T18:00:32.923151Z",
     "start_time": "2019-07-26T18:00:32.346355Z"
    }
   },
   "outputs": [],
   "source": [
    "weather_df['p01i'] = pd.to_numeric(weather_df.p01i, errors='coerce')"
   ]
  },
  {
   "cell_type": "code",
   "execution_count": 12,
   "metadata": {
    "ExecuteTime": {
     "end_time": "2019-07-26T18:00:51.294847Z",
     "start_time": "2019-07-26T18:00:36.500659Z"
    }
   },
   "outputs": [],
   "source": [
    "weather_df['valid_new'] = weather_df.valid.apply(lambda x: x.replace(minute=0))"
   ]
  },
  {
   "cell_type": "code",
   "execution_count": 13,
   "metadata": {
    "ExecuteTime": {
     "end_time": "2019-07-26T18:00:58.207436Z",
     "start_time": "2019-07-26T18:00:56.849029Z"
    }
   },
   "outputs": [],
   "source": [
    "df1 = pd.DataFrame(weather_df.groupby(['station','valid_new'])['tmpf','vsby'].min())\n",
    "df2 = pd.DataFrame(weather_df.groupby(['station','valid_new'])['p01i'].max())\n",
    "df3 = pd.DataFrame(weather_df.groupby(['station','valid_new'])['gust','sknt'].max())"
   ]
  },
  {
   "cell_type": "code",
   "execution_count": 14,
   "metadata": {
    "ExecuteTime": {
     "end_time": "2019-07-26T18:01:09.694225Z",
     "start_time": "2019-07-26T18:01:09.372309Z"
    }
   },
   "outputs": [],
   "source": [
    "df_test = pd.merge(df1, df2, how='left', left_index=True, right_index=True)"
   ]
  },
  {
   "cell_type": "code",
   "execution_count": 15,
   "metadata": {
    "ExecuteTime": {
     "end_time": "2019-07-26T18:01:10.609902Z",
     "start_time": "2019-07-26T18:01:10.481176Z"
    }
   },
   "outputs": [],
   "source": [
    "df_test = df_test.merge(df3, how='left', left_index=True, right_index=True)"
   ]
  },
  {
   "cell_type": "code",
   "execution_count": 16,
   "metadata": {
    "ExecuteTime": {
     "end_time": "2019-07-26T18:01:11.445240Z",
     "start_time": "2019-07-26T18:01:11.389705Z"
    }
   },
   "outputs": [
    {
     "data": {
      "text/html": [
       "<div>\n",
       "<style scoped>\n",
       "    .dataframe tbody tr th:only-of-type {\n",
       "        vertical-align: middle;\n",
       "    }\n",
       "\n",
       "    .dataframe tbody tr th {\n",
       "        vertical-align: top;\n",
       "    }\n",
       "\n",
       "    .dataframe thead th {\n",
       "        text-align: right;\n",
       "    }\n",
       "</style>\n",
       "<table border=\"1\" class=\"dataframe\">\n",
       "  <thead>\n",
       "    <tr style=\"text-align: right;\">\n",
       "      <th></th>\n",
       "      <th></th>\n",
       "      <th>tmpf</th>\n",
       "      <th>vsby</th>\n",
       "      <th>p01i</th>\n",
       "      <th>gust</th>\n",
       "      <th>sknt</th>\n",
       "    </tr>\n",
       "    <tr>\n",
       "      <th>station</th>\n",
       "      <th>valid_new</th>\n",
       "      <th></th>\n",
       "      <th></th>\n",
       "      <th></th>\n",
       "      <th></th>\n",
       "      <th></th>\n",
       "    </tr>\n",
       "  </thead>\n",
       "  <tbody>\n",
       "    <tr>\n",
       "      <th rowspan=\"5\" valign=\"top\">ATL</th>\n",
       "      <th>2017-01-01 00:00:00</th>\n",
       "      <td>0.0</td>\n",
       "      <td>5.0</td>\n",
       "      <td>0.05</td>\n",
       "      <td>15.0</td>\n",
       "      <td>10.0</td>\n",
       "    </tr>\n",
       "    <tr>\n",
       "      <th>2017-01-01 01:00:00</th>\n",
       "      <td>0.0</td>\n",
       "      <td>5.0</td>\n",
       "      <td>0.04</td>\n",
       "      <td>23.0</td>\n",
       "      <td>19.0</td>\n",
       "    </tr>\n",
       "    <tr>\n",
       "      <th>2017-01-01 02:00:00</th>\n",
       "      <td>0.0</td>\n",
       "      <td>5.0</td>\n",
       "      <td>0.04</td>\n",
       "      <td>0.0</td>\n",
       "      <td>8.0</td>\n",
       "    </tr>\n",
       "    <tr>\n",
       "      <th>2017-01-01 03:00:00</th>\n",
       "      <td>0.0</td>\n",
       "      <td>6.0</td>\n",
       "      <td>0.02</td>\n",
       "      <td>0.0</td>\n",
       "      <td>9.0</td>\n",
       "    </tr>\n",
       "    <tr>\n",
       "      <th>2017-01-01 04:00:00</th>\n",
       "      <td>0.0</td>\n",
       "      <td>5.0</td>\n",
       "      <td>0.01</td>\n",
       "      <td>0.0</td>\n",
       "      <td>8.0</td>\n",
       "    </tr>\n",
       "  </tbody>\n",
       "</table>\n",
       "</div>"
      ],
      "text/plain": [
       "                             tmpf  vsby  p01i  gust  sknt\n",
       "station valid_new                                        \n",
       "ATL     2017-01-01 00:00:00   0.0   5.0  0.05  15.0  10.0\n",
       "        2017-01-01 01:00:00   0.0   5.0  0.04  23.0  19.0\n",
       "        2017-01-01 02:00:00   0.0   5.0  0.04   0.0   8.0\n",
       "        2017-01-01 03:00:00   0.0   6.0  0.02   0.0   9.0\n",
       "        2017-01-01 04:00:00   0.0   5.0  0.01   0.0   8.0"
      ]
     },
     "execution_count": 16,
     "metadata": {},
     "output_type": "execute_result"
    }
   ],
   "source": [
    "df_test.head()"
   ]
  },
  {
   "cell_type": "code",
   "execution_count": 17,
   "metadata": {
    "ExecuteTime": {
     "end_time": "2019-07-26T18:01:16.659354Z",
     "start_time": "2019-07-26T18:01:16.615935Z"
    }
   },
   "outputs": [],
   "source": [
    "df_test.reset_index(inplace=True) "
   ]
  },
  {
   "cell_type": "code",
   "execution_count": 18,
   "metadata": {
    "ExecuteTime": {
     "end_time": "2019-07-26T18:01:17.478088Z",
     "start_time": "2019-07-26T18:01:17.459250Z"
    }
   },
   "outputs": [
    {
     "data": {
      "text/html": [
       "<div>\n",
       "<style scoped>\n",
       "    .dataframe tbody tr th:only-of-type {\n",
       "        vertical-align: middle;\n",
       "    }\n",
       "\n",
       "    .dataframe tbody tr th {\n",
       "        vertical-align: top;\n",
       "    }\n",
       "\n",
       "    .dataframe thead th {\n",
       "        text-align: right;\n",
       "    }\n",
       "</style>\n",
       "<table border=\"1\" class=\"dataframe\">\n",
       "  <thead>\n",
       "    <tr style=\"text-align: right;\">\n",
       "      <th></th>\n",
       "      <th>station</th>\n",
       "      <th>valid_new</th>\n",
       "      <th>tmpf</th>\n",
       "      <th>vsby</th>\n",
       "      <th>p01i</th>\n",
       "      <th>gust</th>\n",
       "      <th>sknt</th>\n",
       "    </tr>\n",
       "  </thead>\n",
       "  <tbody>\n",
       "    <tr>\n",
       "      <th>0</th>\n",
       "      <td>ATL</td>\n",
       "      <td>2017-01-01 00:00:00</td>\n",
       "      <td>0.0</td>\n",
       "      <td>5.0</td>\n",
       "      <td>0.05</td>\n",
       "      <td>15.0</td>\n",
       "      <td>10.0</td>\n",
       "    </tr>\n",
       "    <tr>\n",
       "      <th>1</th>\n",
       "      <td>ATL</td>\n",
       "      <td>2017-01-01 01:00:00</td>\n",
       "      <td>0.0</td>\n",
       "      <td>5.0</td>\n",
       "      <td>0.04</td>\n",
       "      <td>23.0</td>\n",
       "      <td>19.0</td>\n",
       "    </tr>\n",
       "    <tr>\n",
       "      <th>2</th>\n",
       "      <td>ATL</td>\n",
       "      <td>2017-01-01 02:00:00</td>\n",
       "      <td>0.0</td>\n",
       "      <td>5.0</td>\n",
       "      <td>0.04</td>\n",
       "      <td>0.0</td>\n",
       "      <td>8.0</td>\n",
       "    </tr>\n",
       "    <tr>\n",
       "      <th>3</th>\n",
       "      <td>ATL</td>\n",
       "      <td>2017-01-01 03:00:00</td>\n",
       "      <td>0.0</td>\n",
       "      <td>6.0</td>\n",
       "      <td>0.02</td>\n",
       "      <td>0.0</td>\n",
       "      <td>9.0</td>\n",
       "    </tr>\n",
       "    <tr>\n",
       "      <th>4</th>\n",
       "      <td>ATL</td>\n",
       "      <td>2017-01-01 04:00:00</td>\n",
       "      <td>0.0</td>\n",
       "      <td>5.0</td>\n",
       "      <td>0.01</td>\n",
       "      <td>0.0</td>\n",
       "      <td>8.0</td>\n",
       "    </tr>\n",
       "  </tbody>\n",
       "</table>\n",
       "</div>"
      ],
      "text/plain": [
       "  station           valid_new  tmpf  vsby  p01i  gust  sknt\n",
       "0     ATL 2017-01-01 00:00:00   0.0   5.0  0.05  15.0  10.0\n",
       "1     ATL 2017-01-01 01:00:00   0.0   5.0  0.04  23.0  19.0\n",
       "2     ATL 2017-01-01 02:00:00   0.0   5.0  0.04   0.0   8.0\n",
       "3     ATL 2017-01-01 03:00:00   0.0   6.0  0.02   0.0   9.0\n",
       "4     ATL 2017-01-01 04:00:00   0.0   5.0  0.01   0.0   8.0"
      ]
     },
     "execution_count": 18,
     "metadata": {},
     "output_type": "execute_result"
    }
   ],
   "source": [
    "df_test.head()"
   ]
  },
  {
   "cell_type": "code",
   "execution_count": 19,
   "metadata": {
    "ExecuteTime": {
     "end_time": "2019-07-26T18:01:21.407202Z",
     "start_time": "2019-07-26T18:01:21.327210Z"
    }
   },
   "outputs": [],
   "source": [
    "weather_df_new = df_test.copy().fillna(0)"
   ]
  },
  {
   "cell_type": "code",
   "execution_count": 20,
   "metadata": {
    "ExecuteTime": {
     "end_time": "2019-07-26T18:01:22.183031Z",
     "start_time": "2019-07-26T18:01:22.169862Z"
    }
   },
   "outputs": [
    {
     "data": {
      "text/html": [
       "<div>\n",
       "<style scoped>\n",
       "    .dataframe tbody tr th:only-of-type {\n",
       "        vertical-align: middle;\n",
       "    }\n",
       "\n",
       "    .dataframe tbody tr th {\n",
       "        vertical-align: top;\n",
       "    }\n",
       "\n",
       "    .dataframe thead th {\n",
       "        text-align: right;\n",
       "    }\n",
       "</style>\n",
       "<table border=\"1\" class=\"dataframe\">\n",
       "  <thead>\n",
       "    <tr style=\"text-align: right;\">\n",
       "      <th></th>\n",
       "      <th>station</th>\n",
       "      <th>valid_new</th>\n",
       "      <th>tmpf</th>\n",
       "      <th>vsby</th>\n",
       "      <th>p01i</th>\n",
       "      <th>gust</th>\n",
       "      <th>sknt</th>\n",
       "    </tr>\n",
       "  </thead>\n",
       "  <tbody>\n",
       "    <tr>\n",
       "      <th>0</th>\n",
       "      <td>ATL</td>\n",
       "      <td>2017-01-01 00:00:00</td>\n",
       "      <td>0.0</td>\n",
       "      <td>5.0</td>\n",
       "      <td>0.05</td>\n",
       "      <td>15.0</td>\n",
       "      <td>10.0</td>\n",
       "    </tr>\n",
       "    <tr>\n",
       "      <th>1</th>\n",
       "      <td>ATL</td>\n",
       "      <td>2017-01-01 01:00:00</td>\n",
       "      <td>0.0</td>\n",
       "      <td>5.0</td>\n",
       "      <td>0.04</td>\n",
       "      <td>23.0</td>\n",
       "      <td>19.0</td>\n",
       "    </tr>\n",
       "    <tr>\n",
       "      <th>2</th>\n",
       "      <td>ATL</td>\n",
       "      <td>2017-01-01 02:00:00</td>\n",
       "      <td>0.0</td>\n",
       "      <td>5.0</td>\n",
       "      <td>0.04</td>\n",
       "      <td>0.0</td>\n",
       "      <td>8.0</td>\n",
       "    </tr>\n",
       "    <tr>\n",
       "      <th>3</th>\n",
       "      <td>ATL</td>\n",
       "      <td>2017-01-01 03:00:00</td>\n",
       "      <td>0.0</td>\n",
       "      <td>6.0</td>\n",
       "      <td>0.02</td>\n",
       "      <td>0.0</td>\n",
       "      <td>9.0</td>\n",
       "    </tr>\n",
       "    <tr>\n",
       "      <th>4</th>\n",
       "      <td>ATL</td>\n",
       "      <td>2017-01-01 04:00:00</td>\n",
       "      <td>0.0</td>\n",
       "      <td>5.0</td>\n",
       "      <td>0.01</td>\n",
       "      <td>0.0</td>\n",
       "      <td>8.0</td>\n",
       "    </tr>\n",
       "  </tbody>\n",
       "</table>\n",
       "</div>"
      ],
      "text/plain": [
       "  station           valid_new  tmpf  vsby  p01i  gust  sknt\n",
       "0     ATL 2017-01-01 00:00:00   0.0   5.0  0.05  15.0  10.0\n",
       "1     ATL 2017-01-01 01:00:00   0.0   5.0  0.04  23.0  19.0\n",
       "2     ATL 2017-01-01 02:00:00   0.0   5.0  0.04   0.0   8.0\n",
       "3     ATL 2017-01-01 03:00:00   0.0   6.0  0.02   0.0   9.0\n",
       "4     ATL 2017-01-01 04:00:00   0.0   5.0  0.01   0.0   8.0"
      ]
     },
     "execution_count": 20,
     "metadata": {},
     "output_type": "execute_result"
    }
   ],
   "source": [
    "weather_df_new.head()"
   ]
  },
  {
   "cell_type": "code",
   "execution_count": 21,
   "metadata": {
    "ExecuteTime": {
     "end_time": "2019-07-26T18:01:35.066824Z",
     "start_time": "2019-07-26T18:01:34.119728Z"
    }
   },
   "outputs": [],
   "source": [
    "#export raw, concoctanated weather file for 2017 top 20 airports\n",
    "weather_df_new.to_csv(f'{path}/2017WeatherALL.csv', index = False, encoding = 'utf-8')"
   ]
  },
  {
   "cell_type": "code",
   "execution_count": 22,
   "metadata": {
    "ExecuteTime": {
     "end_time": "2019-07-26T18:03:01.195951Z",
     "start_time": "2019-07-26T18:01:53.105221Z"
    }
   },
   "outputs": [],
   "source": [
    "#import the 2017 Flight Data and clean it\n",
    "df = pd.read_csv(f'{flight_path}/2017ALL.csv', parse_dates=['FlightDate'])\n",
    "\n",
    "\n",
    "df = df.dropna(subset=['Tail_Number','DepTime','DepDelay','DepartureDelayGroups','TaxiOut',\n",
    "                      'WheelsOff','WheelsOn','TaxiIn','ArrTime','ArrDelay','CRSElapsedTime',\n",
    "                      'ActualElapsedTime','AirTime'])\n",
    "\n",
    "df = df.fillna(0)"
   ]
  },
  {
   "cell_type": "code",
   "execution_count": 23,
   "metadata": {
    "ExecuteTime": {
     "end_time": "2019-07-26T18:03:10.070220Z",
     "start_time": "2019-07-26T18:03:07.261634Z"
    }
   },
   "outputs": [],
   "source": [
    "#Let's remove the features that will not be available for predicting flights\n",
    "df = df[['Quarter', 'Month', 'DayofMonth', 'DayOfWeek', 'FlightDate',\n",
    "       'Reporting_Airline', 'Tail_Number', 'Flight_Number_Reporting_Airline',\n",
    "       'Origin', 'OriginState', 'DestState', 'Dest', 'CRSDepTime', 'CRSArrTime', 'CRSElapsedTime',\n",
    "       'ArrDelay', 'Distance', 'DistanceGroup',]]\n",
    "df = df.reindex()"
   ]
  },
  {
   "cell_type": "code",
   "execution_count": 24,
   "metadata": {
    "ExecuteTime": {
     "end_time": "2019-07-26T18:03:23.975036Z",
     "start_time": "2019-07-26T18:03:23.958581Z"
    }
   },
   "outputs": [],
   "source": [
    "#since the DEP_TIME is presented as a float we need to convert it to a Timestamp\n",
    "def convert_to_time (datatype):\n",
    "    '''This method will take a float as input and returns a datetime.time object'''\n",
    "    to_string = str(int(datatype))\n",
    "    #check length of string and add leading zeros if lenght is less than 4\n",
    "    while len(to_string) < 4:\n",
    "        to_string = '0' + to_string\n",
    "    #check if hour starts with 24 then change to 00\n",
    "    if to_string[:2] == '24':\n",
    "        to_string = '00' + to_string[2:]\n",
    "    #obj = time.strptime(to_string, '%H%M')\n",
    "    \n",
    "    to_string = to_string[:2] + ':' + to_string[2:] \n",
    "    datetime = pd.to_datetime(to_string)\n",
    "    datetime = pd.to_datetime(to_string, format='%H:%M')\n",
    "    time = datetime.time()\n",
    "    return time\n",
    "    \n",
    "    #datetime = time.strftime(\"%H:%M\", obj)\n",
    "    #return datetime\n",
    "    \n",
    "#We now need to create a new Timestamp column incorporating the information from FL_DATE and DEP_TIME\n",
    "def combine_datetime (dataframe):\n",
    "    '''This function will extract needed data from two columns and combine into a single Timestamp object'''\n",
    "    year = dataframe[0].year\n",
    "    month = dataframe[0].month\n",
    "    day = dataframe[0].day\n",
    "    hour = dataframe[1].hour\n",
    "    minute = dataframe[1].minute\n",
    "    second = dataframe[1].second\n",
    "    \n",
    "    datetime = pd.Timestamp(year, month, day, hour, minute, second)\n",
    "    return datetime"
   ]
  },
  {
   "cell_type": "code",
   "execution_count": 25,
   "metadata": {
    "ExecuteTime": {
     "end_time": "2019-07-26T18:03:27.001030Z",
     "start_time": "2019-07-26T18:03:26.964666Z"
    }
   },
   "outputs": [],
   "source": [
    "combined = df[['FlightDate','CRSDepTime']]"
   ]
  },
  {
   "cell_type": "code",
   "execution_count": 26,
   "metadata": {
    "ExecuteTime": {
     "end_time": "2019-07-26T18:20:43.197073Z",
     "start_time": "2019-07-26T18:03:30.174422Z"
    }
   },
   "outputs": [],
   "source": [
    "#convert DEP_TIME to timestamp\n",
    "combined['CRSDepTime'] = df.CRSDepTime.apply(convert_to_time)"
   ]
  },
  {
   "cell_type": "code",
   "execution_count": 27,
   "metadata": {
    "ExecuteTime": {
     "end_time": "2019-07-26T18:27:45.368110Z",
     "start_time": "2019-07-26T18:21:41.023750Z"
    }
   },
   "outputs": [],
   "source": [
    "#apply the combine_datetime function to optimized_df and create a new column 'FL_TIME'\n",
    "df['FL_TIME'] = combined.apply(combine_datetime, axis=1)"
   ]
  },
  {
   "cell_type": "code",
   "execution_count": 28,
   "metadata": {
    "ExecuteTime": {
     "end_time": "2019-07-26T18:28:20.126256Z",
     "start_time": "2019-07-26T18:27:49.240839Z"
    }
   },
   "outputs": [],
   "source": [
    "df['FL_TIME_NEW'] = df.FL_TIME.apply(lambda x: x.replace(minute=0))"
   ]
  },
  {
   "cell_type": "code",
   "execution_count": 29,
   "metadata": {
    "ExecuteTime": {
     "end_time": "2019-07-26T18:28:21.090098Z",
     "start_time": "2019-07-26T18:28:21.061969Z"
    }
   },
   "outputs": [
    {
     "data": {
      "text/html": [
       "<div>\n",
       "<style scoped>\n",
       "    .dataframe tbody tr th:only-of-type {\n",
       "        vertical-align: middle;\n",
       "    }\n",
       "\n",
       "    .dataframe tbody tr th {\n",
       "        vertical-align: top;\n",
       "    }\n",
       "\n",
       "    .dataframe thead th {\n",
       "        text-align: right;\n",
       "    }\n",
       "</style>\n",
       "<table border=\"1\" class=\"dataframe\">\n",
       "  <thead>\n",
       "    <tr style=\"text-align: right;\">\n",
       "      <th></th>\n",
       "      <th>Quarter</th>\n",
       "      <th>Month</th>\n",
       "      <th>DayofMonth</th>\n",
       "      <th>DayOfWeek</th>\n",
       "      <th>FlightDate</th>\n",
       "      <th>Reporting_Airline</th>\n",
       "      <th>Tail_Number</th>\n",
       "      <th>Flight_Number_Reporting_Airline</th>\n",
       "      <th>Origin</th>\n",
       "      <th>OriginState</th>\n",
       "      <th>DestState</th>\n",
       "      <th>Dest</th>\n",
       "      <th>CRSDepTime</th>\n",
       "      <th>CRSArrTime</th>\n",
       "      <th>CRSElapsedTime</th>\n",
       "      <th>ArrDelay</th>\n",
       "      <th>Distance</th>\n",
       "      <th>DistanceGroup</th>\n",
       "      <th>FL_TIME</th>\n",
       "      <th>FL_TIME_NEW</th>\n",
       "    </tr>\n",
       "  </thead>\n",
       "  <tbody>\n",
       "    <tr>\n",
       "      <th>0</th>\n",
       "      <td>2</td>\n",
       "      <td>5</td>\n",
       "      <td>6</td>\n",
       "      <td>6</td>\n",
       "      <td>2017-05-06</td>\n",
       "      <td>WN</td>\n",
       "      <td>N7824A</td>\n",
       "      <td>4652</td>\n",
       "      <td>SJC</td>\n",
       "      <td>CA</td>\n",
       "      <td>CA</td>\n",
       "      <td>SAN</td>\n",
       "      <td>650</td>\n",
       "      <td>810</td>\n",
       "      <td>80.0</td>\n",
       "      <td>2.0</td>\n",
       "      <td>417.0</td>\n",
       "      <td>2</td>\n",
       "      <td>2017-05-06 06:50:00</td>\n",
       "      <td>2017-05-06 06:00:00</td>\n",
       "    </tr>\n",
       "    <tr>\n",
       "      <th>1</th>\n",
       "      <td>2</td>\n",
       "      <td>5</td>\n",
       "      <td>6</td>\n",
       "      <td>6</td>\n",
       "      <td>2017-05-06</td>\n",
       "      <td>WN</td>\n",
       "      <td>N8522P</td>\n",
       "      <td>4971</td>\n",
       "      <td>SJC</td>\n",
       "      <td>CA</td>\n",
       "      <td>CA</td>\n",
       "      <td>SAN</td>\n",
       "      <td>1710</td>\n",
       "      <td>1830</td>\n",
       "      <td>80.0</td>\n",
       "      <td>-7.0</td>\n",
       "      <td>417.0</td>\n",
       "      <td>2</td>\n",
       "      <td>2017-05-06 17:10:00</td>\n",
       "      <td>2017-05-06 17:00:00</td>\n",
       "    </tr>\n",
       "    <tr>\n",
       "      <th>2</th>\n",
       "      <td>2</td>\n",
       "      <td>5</td>\n",
       "      <td>6</td>\n",
       "      <td>6</td>\n",
       "      <td>2017-05-06</td>\n",
       "      <td>WN</td>\n",
       "      <td>N8617E</td>\n",
       "      <td>5113</td>\n",
       "      <td>SJC</td>\n",
       "      <td>CA</td>\n",
       "      <td>CA</td>\n",
       "      <td>SAN</td>\n",
       "      <td>1100</td>\n",
       "      <td>1220</td>\n",
       "      <td>80.0</td>\n",
       "      <td>0.0</td>\n",
       "      <td>417.0</td>\n",
       "      <td>2</td>\n",
       "      <td>2017-05-06 11:00:00</td>\n",
       "      <td>2017-05-06 11:00:00</td>\n",
       "    </tr>\n",
       "    <tr>\n",
       "      <th>3</th>\n",
       "      <td>2</td>\n",
       "      <td>5</td>\n",
       "      <td>6</td>\n",
       "      <td>6</td>\n",
       "      <td>2017-05-06</td>\n",
       "      <td>WN</td>\n",
       "      <td>N450WN</td>\n",
       "      <td>5150</td>\n",
       "      <td>SJC</td>\n",
       "      <td>CA</td>\n",
       "      <td>CA</td>\n",
       "      <td>SAN</td>\n",
       "      <td>2030</td>\n",
       "      <td>2150</td>\n",
       "      <td>80.0</td>\n",
       "      <td>1.0</td>\n",
       "      <td>417.0</td>\n",
       "      <td>2</td>\n",
       "      <td>2017-05-06 20:30:00</td>\n",
       "      <td>2017-05-06 20:00:00</td>\n",
       "    </tr>\n",
       "    <tr>\n",
       "      <th>4</th>\n",
       "      <td>2</td>\n",
       "      <td>5</td>\n",
       "      <td>6</td>\n",
       "      <td>6</td>\n",
       "      <td>2017-05-06</td>\n",
       "      <td>WN</td>\n",
       "      <td>N498WN</td>\n",
       "      <td>5711</td>\n",
       "      <td>SJC</td>\n",
       "      <td>CA</td>\n",
       "      <td>CA</td>\n",
       "      <td>SAN</td>\n",
       "      <td>1325</td>\n",
       "      <td>1445</td>\n",
       "      <td>80.0</td>\n",
       "      <td>-2.0</td>\n",
       "      <td>417.0</td>\n",
       "      <td>2</td>\n",
       "      <td>2017-05-06 13:25:00</td>\n",
       "      <td>2017-05-06 13:00:00</td>\n",
       "    </tr>\n",
       "  </tbody>\n",
       "</table>\n",
       "</div>"
      ],
      "text/plain": [
       "   Quarter  Month  DayofMonth  DayOfWeek FlightDate Reporting_Airline  \\\n",
       "0        2      5           6          6 2017-05-06                WN   \n",
       "1        2      5           6          6 2017-05-06                WN   \n",
       "2        2      5           6          6 2017-05-06                WN   \n",
       "3        2      5           6          6 2017-05-06                WN   \n",
       "4        2      5           6          6 2017-05-06                WN   \n",
       "\n",
       "  Tail_Number  Flight_Number_Reporting_Airline Origin OriginState DestState  \\\n",
       "0      N7824A                             4652    SJC          CA        CA   \n",
       "1      N8522P                             4971    SJC          CA        CA   \n",
       "2      N8617E                             5113    SJC          CA        CA   \n",
       "3      N450WN                             5150    SJC          CA        CA   \n",
       "4      N498WN                             5711    SJC          CA        CA   \n",
       "\n",
       "  Dest  CRSDepTime  CRSArrTime  CRSElapsedTime  ArrDelay  Distance  \\\n",
       "0  SAN         650         810            80.0       2.0     417.0   \n",
       "1  SAN        1710        1830            80.0      -7.0     417.0   \n",
       "2  SAN        1100        1220            80.0       0.0     417.0   \n",
       "3  SAN        2030        2150            80.0       1.0     417.0   \n",
       "4  SAN        1325        1445            80.0      -2.0     417.0   \n",
       "\n",
       "   DistanceGroup             FL_TIME         FL_TIME_NEW  \n",
       "0              2 2017-05-06 06:50:00 2017-05-06 06:00:00  \n",
       "1              2 2017-05-06 17:10:00 2017-05-06 17:00:00  \n",
       "2              2 2017-05-06 11:00:00 2017-05-06 11:00:00  \n",
       "3              2 2017-05-06 20:30:00 2017-05-06 20:00:00  \n",
       "4              2 2017-05-06 13:25:00 2017-05-06 13:00:00  "
      ]
     },
     "execution_count": 29,
     "metadata": {},
     "output_type": "execute_result"
    }
   ],
   "source": [
    "df.head()"
   ]
  },
  {
   "cell_type": "code",
   "execution_count": 30,
   "metadata": {
    "ExecuteTime": {
     "end_time": "2019-07-26T18:28:49.819851Z",
     "start_time": "2019-07-26T18:28:49.759564Z"
    }
   },
   "outputs": [],
   "source": [
    "weather_df_new1 = weather_df_new.copy()"
   ]
  },
  {
   "cell_type": "code",
   "execution_count": 31,
   "metadata": {
    "ExecuteTime": {
     "end_time": "2019-07-26T18:28:50.731323Z",
     "start_time": "2019-07-26T18:28:50.680451Z"
    }
   },
   "outputs": [
    {
     "data": {
      "text/plain": [
       "Series([], dtype: float64)"
      ]
     },
     "execution_count": 31,
     "metadata": {},
     "output_type": "execute_result"
    }
   ],
   "source": [
    "#remove rows will null values which is approximately 1.5%\n",
    "null_columns = weather_df_new1.columns[weather_df_new1.isnull().any()]\n",
    "weather_df_new1[null_columns].isnull().sum()"
   ]
  },
  {
   "cell_type": "code",
   "execution_count": 32,
   "metadata": {
    "ExecuteTime": {
     "end_time": "2019-07-26T18:28:52.444866Z",
     "start_time": "2019-07-26T18:28:52.430662Z"
    },
    "scrolled": true
   },
   "outputs": [
    {
     "data": {
      "text/html": [
       "<div>\n",
       "<style scoped>\n",
       "    .dataframe tbody tr th:only-of-type {\n",
       "        vertical-align: middle;\n",
       "    }\n",
       "\n",
       "    .dataframe tbody tr th {\n",
       "        vertical-align: top;\n",
       "    }\n",
       "\n",
       "    .dataframe thead th {\n",
       "        text-align: right;\n",
       "    }\n",
       "</style>\n",
       "<table border=\"1\" class=\"dataframe\">\n",
       "  <thead>\n",
       "    <tr style=\"text-align: right;\">\n",
       "      <th></th>\n",
       "      <th>station</th>\n",
       "      <th>valid_new</th>\n",
       "      <th>tmpf</th>\n",
       "      <th>vsby</th>\n",
       "      <th>p01i</th>\n",
       "      <th>gust</th>\n",
       "      <th>sknt</th>\n",
       "    </tr>\n",
       "  </thead>\n",
       "  <tbody>\n",
       "    <tr>\n",
       "      <th>0</th>\n",
       "      <td>ATL</td>\n",
       "      <td>2017-01-01 00:00:00</td>\n",
       "      <td>0.0</td>\n",
       "      <td>5.0</td>\n",
       "      <td>0.05</td>\n",
       "      <td>15.0</td>\n",
       "      <td>10.0</td>\n",
       "    </tr>\n",
       "    <tr>\n",
       "      <th>1</th>\n",
       "      <td>ATL</td>\n",
       "      <td>2017-01-01 01:00:00</td>\n",
       "      <td>0.0</td>\n",
       "      <td>5.0</td>\n",
       "      <td>0.04</td>\n",
       "      <td>23.0</td>\n",
       "      <td>19.0</td>\n",
       "    </tr>\n",
       "    <tr>\n",
       "      <th>2</th>\n",
       "      <td>ATL</td>\n",
       "      <td>2017-01-01 02:00:00</td>\n",
       "      <td>0.0</td>\n",
       "      <td>5.0</td>\n",
       "      <td>0.04</td>\n",
       "      <td>0.0</td>\n",
       "      <td>8.0</td>\n",
       "    </tr>\n",
       "    <tr>\n",
       "      <th>3</th>\n",
       "      <td>ATL</td>\n",
       "      <td>2017-01-01 03:00:00</td>\n",
       "      <td>0.0</td>\n",
       "      <td>6.0</td>\n",
       "      <td>0.02</td>\n",
       "      <td>0.0</td>\n",
       "      <td>9.0</td>\n",
       "    </tr>\n",
       "    <tr>\n",
       "      <th>4</th>\n",
       "      <td>ATL</td>\n",
       "      <td>2017-01-01 04:00:00</td>\n",
       "      <td>0.0</td>\n",
       "      <td>5.0</td>\n",
       "      <td>0.01</td>\n",
       "      <td>0.0</td>\n",
       "      <td>8.0</td>\n",
       "    </tr>\n",
       "  </tbody>\n",
       "</table>\n",
       "</div>"
      ],
      "text/plain": [
       "  station           valid_new  tmpf  vsby  p01i  gust  sknt\n",
       "0     ATL 2017-01-01 00:00:00   0.0   5.0  0.05  15.0  10.0\n",
       "1     ATL 2017-01-01 01:00:00   0.0   5.0  0.04  23.0  19.0\n",
       "2     ATL 2017-01-01 02:00:00   0.0   5.0  0.04   0.0   8.0\n",
       "3     ATL 2017-01-01 03:00:00   0.0   6.0  0.02   0.0   9.0\n",
       "4     ATL 2017-01-01 04:00:00   0.0   5.0  0.01   0.0   8.0"
      ]
     },
     "execution_count": 32,
     "metadata": {},
     "output_type": "execute_result"
    }
   ],
   "source": [
    "weather_df_new.head()"
   ]
  },
  {
   "cell_type": "code",
   "execution_count": 33,
   "metadata": {
    "ExecuteTime": {
     "end_time": "2019-07-26T18:28:56.739128Z",
     "start_time": "2019-07-26T18:28:56.394946Z"
    }
   },
   "outputs": [],
   "source": [
    "#combine the station name and datetime for easier / faster merging with flight data\n",
    "weather_df_new1 = pd.DataFrame()\n",
    "weather_df_new1['combined'] = weather_df_new['station'] + weather_df_new['valid_new'].astype(str)\n",
    "weather_df_new1['precip'] = weather_df_new['p01i']\n",
    "weather_df_new1['vis'] = weather_df_new['vsby']\n",
    "weather_df_new1['temp'] = weather_df_new['tmpf']\n",
    "weather_df_new1['wind'] = weather_df_new['sknt']"
   ]
  },
  {
   "cell_type": "code",
   "execution_count": 34,
   "metadata": {
    "ExecuteTime": {
     "end_time": "2019-07-26T18:28:57.801239Z",
     "start_time": "2019-07-26T18:28:57.787969Z"
    }
   },
   "outputs": [
    {
     "data": {
      "text/html": [
       "<div>\n",
       "<style scoped>\n",
       "    .dataframe tbody tr th:only-of-type {\n",
       "        vertical-align: middle;\n",
       "    }\n",
       "\n",
       "    .dataframe tbody tr th {\n",
       "        vertical-align: top;\n",
       "    }\n",
       "\n",
       "    .dataframe thead th {\n",
       "        text-align: right;\n",
       "    }\n",
       "</style>\n",
       "<table border=\"1\" class=\"dataframe\">\n",
       "  <thead>\n",
       "    <tr style=\"text-align: right;\">\n",
       "      <th></th>\n",
       "      <th>combined</th>\n",
       "      <th>precip</th>\n",
       "      <th>vis</th>\n",
       "      <th>temp</th>\n",
       "      <th>wind</th>\n",
       "    </tr>\n",
       "  </thead>\n",
       "  <tbody>\n",
       "    <tr>\n",
       "      <th>0</th>\n",
       "      <td>ATL2017-01-01 00:00:00</td>\n",
       "      <td>0.05</td>\n",
       "      <td>5.0</td>\n",
       "      <td>0.0</td>\n",
       "      <td>10.0</td>\n",
       "    </tr>\n",
       "    <tr>\n",
       "      <th>1</th>\n",
       "      <td>ATL2017-01-01 01:00:00</td>\n",
       "      <td>0.04</td>\n",
       "      <td>5.0</td>\n",
       "      <td>0.0</td>\n",
       "      <td>19.0</td>\n",
       "    </tr>\n",
       "    <tr>\n",
       "      <th>2</th>\n",
       "      <td>ATL2017-01-01 02:00:00</td>\n",
       "      <td>0.04</td>\n",
       "      <td>5.0</td>\n",
       "      <td>0.0</td>\n",
       "      <td>8.0</td>\n",
       "    </tr>\n",
       "    <tr>\n",
       "      <th>3</th>\n",
       "      <td>ATL2017-01-01 03:00:00</td>\n",
       "      <td>0.02</td>\n",
       "      <td>6.0</td>\n",
       "      <td>0.0</td>\n",
       "      <td>9.0</td>\n",
       "    </tr>\n",
       "    <tr>\n",
       "      <th>4</th>\n",
       "      <td>ATL2017-01-01 04:00:00</td>\n",
       "      <td>0.01</td>\n",
       "      <td>5.0</td>\n",
       "      <td>0.0</td>\n",
       "      <td>8.0</td>\n",
       "    </tr>\n",
       "  </tbody>\n",
       "</table>\n",
       "</div>"
      ],
      "text/plain": [
       "                 combined  precip  vis  temp  wind\n",
       "0  ATL2017-01-01 00:00:00    0.05  5.0   0.0  10.0\n",
       "1  ATL2017-01-01 01:00:00    0.04  5.0   0.0  19.0\n",
       "2  ATL2017-01-01 02:00:00    0.04  5.0   0.0   8.0\n",
       "3  ATL2017-01-01 03:00:00    0.02  6.0   0.0   9.0\n",
       "4  ATL2017-01-01 04:00:00    0.01  5.0   0.0   8.0"
      ]
     },
     "execution_count": 34,
     "metadata": {},
     "output_type": "execute_result"
    }
   ],
   "source": [
    "weather_df_new1.head()"
   ]
  },
  {
   "cell_type": "code",
   "execution_count": 35,
   "metadata": {
    "ExecuteTime": {
     "end_time": "2019-07-26T18:29:19.776719Z",
     "start_time": "2019-07-26T18:29:04.757468Z"
    }
   },
   "outputs": [],
   "source": [
    "#suming up the precipitation for last five hours\n",
    "sum_precip = []\n",
    "for row in range(len(weather_df_new1.precip) - 5):\n",
    "    rows_sum = sum(weather_df_new1.iloc[row:row + 5, 1].values)\n",
    "    sum_precip.append(rows_sum)"
   ]
  },
  {
   "cell_type": "code",
   "execution_count": 36,
   "metadata": {
    "ExecuteTime": {
     "end_time": "2019-07-26T18:29:21.763653Z",
     "start_time": "2019-07-26T18:29:21.753206Z"
    }
   },
   "outputs": [],
   "source": [
    "sum_precip.insert(0,0)\n",
    "sum_precip.insert(0,0)\n",
    "sum_precip.insert(0,0)\n",
    "sum_precip.insert(0,0)\n",
    "sum_precip.insert(0,0)"
   ]
  },
  {
   "cell_type": "code",
   "execution_count": 37,
   "metadata": {
    "ExecuteTime": {
     "end_time": "2019-07-26T18:29:42.242665Z",
     "start_time": "2019-07-26T18:29:25.644116Z"
    }
   },
   "outputs": [],
   "source": [
    "#Averaging the visability for last five hours\n",
    "ave_vis = []\n",
    "for row in range(len(weather_df_new1.vis) - 5):\n",
    "    rows_ave = np.mean(weather_df_new1.iloc[row:row + 5, 1].values)\n",
    "    ave_vis.append(rows_ave)"
   ]
  },
  {
   "cell_type": "code",
   "execution_count": 38,
   "metadata": {
    "ExecuteTime": {
     "end_time": "2019-07-26T18:29:43.131929Z",
     "start_time": "2019-07-26T18:29:43.127028Z"
    }
   },
   "outputs": [],
   "source": [
    "ave_vis.insert(0,0)\n",
    "ave_vis.insert(0,0)\n",
    "ave_vis.insert(0,0)\n",
    "ave_vis.insert(0,0)\n",
    "ave_vis.insert(0,0)"
   ]
  },
  {
   "cell_type": "code",
   "execution_count": 39,
   "metadata": {
    "ExecuteTime": {
     "end_time": "2019-07-26T18:29:44.220556Z",
     "start_time": "2019-07-26T18:29:44.188386Z"
    }
   },
   "outputs": [],
   "source": [
    "weather_df_new1['ave_vis'] = ave_vis"
   ]
  },
  {
   "cell_type": "code",
   "execution_count": 40,
   "metadata": {
    "ExecuteTime": {
     "end_time": "2019-07-26T18:29:46.031189Z",
     "start_time": "2019-07-26T18:29:45.997576Z"
    }
   },
   "outputs": [],
   "source": [
    "weather_df_new1['precip_sum'] = sum_precip"
   ]
  },
  {
   "cell_type": "code",
   "execution_count": 41,
   "metadata": {
    "ExecuteTime": {
     "end_time": "2019-07-26T18:29:47.123704Z",
     "start_time": "2019-07-26T18:29:47.077790Z"
    }
   },
   "outputs": [],
   "source": [
    "weather_df_new1 = weather_df_new1.drop(columns=['precip','vis'])"
   ]
  },
  {
   "cell_type": "code",
   "execution_count": 42,
   "metadata": {
    "ExecuteTime": {
     "end_time": "2019-07-26T18:29:47.971347Z",
     "start_time": "2019-07-26T18:29:47.960743Z"
    }
   },
   "outputs": [
    {
     "data": {
      "text/html": [
       "<div>\n",
       "<style scoped>\n",
       "    .dataframe tbody tr th:only-of-type {\n",
       "        vertical-align: middle;\n",
       "    }\n",
       "\n",
       "    .dataframe tbody tr th {\n",
       "        vertical-align: top;\n",
       "    }\n",
       "\n",
       "    .dataframe thead th {\n",
       "        text-align: right;\n",
       "    }\n",
       "</style>\n",
       "<table border=\"1\" class=\"dataframe\">\n",
       "  <thead>\n",
       "    <tr style=\"text-align: right;\">\n",
       "      <th></th>\n",
       "      <th>combined</th>\n",
       "      <th>temp</th>\n",
       "      <th>wind</th>\n",
       "      <th>ave_vis</th>\n",
       "      <th>precip_sum</th>\n",
       "    </tr>\n",
       "  </thead>\n",
       "  <tbody>\n",
       "    <tr>\n",
       "      <th>0</th>\n",
       "      <td>ATL2017-01-01 00:00:00</td>\n",
       "      <td>0.0</td>\n",
       "      <td>10.0</td>\n",
       "      <td>0.0</td>\n",
       "      <td>0.0</td>\n",
       "    </tr>\n",
       "    <tr>\n",
       "      <th>1</th>\n",
       "      <td>ATL2017-01-01 01:00:00</td>\n",
       "      <td>0.0</td>\n",
       "      <td>19.0</td>\n",
       "      <td>0.0</td>\n",
       "      <td>0.0</td>\n",
       "    </tr>\n",
       "    <tr>\n",
       "      <th>2</th>\n",
       "      <td>ATL2017-01-01 02:00:00</td>\n",
       "      <td>0.0</td>\n",
       "      <td>8.0</td>\n",
       "      <td>0.0</td>\n",
       "      <td>0.0</td>\n",
       "    </tr>\n",
       "    <tr>\n",
       "      <th>3</th>\n",
       "      <td>ATL2017-01-01 03:00:00</td>\n",
       "      <td>0.0</td>\n",
       "      <td>9.0</td>\n",
       "      <td>0.0</td>\n",
       "      <td>0.0</td>\n",
       "    </tr>\n",
       "    <tr>\n",
       "      <th>4</th>\n",
       "      <td>ATL2017-01-01 04:00:00</td>\n",
       "      <td>0.0</td>\n",
       "      <td>8.0</td>\n",
       "      <td>0.0</td>\n",
       "      <td>0.0</td>\n",
       "    </tr>\n",
       "  </tbody>\n",
       "</table>\n",
       "</div>"
      ],
      "text/plain": [
       "                 combined  temp  wind  ave_vis  precip_sum\n",
       "0  ATL2017-01-01 00:00:00   0.0  10.0      0.0         0.0\n",
       "1  ATL2017-01-01 01:00:00   0.0  19.0      0.0         0.0\n",
       "2  ATL2017-01-01 02:00:00   0.0   8.0      0.0         0.0\n",
       "3  ATL2017-01-01 03:00:00   0.0   9.0      0.0         0.0\n",
       "4  ATL2017-01-01 04:00:00   0.0   8.0      0.0         0.0"
      ]
     },
     "execution_count": 42,
     "metadata": {},
     "output_type": "execute_result"
    }
   ],
   "source": [
    "weather_df_new1.head()"
   ]
  },
  {
   "cell_type": "code",
   "execution_count": 43,
   "metadata": {
    "ExecuteTime": {
     "end_time": "2019-07-26T18:30:01.496867Z",
     "start_time": "2019-07-26T18:29:54.310709Z"
    }
   },
   "outputs": [],
   "source": [
    "#do the same in the flight data \n",
    "df['combined'] =  df['Origin'] + df['FL_TIME_NEW'].astype(str)"
   ]
  },
  {
   "cell_type": "code",
   "execution_count": 44,
   "metadata": {
    "ExecuteTime": {
     "end_time": "2019-07-26T18:30:09.731839Z",
     "start_time": "2019-07-26T18:30:09.687158Z"
    },
    "scrolled": true
   },
   "outputs": [
    {
     "data": {
      "text/html": [
       "<div>\n",
       "<style scoped>\n",
       "    .dataframe tbody tr th:only-of-type {\n",
       "        vertical-align: middle;\n",
       "    }\n",
       "\n",
       "    .dataframe tbody tr th {\n",
       "        vertical-align: top;\n",
       "    }\n",
       "\n",
       "    .dataframe thead th {\n",
       "        text-align: right;\n",
       "    }\n",
       "</style>\n",
       "<table border=\"1\" class=\"dataframe\">\n",
       "  <thead>\n",
       "    <tr style=\"text-align: right;\">\n",
       "      <th></th>\n",
       "      <th>Quarter</th>\n",
       "      <th>Month</th>\n",
       "      <th>DayofMonth</th>\n",
       "      <th>DayOfWeek</th>\n",
       "      <th>FlightDate</th>\n",
       "      <th>Reporting_Airline</th>\n",
       "      <th>Tail_Number</th>\n",
       "      <th>Flight_Number_Reporting_Airline</th>\n",
       "      <th>Origin</th>\n",
       "      <th>OriginState</th>\n",
       "      <th>...</th>\n",
       "      <th>Dest</th>\n",
       "      <th>CRSDepTime</th>\n",
       "      <th>CRSArrTime</th>\n",
       "      <th>CRSElapsedTime</th>\n",
       "      <th>ArrDelay</th>\n",
       "      <th>Distance</th>\n",
       "      <th>DistanceGroup</th>\n",
       "      <th>FL_TIME</th>\n",
       "      <th>FL_TIME_NEW</th>\n",
       "      <th>combined</th>\n",
       "    </tr>\n",
       "  </thead>\n",
       "  <tbody>\n",
       "    <tr>\n",
       "      <th>0</th>\n",
       "      <td>2</td>\n",
       "      <td>5</td>\n",
       "      <td>6</td>\n",
       "      <td>6</td>\n",
       "      <td>2017-05-06</td>\n",
       "      <td>WN</td>\n",
       "      <td>N7824A</td>\n",
       "      <td>4652</td>\n",
       "      <td>SJC</td>\n",
       "      <td>CA</td>\n",
       "      <td>...</td>\n",
       "      <td>SAN</td>\n",
       "      <td>650</td>\n",
       "      <td>810</td>\n",
       "      <td>80.0</td>\n",
       "      <td>2.0</td>\n",
       "      <td>417.0</td>\n",
       "      <td>2</td>\n",
       "      <td>2017-05-06 06:50:00</td>\n",
       "      <td>2017-05-06 06:00:00</td>\n",
       "      <td>SJC2017-05-06 06:00:00</td>\n",
       "    </tr>\n",
       "    <tr>\n",
       "      <th>1</th>\n",
       "      <td>2</td>\n",
       "      <td>5</td>\n",
       "      <td>6</td>\n",
       "      <td>6</td>\n",
       "      <td>2017-05-06</td>\n",
       "      <td>WN</td>\n",
       "      <td>N8522P</td>\n",
       "      <td>4971</td>\n",
       "      <td>SJC</td>\n",
       "      <td>CA</td>\n",
       "      <td>...</td>\n",
       "      <td>SAN</td>\n",
       "      <td>1710</td>\n",
       "      <td>1830</td>\n",
       "      <td>80.0</td>\n",
       "      <td>-7.0</td>\n",
       "      <td>417.0</td>\n",
       "      <td>2</td>\n",
       "      <td>2017-05-06 17:10:00</td>\n",
       "      <td>2017-05-06 17:00:00</td>\n",
       "      <td>SJC2017-05-06 17:00:00</td>\n",
       "    </tr>\n",
       "    <tr>\n",
       "      <th>2</th>\n",
       "      <td>2</td>\n",
       "      <td>5</td>\n",
       "      <td>6</td>\n",
       "      <td>6</td>\n",
       "      <td>2017-05-06</td>\n",
       "      <td>WN</td>\n",
       "      <td>N8617E</td>\n",
       "      <td>5113</td>\n",
       "      <td>SJC</td>\n",
       "      <td>CA</td>\n",
       "      <td>...</td>\n",
       "      <td>SAN</td>\n",
       "      <td>1100</td>\n",
       "      <td>1220</td>\n",
       "      <td>80.0</td>\n",
       "      <td>0.0</td>\n",
       "      <td>417.0</td>\n",
       "      <td>2</td>\n",
       "      <td>2017-05-06 11:00:00</td>\n",
       "      <td>2017-05-06 11:00:00</td>\n",
       "      <td>SJC2017-05-06 11:00:00</td>\n",
       "    </tr>\n",
       "    <tr>\n",
       "      <th>3</th>\n",
       "      <td>2</td>\n",
       "      <td>5</td>\n",
       "      <td>6</td>\n",
       "      <td>6</td>\n",
       "      <td>2017-05-06</td>\n",
       "      <td>WN</td>\n",
       "      <td>N450WN</td>\n",
       "      <td>5150</td>\n",
       "      <td>SJC</td>\n",
       "      <td>CA</td>\n",
       "      <td>...</td>\n",
       "      <td>SAN</td>\n",
       "      <td>2030</td>\n",
       "      <td>2150</td>\n",
       "      <td>80.0</td>\n",
       "      <td>1.0</td>\n",
       "      <td>417.0</td>\n",
       "      <td>2</td>\n",
       "      <td>2017-05-06 20:30:00</td>\n",
       "      <td>2017-05-06 20:00:00</td>\n",
       "      <td>SJC2017-05-06 20:00:00</td>\n",
       "    </tr>\n",
       "    <tr>\n",
       "      <th>4</th>\n",
       "      <td>2</td>\n",
       "      <td>5</td>\n",
       "      <td>6</td>\n",
       "      <td>6</td>\n",
       "      <td>2017-05-06</td>\n",
       "      <td>WN</td>\n",
       "      <td>N498WN</td>\n",
       "      <td>5711</td>\n",
       "      <td>SJC</td>\n",
       "      <td>CA</td>\n",
       "      <td>...</td>\n",
       "      <td>SAN</td>\n",
       "      <td>1325</td>\n",
       "      <td>1445</td>\n",
       "      <td>80.0</td>\n",
       "      <td>-2.0</td>\n",
       "      <td>417.0</td>\n",
       "      <td>2</td>\n",
       "      <td>2017-05-06 13:25:00</td>\n",
       "      <td>2017-05-06 13:00:00</td>\n",
       "      <td>SJC2017-05-06 13:00:00</td>\n",
       "    </tr>\n",
       "  </tbody>\n",
       "</table>\n",
       "<p>5 rows × 21 columns</p>\n",
       "</div>"
      ],
      "text/plain": [
       "   Quarter  Month  DayofMonth  DayOfWeek FlightDate Reporting_Airline  \\\n",
       "0        2      5           6          6 2017-05-06                WN   \n",
       "1        2      5           6          6 2017-05-06                WN   \n",
       "2        2      5           6          6 2017-05-06                WN   \n",
       "3        2      5           6          6 2017-05-06                WN   \n",
       "4        2      5           6          6 2017-05-06                WN   \n",
       "\n",
       "  Tail_Number  Flight_Number_Reporting_Airline Origin OriginState  \\\n",
       "0      N7824A                             4652    SJC          CA   \n",
       "1      N8522P                             4971    SJC          CA   \n",
       "2      N8617E                             5113    SJC          CA   \n",
       "3      N450WN                             5150    SJC          CA   \n",
       "4      N498WN                             5711    SJC          CA   \n",
       "\n",
       "            ...           Dest CRSDepTime  CRSArrTime  CRSElapsedTime  \\\n",
       "0           ...            SAN        650         810            80.0   \n",
       "1           ...            SAN       1710        1830            80.0   \n",
       "2           ...            SAN       1100        1220            80.0   \n",
       "3           ...            SAN       2030        2150            80.0   \n",
       "4           ...            SAN       1325        1445            80.0   \n",
       "\n",
       "   ArrDelay  Distance  DistanceGroup             FL_TIME         FL_TIME_NEW  \\\n",
       "0       2.0     417.0              2 2017-05-06 06:50:00 2017-05-06 06:00:00   \n",
       "1      -7.0     417.0              2 2017-05-06 17:10:00 2017-05-06 17:00:00   \n",
       "2       0.0     417.0              2 2017-05-06 11:00:00 2017-05-06 11:00:00   \n",
       "3       1.0     417.0              2 2017-05-06 20:30:00 2017-05-06 20:00:00   \n",
       "4      -2.0     417.0              2 2017-05-06 13:25:00 2017-05-06 13:00:00   \n",
       "\n",
       "                 combined  \n",
       "0  SJC2017-05-06 06:00:00  \n",
       "1  SJC2017-05-06 17:00:00  \n",
       "2  SJC2017-05-06 11:00:00  \n",
       "3  SJC2017-05-06 20:00:00  \n",
       "4  SJC2017-05-06 13:00:00  \n",
       "\n",
       "[5 rows x 21 columns]"
      ]
     },
     "execution_count": 44,
     "metadata": {},
     "output_type": "execute_result"
    }
   ],
   "source": [
    "df.head()"
   ]
  },
  {
   "cell_type": "code",
   "execution_count": 45,
   "metadata": {
    "ExecuteTime": {
     "end_time": "2019-07-26T18:30:20.999817Z",
     "start_time": "2019-07-26T18:30:17.160415Z"
    }
   },
   "outputs": [],
   "source": [
    "copy_df = df.copy()"
   ]
  },
  {
   "cell_type": "code",
   "execution_count": 46,
   "metadata": {
    "ExecuteTime": {
     "end_time": "2019-07-26T18:30:32.440228Z",
     "start_time": "2019-07-26T18:30:32.405116Z"
    }
   },
   "outputs": [
    {
     "data": {
      "text/html": [
       "<div>\n",
       "<style scoped>\n",
       "    .dataframe tbody tr th:only-of-type {\n",
       "        vertical-align: middle;\n",
       "    }\n",
       "\n",
       "    .dataframe tbody tr th {\n",
       "        vertical-align: top;\n",
       "    }\n",
       "\n",
       "    .dataframe thead th {\n",
       "        text-align: right;\n",
       "    }\n",
       "</style>\n",
       "<table border=\"1\" class=\"dataframe\">\n",
       "  <thead>\n",
       "    <tr style=\"text-align: right;\">\n",
       "      <th></th>\n",
       "      <th>Quarter</th>\n",
       "      <th>Month</th>\n",
       "      <th>DayofMonth</th>\n",
       "      <th>DayOfWeek</th>\n",
       "      <th>FlightDate</th>\n",
       "      <th>Reporting_Airline</th>\n",
       "      <th>Tail_Number</th>\n",
       "      <th>Flight_Number_Reporting_Airline</th>\n",
       "      <th>Origin</th>\n",
       "      <th>OriginState</th>\n",
       "      <th>...</th>\n",
       "      <th>Dest</th>\n",
       "      <th>CRSDepTime</th>\n",
       "      <th>CRSArrTime</th>\n",
       "      <th>CRSElapsedTime</th>\n",
       "      <th>ArrDelay</th>\n",
       "      <th>Distance</th>\n",
       "      <th>DistanceGroup</th>\n",
       "      <th>FL_TIME</th>\n",
       "      <th>FL_TIME_NEW</th>\n",
       "      <th>combined</th>\n",
       "    </tr>\n",
       "  </thead>\n",
       "  <tbody>\n",
       "    <tr>\n",
       "      <th>0</th>\n",
       "      <td>2</td>\n",
       "      <td>5</td>\n",
       "      <td>6</td>\n",
       "      <td>6</td>\n",
       "      <td>2017-05-06</td>\n",
       "      <td>WN</td>\n",
       "      <td>N7824A</td>\n",
       "      <td>4652</td>\n",
       "      <td>SJC</td>\n",
       "      <td>CA</td>\n",
       "      <td>...</td>\n",
       "      <td>SAN</td>\n",
       "      <td>650</td>\n",
       "      <td>810</td>\n",
       "      <td>80.0</td>\n",
       "      <td>2.0</td>\n",
       "      <td>417.0</td>\n",
       "      <td>2</td>\n",
       "      <td>2017-05-06 06:50:00</td>\n",
       "      <td>2017-05-06 06:00:00</td>\n",
       "      <td>SJC2017-05-06 06:00:00</td>\n",
       "    </tr>\n",
       "    <tr>\n",
       "      <th>1</th>\n",
       "      <td>2</td>\n",
       "      <td>5</td>\n",
       "      <td>6</td>\n",
       "      <td>6</td>\n",
       "      <td>2017-05-06</td>\n",
       "      <td>WN</td>\n",
       "      <td>N8522P</td>\n",
       "      <td>4971</td>\n",
       "      <td>SJC</td>\n",
       "      <td>CA</td>\n",
       "      <td>...</td>\n",
       "      <td>SAN</td>\n",
       "      <td>1710</td>\n",
       "      <td>1830</td>\n",
       "      <td>80.0</td>\n",
       "      <td>-7.0</td>\n",
       "      <td>417.0</td>\n",
       "      <td>2</td>\n",
       "      <td>2017-05-06 17:10:00</td>\n",
       "      <td>2017-05-06 17:00:00</td>\n",
       "      <td>SJC2017-05-06 17:00:00</td>\n",
       "    </tr>\n",
       "    <tr>\n",
       "      <th>2</th>\n",
       "      <td>2</td>\n",
       "      <td>5</td>\n",
       "      <td>6</td>\n",
       "      <td>6</td>\n",
       "      <td>2017-05-06</td>\n",
       "      <td>WN</td>\n",
       "      <td>N8617E</td>\n",
       "      <td>5113</td>\n",
       "      <td>SJC</td>\n",
       "      <td>CA</td>\n",
       "      <td>...</td>\n",
       "      <td>SAN</td>\n",
       "      <td>1100</td>\n",
       "      <td>1220</td>\n",
       "      <td>80.0</td>\n",
       "      <td>0.0</td>\n",
       "      <td>417.0</td>\n",
       "      <td>2</td>\n",
       "      <td>2017-05-06 11:00:00</td>\n",
       "      <td>2017-05-06 11:00:00</td>\n",
       "      <td>SJC2017-05-06 11:00:00</td>\n",
       "    </tr>\n",
       "    <tr>\n",
       "      <th>3</th>\n",
       "      <td>2</td>\n",
       "      <td>5</td>\n",
       "      <td>6</td>\n",
       "      <td>6</td>\n",
       "      <td>2017-05-06</td>\n",
       "      <td>WN</td>\n",
       "      <td>N450WN</td>\n",
       "      <td>5150</td>\n",
       "      <td>SJC</td>\n",
       "      <td>CA</td>\n",
       "      <td>...</td>\n",
       "      <td>SAN</td>\n",
       "      <td>2030</td>\n",
       "      <td>2150</td>\n",
       "      <td>80.0</td>\n",
       "      <td>1.0</td>\n",
       "      <td>417.0</td>\n",
       "      <td>2</td>\n",
       "      <td>2017-05-06 20:30:00</td>\n",
       "      <td>2017-05-06 20:00:00</td>\n",
       "      <td>SJC2017-05-06 20:00:00</td>\n",
       "    </tr>\n",
       "    <tr>\n",
       "      <th>4</th>\n",
       "      <td>2</td>\n",
       "      <td>5</td>\n",
       "      <td>6</td>\n",
       "      <td>6</td>\n",
       "      <td>2017-05-06</td>\n",
       "      <td>WN</td>\n",
       "      <td>N498WN</td>\n",
       "      <td>5711</td>\n",
       "      <td>SJC</td>\n",
       "      <td>CA</td>\n",
       "      <td>...</td>\n",
       "      <td>SAN</td>\n",
       "      <td>1325</td>\n",
       "      <td>1445</td>\n",
       "      <td>80.0</td>\n",
       "      <td>-2.0</td>\n",
       "      <td>417.0</td>\n",
       "      <td>2</td>\n",
       "      <td>2017-05-06 13:25:00</td>\n",
       "      <td>2017-05-06 13:00:00</td>\n",
       "      <td>SJC2017-05-06 13:00:00</td>\n",
       "    </tr>\n",
       "  </tbody>\n",
       "</table>\n",
       "<p>5 rows × 21 columns</p>\n",
       "</div>"
      ],
      "text/plain": [
       "   Quarter  Month  DayofMonth  DayOfWeek FlightDate Reporting_Airline  \\\n",
       "0        2      5           6          6 2017-05-06                WN   \n",
       "1        2      5           6          6 2017-05-06                WN   \n",
       "2        2      5           6          6 2017-05-06                WN   \n",
       "3        2      5           6          6 2017-05-06                WN   \n",
       "4        2      5           6          6 2017-05-06                WN   \n",
       "\n",
       "  Tail_Number  Flight_Number_Reporting_Airline Origin OriginState  \\\n",
       "0      N7824A                             4652    SJC          CA   \n",
       "1      N8522P                             4971    SJC          CA   \n",
       "2      N8617E                             5113    SJC          CA   \n",
       "3      N450WN                             5150    SJC          CA   \n",
       "4      N498WN                             5711    SJC          CA   \n",
       "\n",
       "            ...           Dest CRSDepTime  CRSArrTime  CRSElapsedTime  \\\n",
       "0           ...            SAN        650         810            80.0   \n",
       "1           ...            SAN       1710        1830            80.0   \n",
       "2           ...            SAN       1100        1220            80.0   \n",
       "3           ...            SAN       2030        2150            80.0   \n",
       "4           ...            SAN       1325        1445            80.0   \n",
       "\n",
       "   ArrDelay  Distance  DistanceGroup             FL_TIME         FL_TIME_NEW  \\\n",
       "0       2.0     417.0              2 2017-05-06 06:50:00 2017-05-06 06:00:00   \n",
       "1      -7.0     417.0              2 2017-05-06 17:10:00 2017-05-06 17:00:00   \n",
       "2       0.0     417.0              2 2017-05-06 11:00:00 2017-05-06 11:00:00   \n",
       "3       1.0     417.0              2 2017-05-06 20:30:00 2017-05-06 20:00:00   \n",
       "4      -2.0     417.0              2 2017-05-06 13:25:00 2017-05-06 13:00:00   \n",
       "\n",
       "                 combined  \n",
       "0  SJC2017-05-06 06:00:00  \n",
       "1  SJC2017-05-06 17:00:00  \n",
       "2  SJC2017-05-06 11:00:00  \n",
       "3  SJC2017-05-06 20:00:00  \n",
       "4  SJC2017-05-06 13:00:00  \n",
       "\n",
       "[5 rows x 21 columns]"
      ]
     },
     "execution_count": 46,
     "metadata": {},
     "output_type": "execute_result"
    }
   ],
   "source": [
    "copy_df.head()"
   ]
  },
  {
   "cell_type": "code",
   "execution_count": 47,
   "metadata": {
    "ExecuteTime": {
     "end_time": "2019-07-26T18:30:43.445036Z",
     "start_time": "2019-07-26T18:30:43.429110Z"
    }
   },
   "outputs": [
    {
     "data": {
      "text/html": [
       "<div>\n",
       "<style scoped>\n",
       "    .dataframe tbody tr th:only-of-type {\n",
       "        vertical-align: middle;\n",
       "    }\n",
       "\n",
       "    .dataframe tbody tr th {\n",
       "        vertical-align: top;\n",
       "    }\n",
       "\n",
       "    .dataframe thead th {\n",
       "        text-align: right;\n",
       "    }\n",
       "</style>\n",
       "<table border=\"1\" class=\"dataframe\">\n",
       "  <thead>\n",
       "    <tr style=\"text-align: right;\">\n",
       "      <th></th>\n",
       "      <th>combined</th>\n",
       "      <th>temp</th>\n",
       "      <th>wind</th>\n",
       "      <th>ave_vis</th>\n",
       "      <th>precip_sum</th>\n",
       "    </tr>\n",
       "  </thead>\n",
       "  <tbody>\n",
       "    <tr>\n",
       "      <th>0</th>\n",
       "      <td>ATL2017-01-01 00:00:00</td>\n",
       "      <td>0.0</td>\n",
       "      <td>10.0</td>\n",
       "      <td>0.0</td>\n",
       "      <td>0.0</td>\n",
       "    </tr>\n",
       "    <tr>\n",
       "      <th>1</th>\n",
       "      <td>ATL2017-01-01 01:00:00</td>\n",
       "      <td>0.0</td>\n",
       "      <td>19.0</td>\n",
       "      <td>0.0</td>\n",
       "      <td>0.0</td>\n",
       "    </tr>\n",
       "    <tr>\n",
       "      <th>2</th>\n",
       "      <td>ATL2017-01-01 02:00:00</td>\n",
       "      <td>0.0</td>\n",
       "      <td>8.0</td>\n",
       "      <td>0.0</td>\n",
       "      <td>0.0</td>\n",
       "    </tr>\n",
       "    <tr>\n",
       "      <th>3</th>\n",
       "      <td>ATL2017-01-01 03:00:00</td>\n",
       "      <td>0.0</td>\n",
       "      <td>9.0</td>\n",
       "      <td>0.0</td>\n",
       "      <td>0.0</td>\n",
       "    </tr>\n",
       "    <tr>\n",
       "      <th>4</th>\n",
       "      <td>ATL2017-01-01 04:00:00</td>\n",
       "      <td>0.0</td>\n",
       "      <td>8.0</td>\n",
       "      <td>0.0</td>\n",
       "      <td>0.0</td>\n",
       "    </tr>\n",
       "  </tbody>\n",
       "</table>\n",
       "</div>"
      ],
      "text/plain": [
       "                 combined  temp  wind  ave_vis  precip_sum\n",
       "0  ATL2017-01-01 00:00:00   0.0  10.0      0.0         0.0\n",
       "1  ATL2017-01-01 01:00:00   0.0  19.0      0.0         0.0\n",
       "2  ATL2017-01-01 02:00:00   0.0   8.0      0.0         0.0\n",
       "3  ATL2017-01-01 03:00:00   0.0   9.0      0.0         0.0\n",
       "4  ATL2017-01-01 04:00:00   0.0   8.0      0.0         0.0"
      ]
     },
     "execution_count": 47,
     "metadata": {},
     "output_type": "execute_result"
    }
   ],
   "source": [
    "weather_df_new1.head()"
   ]
  },
  {
   "cell_type": "code",
   "execution_count": 48,
   "metadata": {
    "ExecuteTime": {
     "end_time": "2019-07-26T18:30:59.485544Z",
     "start_time": "2019-07-26T18:30:59.478648Z"
    }
   },
   "outputs": [],
   "source": [
    "#mapping the weather data to the flight dataframe"
   ]
  },
  {
   "cell_type": "code",
   "execution_count": 49,
   "metadata": {
    "ExecuteTime": {
     "end_time": "2019-07-26T18:31:09.939409Z",
     "start_time": "2019-07-26T18:31:09.674435Z"
    }
   },
   "outputs": [],
   "source": [
    "weather_df_new1['zip'] = list(zip(weather_df_new1.temp, weather_df_new1.wind, weather_df_new1.ave_vis,\n",
    "                                  weather_df_new1.precip_sum))"
   ]
  },
  {
   "cell_type": "code",
   "execution_count": 50,
   "metadata": {
    "ExecuteTime": {
     "end_time": "2019-07-26T18:31:23.905227Z",
     "start_time": "2019-07-26T18:31:23.878618Z"
    }
   },
   "outputs": [
    {
     "data": {
      "text/html": [
       "<div>\n",
       "<style scoped>\n",
       "    .dataframe tbody tr th:only-of-type {\n",
       "        vertical-align: middle;\n",
       "    }\n",
       "\n",
       "    .dataframe tbody tr th {\n",
       "        vertical-align: top;\n",
       "    }\n",
       "\n",
       "    .dataframe thead th {\n",
       "        text-align: right;\n",
       "    }\n",
       "</style>\n",
       "<table border=\"1\" class=\"dataframe\">\n",
       "  <thead>\n",
       "    <tr style=\"text-align: right;\">\n",
       "      <th></th>\n",
       "      <th>combined</th>\n",
       "      <th>temp</th>\n",
       "      <th>wind</th>\n",
       "      <th>ave_vis</th>\n",
       "      <th>precip_sum</th>\n",
       "      <th>zip</th>\n",
       "    </tr>\n",
       "  </thead>\n",
       "  <tbody>\n",
       "    <tr>\n",
       "      <th>0</th>\n",
       "      <td>ATL2017-01-01 00:00:00</td>\n",
       "      <td>0.0</td>\n",
       "      <td>10.0</td>\n",
       "      <td>0.0</td>\n",
       "      <td>0.0</td>\n",
       "      <td>(0.0, 10.0, 0.0, 0.0)</td>\n",
       "    </tr>\n",
       "    <tr>\n",
       "      <th>1</th>\n",
       "      <td>ATL2017-01-01 01:00:00</td>\n",
       "      <td>0.0</td>\n",
       "      <td>19.0</td>\n",
       "      <td>0.0</td>\n",
       "      <td>0.0</td>\n",
       "      <td>(0.0, 19.0, 0.0, 0.0)</td>\n",
       "    </tr>\n",
       "    <tr>\n",
       "      <th>2</th>\n",
       "      <td>ATL2017-01-01 02:00:00</td>\n",
       "      <td>0.0</td>\n",
       "      <td>8.0</td>\n",
       "      <td>0.0</td>\n",
       "      <td>0.0</td>\n",
       "      <td>(0.0, 8.0, 0.0, 0.0)</td>\n",
       "    </tr>\n",
       "    <tr>\n",
       "      <th>3</th>\n",
       "      <td>ATL2017-01-01 03:00:00</td>\n",
       "      <td>0.0</td>\n",
       "      <td>9.0</td>\n",
       "      <td>0.0</td>\n",
       "      <td>0.0</td>\n",
       "      <td>(0.0, 9.0, 0.0, 0.0)</td>\n",
       "    </tr>\n",
       "    <tr>\n",
       "      <th>4</th>\n",
       "      <td>ATL2017-01-01 04:00:00</td>\n",
       "      <td>0.0</td>\n",
       "      <td>8.0</td>\n",
       "      <td>0.0</td>\n",
       "      <td>0.0</td>\n",
       "      <td>(0.0, 8.0, 0.0, 0.0)</td>\n",
       "    </tr>\n",
       "  </tbody>\n",
       "</table>\n",
       "</div>"
      ],
      "text/plain": [
       "                 combined  temp  wind  ave_vis  precip_sum  \\\n",
       "0  ATL2017-01-01 00:00:00   0.0  10.0      0.0         0.0   \n",
       "1  ATL2017-01-01 01:00:00   0.0  19.0      0.0         0.0   \n",
       "2  ATL2017-01-01 02:00:00   0.0   8.0      0.0         0.0   \n",
       "3  ATL2017-01-01 03:00:00   0.0   9.0      0.0         0.0   \n",
       "4  ATL2017-01-01 04:00:00   0.0   8.0      0.0         0.0   \n",
       "\n",
       "                     zip  \n",
       "0  (0.0, 10.0, 0.0, 0.0)  \n",
       "1  (0.0, 19.0, 0.0, 0.0)  \n",
       "2   (0.0, 8.0, 0.0, 0.0)  \n",
       "3   (0.0, 9.0, 0.0, 0.0)  \n",
       "4   (0.0, 8.0, 0.0, 0.0)  "
      ]
     },
     "execution_count": 50,
     "metadata": {},
     "output_type": "execute_result"
    }
   ],
   "source": [
    "weather_df_new1.head()"
   ]
  },
  {
   "cell_type": "code",
   "execution_count": 51,
   "metadata": {
    "ExecuteTime": {
     "end_time": "2019-07-26T18:31:35.950554Z",
     "start_time": "2019-07-26T18:31:35.755801Z"
    }
   },
   "outputs": [],
   "source": [
    "look_up = weather_df_new1.copy().drop(columns=['temp','wind','ave_vis','precip_sum'])"
   ]
  },
  {
   "cell_type": "code",
   "execution_count": 52,
   "metadata": {
    "ExecuteTime": {
     "end_time": "2019-07-26T18:31:48.602152Z",
     "start_time": "2019-07-26T18:31:48.513227Z"
    }
   },
   "outputs": [],
   "source": [
    "look_up = look_up.set_index('combined')"
   ]
  },
  {
   "cell_type": "code",
   "execution_count": 53,
   "metadata": {
    "ExecuteTime": {
     "end_time": "2019-07-26T18:32:00.257934Z",
     "start_time": "2019-07-26T18:32:00.232110Z"
    }
   },
   "outputs": [
    {
     "data": {
      "text/html": [
       "<div>\n",
       "<style scoped>\n",
       "    .dataframe tbody tr th:only-of-type {\n",
       "        vertical-align: middle;\n",
       "    }\n",
       "\n",
       "    .dataframe tbody tr th {\n",
       "        vertical-align: top;\n",
       "    }\n",
       "\n",
       "    .dataframe thead th {\n",
       "        text-align: right;\n",
       "    }\n",
       "</style>\n",
       "<table border=\"1\" class=\"dataframe\">\n",
       "  <thead>\n",
       "    <tr style=\"text-align: right;\">\n",
       "      <th></th>\n",
       "      <th>zip</th>\n",
       "    </tr>\n",
       "    <tr>\n",
       "      <th>combined</th>\n",
       "      <th></th>\n",
       "    </tr>\n",
       "  </thead>\n",
       "  <tbody>\n",
       "    <tr>\n",
       "      <th>ATL2017-01-01 00:00:00</th>\n",
       "      <td>(0.0, 10.0, 0.0, 0.0)</td>\n",
       "    </tr>\n",
       "    <tr>\n",
       "      <th>ATL2017-01-01 01:00:00</th>\n",
       "      <td>(0.0, 19.0, 0.0, 0.0)</td>\n",
       "    </tr>\n",
       "    <tr>\n",
       "      <th>ATL2017-01-01 02:00:00</th>\n",
       "      <td>(0.0, 8.0, 0.0, 0.0)</td>\n",
       "    </tr>\n",
       "    <tr>\n",
       "      <th>ATL2017-01-01 03:00:00</th>\n",
       "      <td>(0.0, 9.0, 0.0, 0.0)</td>\n",
       "    </tr>\n",
       "    <tr>\n",
       "      <th>ATL2017-01-01 04:00:00</th>\n",
       "      <td>(0.0, 8.0, 0.0, 0.0)</td>\n",
       "    </tr>\n",
       "  </tbody>\n",
       "</table>\n",
       "</div>"
      ],
      "text/plain": [
       "                                          zip\n",
       "combined                                     \n",
       "ATL2017-01-01 00:00:00  (0.0, 10.0, 0.0, 0.0)\n",
       "ATL2017-01-01 01:00:00  (0.0, 19.0, 0.0, 0.0)\n",
       "ATL2017-01-01 02:00:00   (0.0, 8.0, 0.0, 0.0)\n",
       "ATL2017-01-01 03:00:00   (0.0, 9.0, 0.0, 0.0)\n",
       "ATL2017-01-01 04:00:00   (0.0, 8.0, 0.0, 0.0)"
      ]
     },
     "execution_count": 53,
     "metadata": {},
     "output_type": "execute_result"
    }
   ],
   "source": [
    "look_up.head()"
   ]
  },
  {
   "cell_type": "code",
   "execution_count": 54,
   "metadata": {
    "ExecuteTime": {
     "end_time": "2019-07-26T18:32:16.671061Z",
     "start_time": "2019-07-26T18:32:16.532953Z"
    }
   },
   "outputs": [],
   "source": [
    "weather_dict = look_up.to_dict()['zip']"
   ]
  },
  {
   "cell_type": "code",
   "execution_count": 55,
   "metadata": {
    "ExecuteTime": {
     "end_time": "2019-07-26T18:32:28.529514Z",
     "start_time": "2019-07-26T18:32:27.136307Z"
    }
   },
   "outputs": [],
   "source": [
    "copy_df['zipped'] = copy_df.combined.map(weather_dict)"
   ]
  },
  {
   "cell_type": "code",
   "execution_count": 56,
   "metadata": {
    "ExecuteTime": {
     "end_time": "2019-07-26T18:32:53.884832Z",
     "start_time": "2019-07-26T18:32:44.317192Z"
    },
    "scrolled": true
   },
   "outputs": [],
   "source": [
    "copy_df = copy_df.fillna(0)"
   ]
  },
  {
   "cell_type": "code",
   "execution_count": 57,
   "metadata": {
    "ExecuteTime": {
     "end_time": "2019-07-26T18:33:07.530128Z",
     "start_time": "2019-07-26T18:33:06.370842Z"
    }
   },
   "outputs": [],
   "source": [
    "copy_df['zipped'] = copy_df.zipped.apply(lambda x: (0,0,0,0) if x==0 else x)"
   ]
  },
  {
   "cell_type": "code",
   "execution_count": 58,
   "metadata": {
    "ExecuteTime": {
     "end_time": "2019-07-26T18:33:23.300612Z",
     "start_time": "2019-07-26T18:33:20.848631Z"
    }
   },
   "outputs": [],
   "source": [
    " copy_df[['tempF','wind','ave_vis','precip_sum']] = pd.DataFrame(copy_df['zipped'].tolist(), index=df.index)                                                                                                                       "
   ]
  },
  {
   "cell_type": "code",
   "execution_count": 59,
   "metadata": {
    "ExecuteTime": {
     "end_time": "2019-07-26T18:33:41.406798Z",
     "start_time": "2019-07-26T18:33:41.365044Z"
    }
   },
   "outputs": [
    {
     "data": {
      "text/html": [
       "<div>\n",
       "<style scoped>\n",
       "    .dataframe tbody tr th:only-of-type {\n",
       "        vertical-align: middle;\n",
       "    }\n",
       "\n",
       "    .dataframe tbody tr th {\n",
       "        vertical-align: top;\n",
       "    }\n",
       "\n",
       "    .dataframe thead th {\n",
       "        text-align: right;\n",
       "    }\n",
       "</style>\n",
       "<table border=\"1\" class=\"dataframe\">\n",
       "  <thead>\n",
       "    <tr style=\"text-align: right;\">\n",
       "      <th></th>\n",
       "      <th>Quarter</th>\n",
       "      <th>Month</th>\n",
       "      <th>DayofMonth</th>\n",
       "      <th>DayOfWeek</th>\n",
       "      <th>FlightDate</th>\n",
       "      <th>Reporting_Airline</th>\n",
       "      <th>Tail_Number</th>\n",
       "      <th>Flight_Number_Reporting_Airline</th>\n",
       "      <th>Origin</th>\n",
       "      <th>OriginState</th>\n",
       "      <th>...</th>\n",
       "      <th>Distance</th>\n",
       "      <th>DistanceGroup</th>\n",
       "      <th>FL_TIME</th>\n",
       "      <th>FL_TIME_NEW</th>\n",
       "      <th>combined</th>\n",
       "      <th>zipped</th>\n",
       "      <th>tempF</th>\n",
       "      <th>wind</th>\n",
       "      <th>ave_vis</th>\n",
       "      <th>precip_sum</th>\n",
       "    </tr>\n",
       "  </thead>\n",
       "  <tbody>\n",
       "    <tr>\n",
       "      <th>0</th>\n",
       "      <td>2</td>\n",
       "      <td>5</td>\n",
       "      <td>6</td>\n",
       "      <td>6</td>\n",
       "      <td>2017-05-06</td>\n",
       "      <td>WN</td>\n",
       "      <td>N7824A</td>\n",
       "      <td>4652</td>\n",
       "      <td>SJC</td>\n",
       "      <td>CA</td>\n",
       "      <td>...</td>\n",
       "      <td>417.0</td>\n",
       "      <td>2</td>\n",
       "      <td>2017-05-06 06:50:00</td>\n",
       "      <td>2017-05-06 06:00:00</td>\n",
       "      <td>SJC2017-05-06 06:00:00</td>\n",
       "      <td>(0, 0, 0, 0)</td>\n",
       "      <td>0.0</td>\n",
       "      <td>0.0</td>\n",
       "      <td>0.0</td>\n",
       "      <td>0.0</td>\n",
       "    </tr>\n",
       "    <tr>\n",
       "      <th>1</th>\n",
       "      <td>2</td>\n",
       "      <td>5</td>\n",
       "      <td>6</td>\n",
       "      <td>6</td>\n",
       "      <td>2017-05-06</td>\n",
       "      <td>WN</td>\n",
       "      <td>N8522P</td>\n",
       "      <td>4971</td>\n",
       "      <td>SJC</td>\n",
       "      <td>CA</td>\n",
       "      <td>...</td>\n",
       "      <td>417.0</td>\n",
       "      <td>2</td>\n",
       "      <td>2017-05-06 17:10:00</td>\n",
       "      <td>2017-05-06 17:00:00</td>\n",
       "      <td>SJC2017-05-06 17:00:00</td>\n",
       "      <td>(0, 0, 0, 0)</td>\n",
       "      <td>0.0</td>\n",
       "      <td>0.0</td>\n",
       "      <td>0.0</td>\n",
       "      <td>0.0</td>\n",
       "    </tr>\n",
       "    <tr>\n",
       "      <th>2</th>\n",
       "      <td>2</td>\n",
       "      <td>5</td>\n",
       "      <td>6</td>\n",
       "      <td>6</td>\n",
       "      <td>2017-05-06</td>\n",
       "      <td>WN</td>\n",
       "      <td>N8617E</td>\n",
       "      <td>5113</td>\n",
       "      <td>SJC</td>\n",
       "      <td>CA</td>\n",
       "      <td>...</td>\n",
       "      <td>417.0</td>\n",
       "      <td>2</td>\n",
       "      <td>2017-05-06 11:00:00</td>\n",
       "      <td>2017-05-06 11:00:00</td>\n",
       "      <td>SJC2017-05-06 11:00:00</td>\n",
       "      <td>(0, 0, 0, 0)</td>\n",
       "      <td>0.0</td>\n",
       "      <td>0.0</td>\n",
       "      <td>0.0</td>\n",
       "      <td>0.0</td>\n",
       "    </tr>\n",
       "    <tr>\n",
       "      <th>3</th>\n",
       "      <td>2</td>\n",
       "      <td>5</td>\n",
       "      <td>6</td>\n",
       "      <td>6</td>\n",
       "      <td>2017-05-06</td>\n",
       "      <td>WN</td>\n",
       "      <td>N450WN</td>\n",
       "      <td>5150</td>\n",
       "      <td>SJC</td>\n",
       "      <td>CA</td>\n",
       "      <td>...</td>\n",
       "      <td>417.0</td>\n",
       "      <td>2</td>\n",
       "      <td>2017-05-06 20:30:00</td>\n",
       "      <td>2017-05-06 20:00:00</td>\n",
       "      <td>SJC2017-05-06 20:00:00</td>\n",
       "      <td>(0, 0, 0, 0)</td>\n",
       "      <td>0.0</td>\n",
       "      <td>0.0</td>\n",
       "      <td>0.0</td>\n",
       "      <td>0.0</td>\n",
       "    </tr>\n",
       "    <tr>\n",
       "      <th>4</th>\n",
       "      <td>2</td>\n",
       "      <td>5</td>\n",
       "      <td>6</td>\n",
       "      <td>6</td>\n",
       "      <td>2017-05-06</td>\n",
       "      <td>WN</td>\n",
       "      <td>N498WN</td>\n",
       "      <td>5711</td>\n",
       "      <td>SJC</td>\n",
       "      <td>CA</td>\n",
       "      <td>...</td>\n",
       "      <td>417.0</td>\n",
       "      <td>2</td>\n",
       "      <td>2017-05-06 13:25:00</td>\n",
       "      <td>2017-05-06 13:00:00</td>\n",
       "      <td>SJC2017-05-06 13:00:00</td>\n",
       "      <td>(0, 0, 0, 0)</td>\n",
       "      <td>0.0</td>\n",
       "      <td>0.0</td>\n",
       "      <td>0.0</td>\n",
       "      <td>0.0</td>\n",
       "    </tr>\n",
       "  </tbody>\n",
       "</table>\n",
       "<p>5 rows × 26 columns</p>\n",
       "</div>"
      ],
      "text/plain": [
       "   Quarter  Month  DayofMonth  DayOfWeek FlightDate Reporting_Airline  \\\n",
       "0        2      5           6          6 2017-05-06                WN   \n",
       "1        2      5           6          6 2017-05-06                WN   \n",
       "2        2      5           6          6 2017-05-06                WN   \n",
       "3        2      5           6          6 2017-05-06                WN   \n",
       "4        2      5           6          6 2017-05-06                WN   \n",
       "\n",
       "  Tail_Number  Flight_Number_Reporting_Airline Origin OriginState    ...      \\\n",
       "0      N7824A                             4652    SJC          CA    ...       \n",
       "1      N8522P                             4971    SJC          CA    ...       \n",
       "2      N8617E                             5113    SJC          CA    ...       \n",
       "3      N450WN                             5150    SJC          CA    ...       \n",
       "4      N498WN                             5711    SJC          CA    ...       \n",
       "\n",
       "  Distance DistanceGroup             FL_TIME         FL_TIME_NEW  \\\n",
       "0    417.0             2 2017-05-06 06:50:00 2017-05-06 06:00:00   \n",
       "1    417.0             2 2017-05-06 17:10:00 2017-05-06 17:00:00   \n",
       "2    417.0             2 2017-05-06 11:00:00 2017-05-06 11:00:00   \n",
       "3    417.0             2 2017-05-06 20:30:00 2017-05-06 20:00:00   \n",
       "4    417.0             2 2017-05-06 13:25:00 2017-05-06 13:00:00   \n",
       "\n",
       "                 combined        zipped  tempF  wind ave_vis precip_sum  \n",
       "0  SJC2017-05-06 06:00:00  (0, 0, 0, 0)    0.0   0.0     0.0        0.0  \n",
       "1  SJC2017-05-06 17:00:00  (0, 0, 0, 0)    0.0   0.0     0.0        0.0  \n",
       "2  SJC2017-05-06 11:00:00  (0, 0, 0, 0)    0.0   0.0     0.0        0.0  \n",
       "3  SJC2017-05-06 20:00:00  (0, 0, 0, 0)    0.0   0.0     0.0        0.0  \n",
       "4  SJC2017-05-06 13:00:00  (0, 0, 0, 0)    0.0   0.0     0.0        0.0  \n",
       "\n",
       "[5 rows x 26 columns]"
      ]
     },
     "execution_count": 59,
     "metadata": {},
     "output_type": "execute_result"
    }
   ],
   "source": [
    "copy_df.head()"
   ]
  },
  {
   "cell_type": "code",
   "execution_count": null,
   "metadata": {},
   "outputs": [],
   "source": []
  },
  {
   "cell_type": "code",
   "execution_count": 78,
   "metadata": {
    "ExecuteTime": {
     "end_time": "2019-05-12T03:48:32.214233Z",
     "start_time": "2019-05-12T03:46:01.125001Z"
    }
   },
   "outputs": [],
   "source": [
    "#export the dataframe as a csv to model\n",
    "copy_df.to_csv(f'{flight_path}2017NEW.csv', index = False, encoding = 'utf-8')"
   ]
  },
  {
   "cell_type": "code",
   "execution_count": null,
   "metadata": {},
   "outputs": [],
   "source": []
  }
 ],
 "metadata": {
  "kernelspec": {
   "display_name": "Python 3",
   "language": "python",
   "name": "python3"
  },
  "language_info": {
   "codemirror_mode": {
    "name": "ipython",
    "version": 3
   },
   "file_extension": ".py",
   "mimetype": "text/x-python",
   "name": "python",
   "nbconvert_exporter": "python",
   "pygments_lexer": "ipython3",
   "version": "3.7.1"
  },
  "toc": {
   "base_numbering": 1,
   "nav_menu": {},
   "number_sections": true,
   "sideBar": true,
   "skip_h1_title": false,
   "title_cell": "Table of Contents",
   "title_sidebar": "Contents",
   "toc_cell": false,
   "toc_position": {},
   "toc_section_display": true,
   "toc_window_display": false
  },
  "varInspector": {
   "cols": {
    "lenName": 16,
    "lenType": 16,
    "lenVar": 40
   },
   "kernels_config": {
    "python": {
     "delete_cmd_postfix": "",
     "delete_cmd_prefix": "del ",
     "library": "var_list.py",
     "varRefreshCmd": "print(var_dic_list())"
    },
    "r": {
     "delete_cmd_postfix": ") ",
     "delete_cmd_prefix": "rm(",
     "library": "var_list.r",
     "varRefreshCmd": "cat(var_dic_list()) "
    }
   },
   "types_to_exclude": [
    "module",
    "function",
    "builtin_function_or_method",
    "instance",
    "_Feature"
   ],
   "window_display": false
  }
 },
 "nbformat": 4,
 "nbformat_minor": 2
}
